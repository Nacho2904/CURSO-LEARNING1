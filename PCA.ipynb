{
  "nbformat": 4,
  "nbformat_minor": 0,
  "metadata": {
    "colab": {
      "provenance": [],
      "collapsed_sections": [
        "iTaGUur2mO5T",
        "GXue5coK730h",
        "0D5iLV00JPj5"
      ],
      "authorship_tag": "ABX9TyOS1+wC32Hi6nVI/jlYarUz",
      "include_colab_link": true
    },
    "kernelspec": {
      "name": "python3",
      "display_name": "Python 3"
    },
    "language_info": {
      "name": "python"
    },
    "accelerator": "GPU"
  },
  "cells": [
    {
      "cell_type": "markdown",
      "metadata": {
        "id": "view-in-github",
        "colab_type": "text"
      },
      "source": [
        "<a href=\"https://colab.research.google.com/github/Nacho2904/CURSO-LEARNING1/blob/tareas/PCA.ipynb\" target=\"_parent\"><img src=\"https://colab.research.google.com/assets/colab-badge.svg\" alt=\"Open In Colab\"/></a>"
      ]
    },
    {
      "cell_type": "markdown",
      "source": [
        "# Tarea de PCA"
      ],
      "metadata": {
        "id": "kpfKkFxTlotc"
      }
    },
    {
      "cell_type": "markdown",
      "source": [
        "## Setup"
      ],
      "metadata": {
        "id": "xj6WqhPnnUDm"
      }
    },
    {
      "cell_type": "code",
      "source": [
        "import pandas as pd\n",
        "import numpy as np\n",
        "import tensorflow as tf\n",
        "import seaborn as sns\n",
        "import matplotlib.pyplot as plt\n",
        "from sklearn import preprocessing\n",
        "from sklearn import metrics\n",
        "from sklearn import decomposition"
      ],
      "metadata": {
        "id": "3TMZhiJMnVS4"
      },
      "execution_count": 88,
      "outputs": []
    },
    {
      "cell_type": "markdown",
      "source": [
        "## Glass"
      ],
      "metadata": {
        "id": "iTaGUur2mO5T"
      }
    },
    {
      "cell_type": "markdown",
      "source": [
        "### 1)"
      ],
      "metadata": {
        "id": "ZBZh_OzwmXes"
      }
    },
    {
      "cell_type": "markdown",
      "source": [
        " Varíen la cantidad de componentes principales con las que se quedan, para graficar el error cuadrático medio en función de la cantidad de componentes principales.\n",
        "\n",
        "Repita el mismo procedimiento para el porcentaje de energía."
      ],
      "metadata": {
        "id": "joSDc-jU703i"
      }
    },
    {
      "cell_type": "code",
      "source": [
        "url = \"https://raw.githubusercontent.com/CSC-CONICET/CURSO-LEARNING1/main/datasets/glass.csv\"\n",
        "dataset_glass = pd.read_csv(url)\n",
        "dataset_glass[\"Type\"].loc[dataset_glass[\"Type\"] == 1] = 0\n",
        "dataset_glass[\"Type\"].loc[dataset_glass[\"Type\"] == 2] = 1\n",
        "dataset_glass[\"Type\"].loc[dataset_glass[\"Type\"] == 3] = 2\n",
        "dataset_glass[\"Type\"].loc[dataset_glass[\"Type\"] == 5] = 3\n",
        "dataset_glass[\"Type\"].loc[dataset_glass[\"Type\"] == 6] = 4\n",
        "dataset_glass[\"Type\"].loc[dataset_glass[\"Type\"] == 7] = 5"
      ],
      "metadata": {
        "colab": {
          "base_uri": "https://localhost:8080/"
        },
        "id": "CdRSfk7wns4l",
        "outputId": "43b9641b-b0e5-4acd-892d-8929607d43b6"
      },
      "execution_count": null,
      "outputs": [
        {
          "output_type": "stream",
          "name": "stderr",
          "text": [
            "/usr/local/lib/python3.7/dist-packages/pandas/core/indexing.py:1732: SettingWithCopyWarning: \n",
            "A value is trying to be set on a copy of a slice from a DataFrame\n",
            "\n",
            "See the caveats in the documentation: https://pandas.pydata.org/pandas-docs/stable/user_guide/indexing.html#returning-a-view-versus-a-copy\n",
            "  self._setitem_single_block(indexer, value, name)\n"
          ]
        }
      ]
    },
    {
      "cell_type": "code",
      "source": [
        "dataset_glass"
      ],
      "metadata": {
        "colab": {
          "base_uri": "https://localhost:8080/",
          "height": 424
        },
        "id": "NpUPA7YMoDDL",
        "outputId": "bdb901e3-b64d-4081-ca41-d5ee875ed533"
      },
      "execution_count": null,
      "outputs": [
        {
          "output_type": "execute_result",
          "data": {
            "text/plain": [
              "          RI     Na    Mg    Al     Si     K    Ca    Ba   Fe  Type\n",
              "0    1.52101  13.64  4.49  1.10  71.78  0.06  8.75  0.00  0.0     0\n",
              "1    1.51761  13.89  3.60  1.36  72.73  0.48  7.83  0.00  0.0     0\n",
              "2    1.51618  13.53  3.55  1.54  72.99  0.39  7.78  0.00  0.0     0\n",
              "3    1.51766  13.21  3.69  1.29  72.61  0.57  8.22  0.00  0.0     0\n",
              "4    1.51742  13.27  3.62  1.24  73.08  0.55  8.07  0.00  0.0     0\n",
              "..       ...    ...   ...   ...    ...   ...   ...   ...  ...   ...\n",
              "209  1.51623  14.14  0.00  2.88  72.61  0.08  9.18  1.06  0.0     5\n",
              "210  1.51685  14.92  0.00  1.99  73.06  0.00  8.40  1.59  0.0     5\n",
              "211  1.52065  14.36  0.00  2.02  73.42  0.00  8.44  1.64  0.0     5\n",
              "212  1.51651  14.38  0.00  1.94  73.61  0.00  8.48  1.57  0.0     5\n",
              "213  1.51711  14.23  0.00  2.08  73.36  0.00  8.62  1.67  0.0     5\n",
              "\n",
              "[214 rows x 10 columns]"
            ],
            "text/html": [
              "\n",
              "  <div id=\"df-ce9529a4-6940-45e5-ba96-6c4534d95295\">\n",
              "    <div class=\"colab-df-container\">\n",
              "      <div>\n",
              "<style scoped>\n",
              "    .dataframe tbody tr th:only-of-type {\n",
              "        vertical-align: middle;\n",
              "    }\n",
              "\n",
              "    .dataframe tbody tr th {\n",
              "        vertical-align: top;\n",
              "    }\n",
              "\n",
              "    .dataframe thead th {\n",
              "        text-align: right;\n",
              "    }\n",
              "</style>\n",
              "<table border=\"1\" class=\"dataframe\">\n",
              "  <thead>\n",
              "    <tr style=\"text-align: right;\">\n",
              "      <th></th>\n",
              "      <th>RI</th>\n",
              "      <th>Na</th>\n",
              "      <th>Mg</th>\n",
              "      <th>Al</th>\n",
              "      <th>Si</th>\n",
              "      <th>K</th>\n",
              "      <th>Ca</th>\n",
              "      <th>Ba</th>\n",
              "      <th>Fe</th>\n",
              "      <th>Type</th>\n",
              "    </tr>\n",
              "  </thead>\n",
              "  <tbody>\n",
              "    <tr>\n",
              "      <th>0</th>\n",
              "      <td>1.52101</td>\n",
              "      <td>13.64</td>\n",
              "      <td>4.49</td>\n",
              "      <td>1.10</td>\n",
              "      <td>71.78</td>\n",
              "      <td>0.06</td>\n",
              "      <td>8.75</td>\n",
              "      <td>0.00</td>\n",
              "      <td>0.0</td>\n",
              "      <td>0</td>\n",
              "    </tr>\n",
              "    <tr>\n",
              "      <th>1</th>\n",
              "      <td>1.51761</td>\n",
              "      <td>13.89</td>\n",
              "      <td>3.60</td>\n",
              "      <td>1.36</td>\n",
              "      <td>72.73</td>\n",
              "      <td>0.48</td>\n",
              "      <td>7.83</td>\n",
              "      <td>0.00</td>\n",
              "      <td>0.0</td>\n",
              "      <td>0</td>\n",
              "    </tr>\n",
              "    <tr>\n",
              "      <th>2</th>\n",
              "      <td>1.51618</td>\n",
              "      <td>13.53</td>\n",
              "      <td>3.55</td>\n",
              "      <td>1.54</td>\n",
              "      <td>72.99</td>\n",
              "      <td>0.39</td>\n",
              "      <td>7.78</td>\n",
              "      <td>0.00</td>\n",
              "      <td>0.0</td>\n",
              "      <td>0</td>\n",
              "    </tr>\n",
              "    <tr>\n",
              "      <th>3</th>\n",
              "      <td>1.51766</td>\n",
              "      <td>13.21</td>\n",
              "      <td>3.69</td>\n",
              "      <td>1.29</td>\n",
              "      <td>72.61</td>\n",
              "      <td>0.57</td>\n",
              "      <td>8.22</td>\n",
              "      <td>0.00</td>\n",
              "      <td>0.0</td>\n",
              "      <td>0</td>\n",
              "    </tr>\n",
              "    <tr>\n",
              "      <th>4</th>\n",
              "      <td>1.51742</td>\n",
              "      <td>13.27</td>\n",
              "      <td>3.62</td>\n",
              "      <td>1.24</td>\n",
              "      <td>73.08</td>\n",
              "      <td>0.55</td>\n",
              "      <td>8.07</td>\n",
              "      <td>0.00</td>\n",
              "      <td>0.0</td>\n",
              "      <td>0</td>\n",
              "    </tr>\n",
              "    <tr>\n",
              "      <th>...</th>\n",
              "      <td>...</td>\n",
              "      <td>...</td>\n",
              "      <td>...</td>\n",
              "      <td>...</td>\n",
              "      <td>...</td>\n",
              "      <td>...</td>\n",
              "      <td>...</td>\n",
              "      <td>...</td>\n",
              "      <td>...</td>\n",
              "      <td>...</td>\n",
              "    </tr>\n",
              "    <tr>\n",
              "      <th>209</th>\n",
              "      <td>1.51623</td>\n",
              "      <td>14.14</td>\n",
              "      <td>0.00</td>\n",
              "      <td>2.88</td>\n",
              "      <td>72.61</td>\n",
              "      <td>0.08</td>\n",
              "      <td>9.18</td>\n",
              "      <td>1.06</td>\n",
              "      <td>0.0</td>\n",
              "      <td>5</td>\n",
              "    </tr>\n",
              "    <tr>\n",
              "      <th>210</th>\n",
              "      <td>1.51685</td>\n",
              "      <td>14.92</td>\n",
              "      <td>0.00</td>\n",
              "      <td>1.99</td>\n",
              "      <td>73.06</td>\n",
              "      <td>0.00</td>\n",
              "      <td>8.40</td>\n",
              "      <td>1.59</td>\n",
              "      <td>0.0</td>\n",
              "      <td>5</td>\n",
              "    </tr>\n",
              "    <tr>\n",
              "      <th>211</th>\n",
              "      <td>1.52065</td>\n",
              "      <td>14.36</td>\n",
              "      <td>0.00</td>\n",
              "      <td>2.02</td>\n",
              "      <td>73.42</td>\n",
              "      <td>0.00</td>\n",
              "      <td>8.44</td>\n",
              "      <td>1.64</td>\n",
              "      <td>0.0</td>\n",
              "      <td>5</td>\n",
              "    </tr>\n",
              "    <tr>\n",
              "      <th>212</th>\n",
              "      <td>1.51651</td>\n",
              "      <td>14.38</td>\n",
              "      <td>0.00</td>\n",
              "      <td>1.94</td>\n",
              "      <td>73.61</td>\n",
              "      <td>0.00</td>\n",
              "      <td>8.48</td>\n",
              "      <td>1.57</td>\n",
              "      <td>0.0</td>\n",
              "      <td>5</td>\n",
              "    </tr>\n",
              "    <tr>\n",
              "      <th>213</th>\n",
              "      <td>1.51711</td>\n",
              "      <td>14.23</td>\n",
              "      <td>0.00</td>\n",
              "      <td>2.08</td>\n",
              "      <td>73.36</td>\n",
              "      <td>0.00</td>\n",
              "      <td>8.62</td>\n",
              "      <td>1.67</td>\n",
              "      <td>0.0</td>\n",
              "      <td>5</td>\n",
              "    </tr>\n",
              "  </tbody>\n",
              "</table>\n",
              "<p>214 rows × 10 columns</p>\n",
              "</div>\n",
              "      <button class=\"colab-df-convert\" onclick=\"convertToInteractive('df-ce9529a4-6940-45e5-ba96-6c4534d95295')\"\n",
              "              title=\"Convert this dataframe to an interactive table.\"\n",
              "              style=\"display:none;\">\n",
              "        \n",
              "  <svg xmlns=\"http://www.w3.org/2000/svg\" height=\"24px\"viewBox=\"0 0 24 24\"\n",
              "       width=\"24px\">\n",
              "    <path d=\"M0 0h24v24H0V0z\" fill=\"none\"/>\n",
              "    <path d=\"M18.56 5.44l.94 2.06.94-2.06 2.06-.94-2.06-.94-.94-2.06-.94 2.06-2.06.94zm-11 1L8.5 8.5l.94-2.06 2.06-.94-2.06-.94L8.5 2.5l-.94 2.06-2.06.94zm10 10l.94 2.06.94-2.06 2.06-.94-2.06-.94-.94-2.06-.94 2.06-2.06.94z\"/><path d=\"M17.41 7.96l-1.37-1.37c-.4-.4-.92-.59-1.43-.59-.52 0-1.04.2-1.43.59L10.3 9.45l-7.72 7.72c-.78.78-.78 2.05 0 2.83L4 21.41c.39.39.9.59 1.41.59.51 0 1.02-.2 1.41-.59l7.78-7.78 2.81-2.81c.8-.78.8-2.07 0-2.86zM5.41 20L4 18.59l7.72-7.72 1.47 1.35L5.41 20z\"/>\n",
              "  </svg>\n",
              "      </button>\n",
              "      \n",
              "  <style>\n",
              "    .colab-df-container {\n",
              "      display:flex;\n",
              "      flex-wrap:wrap;\n",
              "      gap: 12px;\n",
              "    }\n",
              "\n",
              "    .colab-df-convert {\n",
              "      background-color: #E8F0FE;\n",
              "      border: none;\n",
              "      border-radius: 50%;\n",
              "      cursor: pointer;\n",
              "      display: none;\n",
              "      fill: #1967D2;\n",
              "      height: 32px;\n",
              "      padding: 0 0 0 0;\n",
              "      width: 32px;\n",
              "    }\n",
              "\n",
              "    .colab-df-convert:hover {\n",
              "      background-color: #E2EBFA;\n",
              "      box-shadow: 0px 1px 2px rgba(60, 64, 67, 0.3), 0px 1px 3px 1px rgba(60, 64, 67, 0.15);\n",
              "      fill: #174EA6;\n",
              "    }\n",
              "\n",
              "    [theme=dark] .colab-df-convert {\n",
              "      background-color: #3B4455;\n",
              "      fill: #D2E3FC;\n",
              "    }\n",
              "\n",
              "    [theme=dark] .colab-df-convert:hover {\n",
              "      background-color: #434B5C;\n",
              "      box-shadow: 0px 1px 3px 1px rgba(0, 0, 0, 0.15);\n",
              "      filter: drop-shadow(0px 1px 2px rgba(0, 0, 0, 0.3));\n",
              "      fill: #FFFFFF;\n",
              "    }\n",
              "  </style>\n",
              "\n",
              "      <script>\n",
              "        const buttonEl =\n",
              "          document.querySelector('#df-ce9529a4-6940-45e5-ba96-6c4534d95295 button.colab-df-convert');\n",
              "        buttonEl.style.display =\n",
              "          google.colab.kernel.accessAllowed ? 'block' : 'none';\n",
              "\n",
              "        async function convertToInteractive(key) {\n",
              "          const element = document.querySelector('#df-ce9529a4-6940-45e5-ba96-6c4534d95295');\n",
              "          const dataTable =\n",
              "            await google.colab.kernel.invokeFunction('convertToInteractive',\n",
              "                                                     [key], {});\n",
              "          if (!dataTable) return;\n",
              "\n",
              "          const docLinkHtml = 'Like what you see? Visit the ' +\n",
              "            '<a target=\"_blank\" href=https://colab.research.google.com/notebooks/data_table.ipynb>data table notebook</a>'\n",
              "            + ' to learn more about interactive tables.';\n",
              "          element.innerHTML = '';\n",
              "          dataTable['output_type'] = 'display_data';\n",
              "          await google.colab.output.renderOutput(dataTable, element);\n",
              "          const docLink = document.createElement('div');\n",
              "          docLink.innerHTML = docLinkHtml;\n",
              "          element.appendChild(docLink);\n",
              "        }\n",
              "      </script>\n",
              "    </div>\n",
              "  </div>\n",
              "  "
            ]
          },
          "metadata": {},
          "execution_count": 4
        }
      ]
    },
    {
      "cell_type": "code",
      "source": [
        "df_glass_as_matrix = np.array(dataset_glass[dataset_glass.columns[:-1]])\n",
        "df_glass_as_matrix"
      ],
      "metadata": {
        "colab": {
          "base_uri": "https://localhost:8080/"
        },
        "id": "dNw0fFMln96J",
        "outputId": "985fa6a4-074f-4951-acc6-3cdf1bc60c77"
      },
      "execution_count": null,
      "outputs": [
        {
          "output_type": "execute_result",
          "data": {
            "text/plain": [
              "array([[ 1.52101, 13.64   ,  4.49   , ...,  8.75   ,  0.     ,  0.     ],\n",
              "       [ 1.51761, 13.89   ,  3.6    , ...,  7.83   ,  0.     ,  0.     ],\n",
              "       [ 1.51618, 13.53   ,  3.55   , ...,  7.78   ,  0.     ,  0.     ],\n",
              "       ...,\n",
              "       [ 1.52065, 14.36   ,  0.     , ...,  8.44   ,  1.64   ,  0.     ],\n",
              "       [ 1.51651, 14.38   ,  0.     , ...,  8.48   ,  1.57   ,  0.     ],\n",
              "       [ 1.51711, 14.23   ,  0.     , ...,  8.62   ,  1.67   ,  0.     ]])"
            ]
          },
          "metadata": {},
          "execution_count": 8
        }
      ]
    },
    {
      "cell_type": "markdown",
      "source": [
        "Acá uso la *SVD* de la matriz $X$ porque es numéricamente más estable y es más eficiente. Específicamente, utilizo que, sabiendo que las $k$ componentes principales de $X$ son los $k$ autovectores de $\\hat{\\Sigma} = \\frac{1}{N}X^TX$ (asumiendo $X$ centrada y con $N$ siendo el número de observaciones) asociados a los $k$ autovalores más grandes, entonces:\n",
        "- Sea $X = U\\Sigma V^T$ la descomposición en valores singulares de $X$. Entonces $X^TX = V\\Sigma U^T U \\Sigma v^T$. Como sabemos que $u$ es una matriz ortogonal (de la definición de la DVS), entonces $XX^T = V\\Sigma^2 V^T$. Esto implica que los autovectores de la matriz $X^TX$ son los vectores singulares derechos de $X$, y los autovalores de $\\hat{\\Sigma}$ son los cocientes entre los valores singulares de $X$ y $N$."
      ],
      "metadata": {
        "id": "9sYPZE8NtRQF"
      }
    },
    {
      "cell_type": "code",
      "source": [
        "centralized_glass = preprocessing.scale(df_glass_as_matrix, with_std = False)\n",
        "U, S, Vt = np.linalg.svd(centralized_glass)\n",
        "eigenvalues = S/len(dataset_glass)\n",
        "V = Vt.T"
      ],
      "metadata": {
        "id": "qm7ePzFqprJq"
      },
      "execution_count": null,
      "outputs": []
    },
    {
      "cell_type": "code",
      "source": [
        "encode_and_decode_with_n_dimensions = lambda n: V[:n,:].T @ V[:n,:] @ centralized_glass.T\n",
        "get_ecm_for_n_dimensions = lambda n: np.linalg.norm(centralized_glass.T - encode_and_decode_with_n_dimensions(n)) ** 2\n",
        "x_axis = np.arange(1,len(V)+1)\n",
        "y_axis = [get_ecm_for_n_dimensions(n) for n in x_axis]\n",
        "plt.plot(x_axis, y_axis)\n",
        "plt.xlim(1,len(V))\n",
        "plt.ylim(0,1400)\n",
        "plt.xlabel(\"Numero de componentes\")\n",
        "plt.ylabel(\"Error cuadrático medio / dispersión\");"
      ],
      "metadata": {
        "colab": {
          "base_uri": "https://localhost:8080/",
          "height": 283
        },
        "id": "QHWWGGwayzGK",
        "outputId": "72b906b2-dbc3-4d69-d83c-3aa49d0a1fed"
      },
      "execution_count": null,
      "outputs": [
        {
          "output_type": "display_data",
          "data": {
            "text/plain": [
              "<Figure size 432x288 with 1 Axes>"
            ],
            "image/png": "[encoded data removed]"
          },
          "metadata": {
            "needs_background": "light"
          }
        }
      ]
    },
    {
      "cell_type": "code",
      "source": [
        "N = len(dataset_glass)\n",
        "eigenvalues = S/N\n",
        "y_axis = [sum(eigenvalues[:number_of_components])/sum(eigenvalues) for number_of_components in x_axis]\n",
        "plt.plot(x_axis, y_axis)\n",
        "plt.xlabel(\"Cantidad de componentes\")\n",
        "plt.ylabel(\"Energía\");"
      ],
      "metadata": {
        "colab": {
          "base_uri": "https://localhost:8080/",
          "height": 279
        },
        "id": "f11JW7mV60XO",
        "outputId": "72fc3bc3-e510-4914-b974-ab9bb8f0f8c0"
      },
      "execution_count": null,
      "outputs": [
        {
          "output_type": "display_data",
          "data": {
            "text/plain": [
              "<Figure size 432x288 with 1 Axes>"
            ],
            "image/png": "[encoded data removed]"
          },
          "metadata": {
            "needs_background": "light"
          }
        }
      ]
    },
    {
      "cell_type": "markdown",
      "source": [
        "### 2)"
      ],
      "metadata": {
        "id": "GXue5coK730h"
      }
    },
    {
      "cell_type": "markdown",
      "source": [
        "A partir de la componente principal, genere 5 datos sintéticos de vidrio (simular).\n",
        "\n",
        "Para ello estime la distribución de la componente principal mediante un histograma. Puede usar “plt.hist(?,bins=?,density=True)”."
      ],
      "metadata": {
        "id": "VqJVvY3d7-x6"
      }
    },
    {
      "cell_type": "code",
      "source": [
        "componente_principal = V[0,:]\n",
        "proyeccion_componente_principal = componente_principal @ centralized_glass.T\n",
        "sns.kdeplot(proyeccion_componente_principal)\n",
        "plt.hist(proyeccion_componente_principal, bins = 9, density = True);"
      ],
      "metadata": {
        "colab": {
          "base_uri": "https://localhost:8080/",
          "height": 265
        },
        "id": "uoj0oHrK8CQ6",
        "outputId": "6dee567e-dfb2-4be0-fd11-93c3d832f26d"
      },
      "execution_count": null,
      "outputs": [
        {
          "output_type": "display_data",
          "data": {
            "text/plain": [
              "<Figure size 432x288 with 1 Axes>"
            ],
            "image/png": "[encoded data removed]"
          },
          "metadata": {
            "needs_background": "light"
          }
        }
      ]
    },
    {
      "cell_type": "markdown",
      "source": [
        "Estimamos la distribución como si fuese $\\mathcal{N}(\\mu, \\sigma^2)$ mediante máxima verosimilitud y simulamos 5 ejemplos"
      ],
      "metadata": {
        "id": "5yZVvT-J_hoK"
      }
    },
    {
      "cell_type": "code",
      "source": [
        "mu_hat = np.mean(componente_principal)\n",
        "sigma_hat = np.std(componente_principal)\n",
        "synthetic_samples = np.random.normal(loc = mu_hat, scale = sigma_hat, size = 5)"
      ],
      "metadata": {
        "id": "O2t7RCzl_gep"
      },
      "execution_count": null,
      "outputs": []
    },
    {
      "cell_type": "markdown",
      "source": [
        "Reconstruimos los ejemplos sintéticos obtenidos"
      ],
      "metadata": {
        "id": "eawpva2oA-2t"
      }
    },
    {
      "cell_type": "code",
      "source": [
        "reconstrucciones = (componente_principal.reshape(len(componente_principal), 1) @ synthetic_samples.reshape(1,5)).T"
      ],
      "metadata": {
        "id": "T9QGPc7kBBls"
      },
      "execution_count": null,
      "outputs": []
    },
    {
      "cell_type": "code",
      "source": [
        "reconstrucciones"
      ],
      "metadata": {
        "colab": {
          "base_uri": "https://localhost:8080/"
        },
        "id": "AntTPFRJCypb",
        "outputId": "41ea8add-3bd2-413c-9c10-028df46e0cd6"
      },
      "execution_count": null,
      "outputs": [
        {
          "output_type": "execute_result",
          "data": {
            "text/plain": [
              "array([[-4.36430453e-05,  7.16113056e-05, -6.47452851e-05,\n",
              "         1.46072975e-05,  3.35248546e-05,  8.56635943e-05,\n",
              "         1.56394970e-05,  1.93844438e-04,  4.70220997e-02],\n",
              "       [ 1.91518213e-04, -3.14250970e-04,  2.84120900e-04,\n",
              "        -6.41010156e-05, -1.47116687e-04, -3.75916447e-04,\n",
              "        -6.86306032e-05, -8.50645050e-04, -2.06346474e-01],\n",
              "       [-3.72642250e-04,  6.11446748e-04, -5.52821844e-04,\n",
              "         1.24723107e-04,  2.86248981e-04,  7.31430962e-04,\n",
              "         1.33536451e-04,  1.65512345e-03,  4.01494006e-01],\n",
              "       [-7.12572415e-05,  1.16921816e-04, -1.05711469e-04,\n",
              "         2.38497502e-05,  5.47369837e-05,  1.39865387e-04,\n",
              "         2.55350517e-05,  3.16495328e-04,  7.67743199e-02],\n",
              "       [-2.56784590e-04,  4.21342728e-04, -3.80944808e-04,\n",
              "         8.59456274e-05,  1.97251727e-04,  5.04022825e-04,\n",
              "         9.20188269e-05,  1.14053142e-03,  2.76666088e-01]])"
            ]
          },
          "metadata": {},
          "execution_count": 180
        }
      ]
    },
    {
      "cell_type": "markdown",
      "source": [
        "## Próstata"
      ],
      "metadata": {
        "id": "V22NDnARDAJl"
      }
    },
    {
      "cell_type": "markdown",
      "source": [
        "Mismo ejercicios que Glass, dataset diferente"
      ],
      "metadata": {
        "id": "GCP_neEnFZF9"
      }
    },
    {
      "cell_type": "code",
      "source": [
        "url_data = \"https://raw.githubusercontent.com/CSC-CONICET/CURSO-LEARNING1/main/datasets/prostata_data.csv\"\n",
        "url_labels = \"https://raw.githubusercontent.com/CSC-CONICET/CURSO-LEARNING1/main/datasets/prostata_label.csv\"\n",
        "df_prostata_data = pd.read_csv(url_data)\n",
        "df_prostata_labels = pd.read_csv(url_labels)\n",
        "df_prostata_data = df_prostata_data.rename(columns={\"Unnamed: 0\":\"id\"})\n",
        "df_prostata_labels = df_prostata_labels.rename(columns={\"Unnamed: 0\":\"id\"})\n",
        "df_prostata_labels_filtered = df_prostata_labels[df_prostata_labels[\"class\"].notnull()]\n",
        "df_prostata_labels_filtered\n",
        "df_prostata_labeled_data = df_prostata_data.merge(df_prostata_labels_filtered, how=\"inner\", on=\"id\" )\n",
        "df_prostata_labeled_data"
      ],
      "metadata": {
        "colab": {
          "base_uri": "https://localhost:8080/",
          "height": 505
        },
        "id": "Q0oQu-N0EPc9",
        "outputId": "02e1ce78-51cd-4ee4-b7e1-af42e6a99f31"
      },
      "execution_count": null,
      "outputs": [
        {
          "output_type": "execute_result",
          "data": {
            "text/plain": [
              "               id  1.07_114.0671n  1.12_150.0556m/z  1.12_224.0537n  \\\n",
              "0    20210420_025      182.886662          0.000000      120.055143   \n",
              "1    20210420_027      169.431590          4.546041      298.457567   \n",
              "2    20210420_029       33.124379       1717.149354      171.340081   \n",
              "3    20210420_031        4.290027          0.000000      322.183226   \n",
              "4    20210420_033      117.150763         29.729792      207.120797   \n",
              "..            ...             ...               ...             ...   \n",
              "385  20210714_041      128.657637         14.792831      267.964086   \n",
              "386  20210714_043       37.571757         78.857534      291.563408   \n",
              "387  20210714_045      113.639459          1.428546       89.560830   \n",
              "388  20210714_049      100.944997        213.602360      533.707854   \n",
              "389  20210714_051       17.154389         20.593554      167.400341   \n",
              "\n",
              "     1.13_129.0550m/z  1.15_269.0995m/z  1.17_194.0451m/z  1.17_247.1177m/z  \\\n",
              "0            0.000000         53.888439         13.536438        418.494145   \n",
              "1          247.820866         67.565281        131.847910        440.554980   \n",
              "2         1002.790531          2.841494         54.081091         21.738453   \n",
              "3          785.579923          0.748938        120.946515          0.000000   \n",
              "4            3.819869         43.164301        330.283424        354.812847   \n",
              "..                ...               ...               ...               ...   \n",
              "385        169.738153         94.188310         78.519038        484.717456   \n",
              "386        776.984928         19.824049        578.643696         97.852421   \n",
              "387         44.212780         67.772490         73.879011        475.498343   \n",
              "388        472.748158         55.421833       1447.136046        333.709596   \n",
              "389        638.704386          0.000000        232.608999          0.000000   \n",
              "\n",
              "     1.18_102.0671n  1.18_145.0502m/z  ...  9.56_688.4019n  9.63_660.3709n  \\\n",
              "0        372.896710       2668.402959  ...     1490.285661      621.073308   \n",
              "1        309.431770       2286.748016  ...     1051.535354      487.816516   \n",
              "2         24.507923        196.245242  ...      700.821757      324.643771   \n",
              "3         11.281027        161.898929  ...      116.449557       72.462262   \n",
              "4        314.922104       2326.797182  ...     1066.533036      441.929508   \n",
              "..              ...               ...  ...             ...             ...   \n",
              "385      262.436808       2124.798749  ...      976.924741      451.861345   \n",
              "386       31.363809        290.595738  ...      484.152048      289.436647   \n",
              "387      215.320392       1845.722669  ...      507.724419      311.819659   \n",
              "388      168.940726       1377.779121  ...      763.341590      462.516741   \n",
              "389       12.788203        171.225956  ...      225.095914      123.631007   \n",
              "\n",
              "     9.72_629.3539m/z  9.76_429.2981m/z  9.78_374.2444n  9.78_472.3024n  \\\n",
              "0         1034.265530         95.745333      432.755695     2489.548822   \n",
              "1          785.175224        104.876552      363.884261     2174.680834   \n",
              "2          379.044638         27.521154       34.158236     1436.779597   \n",
              "3           74.381379         53.015654        7.153705      237.986766   \n",
              "4          558.965544         75.952197      315.557910     1118.011788   \n",
              "..                ...               ...             ...             ...   \n",
              "385        740.825392         78.939931      355.188085     1769.057533   \n",
              "386        233.143895         25.196779       24.539801      817.396836   \n",
              "387        383.661108         60.634778      128.694440     1078.329430   \n",
              "388        666.853661         80.625310      316.973293     1557.357663   \n",
              "389         77.187833         19.883689       12.002296      304.070735   \n",
              "\n",
              "     9.95_237.1486m/z  9.95_702.4173n  9.98_498.3171n         class  \n",
              "0           78.370185     1194.614280      401.409910       healthy  \n",
              "1          108.763407      926.947063      544.896122       healthy  \n",
              "2           27.398994      510.646098      182.016428        cancer  \n",
              "3          105.797730       82.331384      144.030763        cancer  \n",
              "4           99.747356      770.547695      610.577823  post-surgery  \n",
              "..                ...             ...             ...           ...  \n",
              "385        156.181719      898.904583      905.048821        benign  \n",
              "386        111.439083      354.222726      205.927172        cancer  \n",
              "387        111.931710      447.587060      550.732215        benign  \n",
              "388        157.624910      630.222369      870.856582        benign  \n",
              "389         56.845351      137.337337      358.139031        cancer  \n",
              "\n",
              "[390 rows x 764 columns]"
            ],
            "text/html": [
              "\n",
              "  <div id=\"df-a1757637-e3c3-45f5-b30a-f0f35e12bf0a\">\n",
              "    <div class=\"colab-df-container\">\n",
              "      <div>\n",
              "<style scoped>\n",
              "    .dataframe tbody tr th:only-of-type {\n",
              "        vertical-align: middle;\n",
              "    }\n",
              "\n",
              "    .dataframe tbody tr th {\n",
              "        vertical-align: top;\n",
              "    }\n",
              "\n",
              "    .dataframe thead th {\n",
              "        text-align: right;\n",
              "    }\n",
              "</style>\n",
              "<table border=\"1\" class=\"dataframe\">\n",
              "  <thead>\n",
              "    <tr style=\"text-align: right;\">\n",
              "      <th></th>\n",
              "      <th>id</th>\n",
              "      <th>1.07_114.0671n</th>\n",
              "      <th>1.12_150.0556m/z</th>\n",
              "      <th>1.12_224.0537n</th>\n",
              "      <th>1.13_129.0550m/z</th>\n",
              "      <th>1.15_269.0995m/z</th>\n",
              "      <th>1.17_194.0451m/z</th>\n",
              "      <th>1.17_247.1177m/z</th>\n",
              "      <th>1.18_102.0671n</th>\n",
              "      <th>1.18_145.0502m/z</th>\n",
              "      <th>...</th>\n",
              "      <th>9.56_688.4019n</th>\n",
              "      <th>9.63_660.3709n</th>\n",
              "      <th>9.72_629.3539m/z</th>\n",
              "      <th>9.76_429.2981m/z</th>\n",
              "      <th>9.78_374.2444n</th>\n",
              "      <th>9.78_472.3024n</th>\n",
              "      <th>9.95_237.1486m/z</th>\n",
              "      <th>9.95_702.4173n</th>\n",
              "      <th>9.98_498.3171n</th>\n",
              "      <th>class</th>\n",
              "    </tr>\n",
              "  </thead>\n",
              "  <tbody>\n",
              "    <tr>\n",
              "      <th>0</th>\n",
              "      <td>20210420_025</td>\n",
              "      <td>182.886662</td>\n",
              "      <td>0.000000</td>\n",
              "      <td>120.055143</td>\n",
              "      <td>0.000000</td>\n",
              "      <td>53.888439</td>\n",
              "      <td>13.536438</td>\n",
              "      <td>418.494145</td>\n",
              "      <td>372.896710</td>\n",
              "      <td>2668.402959</td>\n",
              "      <td>...</td>\n",
              "      <td>1490.285661</td>\n",
              "      <td>621.073308</td>\n",
              "      <td>1034.265530</td>\n",
              "      <td>95.745333</td>\n",
              "      <td>432.755695</td>\n",
              "      <td>2489.548822</td>\n",
              "      <td>78.370185</td>\n",
              "      <td>1194.614280</td>\n",
              "      <td>401.409910</td>\n",
              "      <td>healthy</td>\n",
              "    </tr>\n",
              "    <tr>\n",
              "      <th>1</th>\n",
              "      <td>20210420_027</td>\n",
              "      <td>169.431590</td>\n",
              "      <td>4.546041</td>\n",
              "      <td>298.457567</td>\n",
              "      <td>247.820866</td>\n",
              "      <td>67.565281</td>\n",
              "      <td>131.847910</td>\n",
              "      <td>440.554980</td>\n",
              "      <td>309.431770</td>\n",
              "      <td>2286.748016</td>\n",
              "      <td>...</td>\n",
              "      <td>1051.535354</td>\n",
              "      <td>487.816516</td>\n",
              "      <td>785.175224</td>\n",
              "      <td>104.876552</td>\n",
              "      <td>363.884261</td>\n",
              "      <td>2174.680834</td>\n",
              "      <td>108.763407</td>\n",
              "      <td>926.947063</td>\n",
              "      <td>544.896122</td>\n",
              "      <td>healthy</td>\n",
              "    </tr>\n",
              "    <tr>\n",
              "      <th>2</th>\n",
              "      <td>20210420_029</td>\n",
              "      <td>33.124379</td>\n",
              "      <td>1717.149354</td>\n",
              "      <td>171.340081</td>\n",
              "      <td>1002.790531</td>\n",
              "      <td>2.841494</td>\n",
              "      <td>54.081091</td>\n",
              "      <td>21.738453</td>\n",
              "      <td>24.507923</td>\n",
              "      <td>196.245242</td>\n",
              "      <td>...</td>\n",
              "      <td>700.821757</td>\n",
              "      <td>324.643771</td>\n",
              "      <td>379.044638</td>\n",
              "      <td>27.521154</td>\n",
              "      <td>34.158236</td>\n",
              "      <td>1436.779597</td>\n",
              "      <td>27.398994</td>\n",
              "      <td>510.646098</td>\n",
              "      <td>182.016428</td>\n",
              "      <td>cancer</td>\n",
              "    </tr>\n",
              "    <tr>\n",
              "      <th>3</th>\n",
              "      <td>20210420_031</td>\n",
              "      <td>4.290027</td>\n",
              "      <td>0.000000</td>\n",
              "      <td>322.183226</td>\n",
              "      <td>785.579923</td>\n",
              "      <td>0.748938</td>\n",
              "      <td>120.946515</td>\n",
              "      <td>0.000000</td>\n",
              "      <td>11.281027</td>\n",
              "      <td>161.898929</td>\n",
              "      <td>...</td>\n",
              "      <td>116.449557</td>\n",
              "      <td>72.462262</td>\n",
              "      <td>74.381379</td>\n",
              "      <td>53.015654</td>\n",
              "      <td>7.153705</td>\n",
              "      <td>237.986766</td>\n",
              "      <td>105.797730</td>\n",
              "      <td>82.331384</td>\n",
              "      <td>144.030763</td>\n",
              "      <td>cancer</td>\n",
              "    </tr>\n",
              "    <tr>\n",
              "      <th>4</th>\n",
              "      <td>20210420_033</td>\n",
              "      <td>117.150763</td>\n",
              "      <td>29.729792</td>\n",
              "      <td>207.120797</td>\n",
              "      <td>3.819869</td>\n",
              "      <td>43.164301</td>\n",
              "      <td>330.283424</td>\n",
              "      <td>354.812847</td>\n",
              "      <td>314.922104</td>\n",
              "      <td>2326.797182</td>\n",
              "      <td>...</td>\n",
              "      <td>1066.533036</td>\n",
              "      <td>441.929508</td>\n",
              "      <td>558.965544</td>\n",
              "      <td>75.952197</td>\n",
              "      <td>315.557910</td>\n",
              "      <td>1118.011788</td>\n",
              "      <td>99.747356</td>\n",
              "      <td>770.547695</td>\n",
              "      <td>610.577823</td>\n",
              "      <td>post-surgery</td>\n",
              "    </tr>\n",
              "    <tr>\n",
              "      <th>...</th>\n",
              "      <td>...</td>\n",
              "      <td>...</td>\n",
              "      <td>...</td>\n",
              "      <td>...</td>\n",
              "      <td>...</td>\n",
              "      <td>...</td>\n",
              "      <td>...</td>\n",
              "      <td>...</td>\n",
              "      <td>...</td>\n",
              "      <td>...</td>\n",
              "      <td>...</td>\n",
              "      <td>...</td>\n",
              "      <td>...</td>\n",
              "      <td>...</td>\n",
              "      <td>...</td>\n",
              "      <td>...</td>\n",
              "      <td>...</td>\n",
              "      <td>...</td>\n",
              "      <td>...</td>\n",
              "      <td>...</td>\n",
              "      <td>...</td>\n",
              "    </tr>\n",
              "    <tr>\n",
              "      <th>385</th>\n",
              "      <td>20210714_041</td>\n",
              "      <td>128.657637</td>\n",
              "      <td>14.792831</td>\n",
              "      <td>267.964086</td>\n",
              "      <td>169.738153</td>\n",
              "      <td>94.188310</td>\n",
              "      <td>78.519038</td>\n",
              "      <td>484.717456</td>\n",
              "      <td>262.436808</td>\n",
              "      <td>2124.798749</td>\n",
              "      <td>...</td>\n",
              "      <td>976.924741</td>\n",
              "      <td>451.861345</td>\n",
              "      <td>740.825392</td>\n",
              "      <td>78.939931</td>\n",
              "      <td>355.188085</td>\n",
              "      <td>1769.057533</td>\n",
              "      <td>156.181719</td>\n",
              "      <td>898.904583</td>\n",
              "      <td>905.048821</td>\n",
              "      <td>benign</td>\n",
              "    </tr>\n",
              "    <tr>\n",
              "      <th>386</th>\n",
              "      <td>20210714_043</td>\n",
              "      <td>37.571757</td>\n",
              "      <td>78.857534</td>\n",
              "      <td>291.563408</td>\n",
              "      <td>776.984928</td>\n",
              "      <td>19.824049</td>\n",
              "      <td>578.643696</td>\n",
              "      <td>97.852421</td>\n",
              "      <td>31.363809</td>\n",
              "      <td>290.595738</td>\n",
              "      <td>...</td>\n",
              "      <td>484.152048</td>\n",
              "      <td>289.436647</td>\n",
              "      <td>233.143895</td>\n",
              "      <td>25.196779</td>\n",
              "      <td>24.539801</td>\n",
              "      <td>817.396836</td>\n",
              "      <td>111.439083</td>\n",
              "      <td>354.222726</td>\n",
              "      <td>205.927172</td>\n",
              "      <td>cancer</td>\n",
              "    </tr>\n",
              "    <tr>\n",
              "      <th>387</th>\n",
              "      <td>20210714_045</td>\n",
              "      <td>113.639459</td>\n",
              "      <td>1.428546</td>\n",
              "      <td>89.560830</td>\n",
              "      <td>44.212780</td>\n",
              "      <td>67.772490</td>\n",
              "      <td>73.879011</td>\n",
              "      <td>475.498343</td>\n",
              "      <td>215.320392</td>\n",
              "      <td>1845.722669</td>\n",
              "      <td>...</td>\n",
              "      <td>507.724419</td>\n",
              "      <td>311.819659</td>\n",
              "      <td>383.661108</td>\n",
              "      <td>60.634778</td>\n",
              "      <td>128.694440</td>\n",
              "      <td>1078.329430</td>\n",
              "      <td>111.931710</td>\n",
              "      <td>447.587060</td>\n",
              "      <td>550.732215</td>\n",
              "      <td>benign</td>\n",
              "    </tr>\n",
              "    <tr>\n",
              "      <th>388</th>\n",
              "      <td>20210714_049</td>\n",
              "      <td>100.944997</td>\n",
              "      <td>213.602360</td>\n",
              "      <td>533.707854</td>\n",
              "      <td>472.748158</td>\n",
              "      <td>55.421833</td>\n",
              "      <td>1447.136046</td>\n",
              "      <td>333.709596</td>\n",
              "      <td>168.940726</td>\n",
              "      <td>1377.779121</td>\n",
              "      <td>...</td>\n",
              "      <td>763.341590</td>\n",
              "      <td>462.516741</td>\n",
              "      <td>666.853661</td>\n",
              "      <td>80.625310</td>\n",
              "      <td>316.973293</td>\n",
              "      <td>1557.357663</td>\n",
              "      <td>157.624910</td>\n",
              "      <td>630.222369</td>\n",
              "      <td>870.856582</td>\n",
              "      <td>benign</td>\n",
              "    </tr>\n",
              "    <tr>\n",
              "      <th>389</th>\n",
              "      <td>20210714_051</td>\n",
              "      <td>17.154389</td>\n",
              "      <td>20.593554</td>\n",
              "      <td>167.400341</td>\n",
              "      <td>638.704386</td>\n",
              "      <td>0.000000</td>\n",
              "      <td>232.608999</td>\n",
              "      <td>0.000000</td>\n",
              "      <td>12.788203</td>\n",
              "      <td>171.225956</td>\n",
              "      <td>...</td>\n",
              "      <td>225.095914</td>\n",
              "      <td>123.631007</td>\n",
              "      <td>77.187833</td>\n",
              "      <td>19.883689</td>\n",
              "      <td>12.002296</td>\n",
              "      <td>304.070735</td>\n",
              "      <td>56.845351</td>\n",
              "      <td>137.337337</td>\n",
              "      <td>358.139031</td>\n",
              "      <td>cancer</td>\n",
              "    </tr>\n",
              "  </tbody>\n",
              "</table>\n",
              "<p>390 rows × 764 columns</p>\n",
              "</div>\n",
              "      <button class=\"colab-df-convert\" onclick=\"convertToInteractive('df-a1757637-e3c3-45f5-b30a-f0f35e12bf0a')\"\n",
              "              title=\"Convert this dataframe to an interactive table.\"\n",
              "              style=\"display:none;\">\n",
              "        \n",
              "  <svg xmlns=\"http://www.w3.org/2000/svg\" height=\"24px\"viewBox=\"0 0 24 24\"\n",
              "       width=\"24px\">\n",
              "    <path d=\"M0 0h24v24H0V0z\" fill=\"none\"/>\n",
              "    <path d=\"M18.56 5.44l.94 2.06.94-2.06 2.06-.94-2.06-.94-.94-2.06-.94 2.06-2.06.94zm-11 1L8.5 8.5l.94-2.06 2.06-.94-2.06-.94L8.5 2.5l-.94 2.06-2.06.94zm10 10l.94 2.06.94-2.06 2.06-.94-2.06-.94-.94-2.06-.94 2.06-2.06.94z\"/><path d=\"M17.41 7.96l-1.37-1.37c-.4-.4-.92-.59-1.43-.59-.52 0-1.04.2-1.43.59L10.3 9.45l-7.72 7.72c-.78.78-.78 2.05 0 2.83L4 21.41c.39.39.9.59 1.41.59.51 0 1.02-.2 1.41-.59l7.78-7.78 2.81-2.81c.8-.78.8-2.07 0-2.86zM5.41 20L4 18.59l7.72-7.72 1.47 1.35L5.41 20z\"/>\n",
              "  </svg>\n",
              "      </button>\n",
              "      \n",
              "  <style>\n",
              "    .colab-df-container {\n",
              "      display:flex;\n",
              "      flex-wrap:wrap;\n",
              "      gap: 12px;\n",
              "    }\n",
              "\n",
              "    .colab-df-convert {\n",
              "      background-color: #E8F0FE;\n",
              "      border: none;\n",
              "      border-radius: 50%;\n",
              "      cursor: pointer;\n",
              "      display: none;\n",
              "      fill: #1967D2;\n",
              "      height: 32px;\n",
              "      padding: 0 0 0 0;\n",
              "      width: 32px;\n",
              "    }\n",
              "\n",
              "    .colab-df-convert:hover {\n",
              "      background-color: #E2EBFA;\n",
              "      box-shadow: 0px 1px 2px rgba(60, 64, 67, 0.3), 0px 1px 3px 1px rgba(60, 64, 67, 0.15);\n",
              "      fill: #174EA6;\n",
              "    }\n",
              "\n",
              "    [theme=dark] .colab-df-convert {\n",
              "      background-color: #3B4455;\n",
              "      fill: #D2E3FC;\n",
              "    }\n",
              "\n",
              "    [theme=dark] .colab-df-convert:hover {\n",
              "      background-color: #434B5C;\n",
              "      box-shadow: 0px 1px 3px 1px rgba(0, 0, 0, 0.15);\n",
              "      filter: drop-shadow(0px 1px 2px rgba(0, 0, 0, 0.3));\n",
              "      fill: #FFFFFF;\n",
              "    }\n",
              "  </style>\n",
              "\n",
              "      <script>\n",
              "        const buttonEl =\n",
              "          document.querySelector('#df-a1757637-e3c3-45f5-b30a-f0f35e12bf0a button.colab-df-convert');\n",
              "        buttonEl.style.display =\n",
              "          google.colab.kernel.accessAllowed ? 'block' : 'none';\n",
              "\n",
              "        async function convertToInteractive(key) {\n",
              "          const element = document.querySelector('#df-a1757637-e3c3-45f5-b30a-f0f35e12bf0a');\n",
              "          const dataTable =\n",
              "            await google.colab.kernel.invokeFunction('convertToInteractive',\n",
              "                                                     [key], {});\n",
              "          if (!dataTable) return;\n",
              "\n",
              "          const docLinkHtml = 'Like what you see? Visit the ' +\n",
              "            '<a target=\"_blank\" href=https://colab.research.google.com/notebooks/data_table.ipynb>data table notebook</a>'\n",
              "            + ' to learn more about interactive tables.';\n",
              "          element.innerHTML = '';\n",
              "          dataTable['output_type'] = 'display_data';\n",
              "          await google.colab.output.renderOutput(dataTable, element);\n",
              "          const docLink = document.createElement('div');\n",
              "          docLink.innerHTML = docLinkHtml;\n",
              "          element.appendChild(docLink);\n",
              "        }\n",
              "      </script>\n",
              "    </div>\n",
              "  </div>\n",
              "  "
            ]
          },
          "metadata": {},
          "execution_count": 181
        }
      ]
    },
    {
      "cell_type": "code",
      "source": [
        "def string_label_to_int(label:str) -> int:\n",
        "  conversion_table={\n",
        "      'healthy':0,\n",
        "      'cancer':1,\n",
        "      'post-surgery':2,\n",
        "      'benign':3\n",
        "  }\n",
        "  return conversion_table[label]\n",
        "\n",
        "df_prostata_int_labeled_data = df_prostata_labeled_data.copy()\n",
        "df_prostata_int_labeled_data[\"class\"] = df_prostata_int_labeled_data[\"class\"].map(string_label_to_int)\n",
        "df_prostata_int_labeled_data.head()"
      ],
      "metadata": {
        "colab": {
          "base_uri": "https://localhost:8080/",
          "height": 299
        },
        "id": "YYjSJo2sEt7F",
        "outputId": "e71d2395-21fe-4a36-a99c-4ff3e400e3a9"
      },
      "execution_count": null,
      "outputs": [
        {
          "output_type": "execute_result",
          "data": {
            "text/plain": [
              "             id  1.07_114.0671n  1.12_150.0556m/z  1.12_224.0537n  \\\n",
              "0  20210420_025      182.886662          0.000000      120.055143   \n",
              "1  20210420_027      169.431590          4.546041      298.457567   \n",
              "2  20210420_029       33.124379       1717.149354      171.340081   \n",
              "3  20210420_031        4.290027          0.000000      322.183226   \n",
              "4  20210420_033      117.150763         29.729792      207.120797   \n",
              "\n",
              "   1.13_129.0550m/z  1.15_269.0995m/z  1.17_194.0451m/z  1.17_247.1177m/z  \\\n",
              "0          0.000000         53.888439         13.536438        418.494145   \n",
              "1        247.820866         67.565281        131.847910        440.554980   \n",
              "2       1002.790531          2.841494         54.081091         21.738453   \n",
              "3        785.579923          0.748938        120.946515          0.000000   \n",
              "4          3.819869         43.164301        330.283424        354.812847   \n",
              "\n",
              "   1.18_102.0671n  1.18_145.0502m/z  ...  9.56_688.4019n  9.63_660.3709n  \\\n",
              "0      372.896710       2668.402959  ...     1490.285661      621.073308   \n",
              "1      309.431770       2286.748016  ...     1051.535354      487.816516   \n",
              "2       24.507923        196.245242  ...      700.821757      324.643771   \n",
              "3       11.281027        161.898929  ...      116.449557       72.462262   \n",
              "4      314.922104       2326.797182  ...     1066.533036      441.929508   \n",
              "\n",
              "   9.72_629.3539m/z  9.76_429.2981m/z  9.78_374.2444n  9.78_472.3024n  \\\n",
              "0       1034.265530         95.745333      432.755695     2489.548822   \n",
              "1        785.175224        104.876552      363.884261     2174.680834   \n",
              "2        379.044638         27.521154       34.158236     1436.779597   \n",
              "3         74.381379         53.015654        7.153705      237.986766   \n",
              "4        558.965544         75.952197      315.557910     1118.011788   \n",
              "\n",
              "   9.95_237.1486m/z  9.95_702.4173n  9.98_498.3171n  class  \n",
              "0         78.370185     1194.614280      401.409910      0  \n",
              "1        108.763407      926.947063      544.896122      0  \n",
              "2         27.398994      510.646098      182.016428      1  \n",
              "3        105.797730       82.331384      144.030763      1  \n",
              "4         99.747356      770.547695      610.577823      2  \n",
              "\n",
              "[5 rows x 764 columns]"
            ],
            "text/html": [
              "\n",
              "  <div id=\"df-118c8a48-26ad-4343-97dc-4018d059fbce\">\n",
              "    <div class=\"colab-df-container\">\n",
              "      <div>\n",
              "<style scoped>\n",
              "    .dataframe tbody tr th:only-of-type {\n",
              "        vertical-align: middle;\n",
              "    }\n",
              "\n",
              "    .dataframe tbody tr th {\n",
              "        vertical-align: top;\n",
              "    }\n",
              "\n",
              "    .dataframe thead th {\n",
              "        text-align: right;\n",
              "    }\n",
              "</style>\n",
              "<table border=\"1\" class=\"dataframe\">\n",
              "  <thead>\n",
              "    <tr style=\"text-align: right;\">\n",
              "      <th></th>\n",
              "      <th>id</th>\n",
              "      <th>1.07_114.0671n</th>\n",
              "      <th>1.12_150.0556m/z</th>\n",
              "      <th>1.12_224.0537n</th>\n",
              "      <th>1.13_129.0550m/z</th>\n",
              "      <th>1.15_269.0995m/z</th>\n",
              "      <th>1.17_194.0451m/z</th>\n",
              "      <th>1.17_247.1177m/z</th>\n",
              "      <th>1.18_102.0671n</th>\n",
              "      <th>1.18_145.0502m/z</th>\n",
              "      <th>...</th>\n",
              "      <th>9.56_688.4019n</th>\n",
              "      <th>9.63_660.3709n</th>\n",
              "      <th>9.72_629.3539m/z</th>\n",
              "      <th>9.76_429.2981m/z</th>\n",
              "      <th>9.78_374.2444n</th>\n",
              "      <th>9.78_472.3024n</th>\n",
              "      <th>9.95_237.1486m/z</th>\n",
              "      <th>9.95_702.4173n</th>\n",
              "      <th>9.98_498.3171n</th>\n",
              "      <th>class</th>\n",
              "    </tr>\n",
              "  </thead>\n",
              "  <tbody>\n",
              "    <tr>\n",
              "      <th>0</th>\n",
              "      <td>20210420_025</td>\n",
              "      <td>182.886662</td>\n",
              "      <td>0.000000</td>\n",
              "      <td>120.055143</td>\n",
              "      <td>0.000000</td>\n",
              "      <td>53.888439</td>\n",
              "      <td>13.536438</td>\n",
              "      <td>418.494145</td>\n",
              "      <td>372.896710</td>\n",
              "      <td>2668.402959</td>\n",
              "      <td>...</td>\n",
              "      <td>1490.285661</td>\n",
              "      <td>621.073308</td>\n",
              "      <td>1034.265530</td>\n",
              "      <td>95.745333</td>\n",
              "      <td>432.755695</td>\n",
              "      <td>2489.548822</td>\n",
              "      <td>78.370185</td>\n",
              "      <td>1194.614280</td>\n",
              "      <td>401.409910</td>\n",
              "      <td>0</td>\n",
              "    </tr>\n",
              "    <tr>\n",
              "      <th>1</th>\n",
              "      <td>20210420_027</td>\n",
              "      <td>169.431590</td>\n",
              "      <td>4.546041</td>\n",
              "      <td>298.457567</td>\n",
              "      <td>247.820866</td>\n",
              "      <td>67.565281</td>\n",
              "      <td>131.847910</td>\n",
              "      <td>440.554980</td>\n",
              "      <td>309.431770</td>\n",
              "      <td>2286.748016</td>\n",
              "      <td>...</td>\n",
              "      <td>1051.535354</td>\n",
              "      <td>487.816516</td>\n",
              "      <td>785.175224</td>\n",
              "      <td>104.876552</td>\n",
              "      <td>363.884261</td>\n",
              "      <td>2174.680834</td>\n",
              "      <td>108.763407</td>\n",
              "      <td>926.947063</td>\n",
              "      <td>544.896122</td>\n",
              "      <td>0</td>\n",
              "    </tr>\n",
              "    <tr>\n",
              "      <th>2</th>\n",
              "      <td>20210420_029</td>\n",
              "      <td>33.124379</td>\n",
              "      <td>1717.149354</td>\n",
              "      <td>171.340081</td>\n",
              "      <td>1002.790531</td>\n",
              "      <td>2.841494</td>\n",
              "      <td>54.081091</td>\n",
              "      <td>21.738453</td>\n",
              "      <td>24.507923</td>\n",
              "      <td>196.245242</td>\n",
              "      <td>...</td>\n",
              "      <td>700.821757</td>\n",
              "      <td>324.643771</td>\n",
              "      <td>379.044638</td>\n",
              "      <td>27.521154</td>\n",
              "      <td>34.158236</td>\n",
              "      <td>1436.779597</td>\n",
              "      <td>27.398994</td>\n",
              "      <td>510.646098</td>\n",
              "      <td>182.016428</td>\n",
              "      <td>1</td>\n",
              "    </tr>\n",
              "    <tr>\n",
              "      <th>3</th>\n",
              "      <td>20210420_031</td>\n",
              "      <td>4.290027</td>\n",
              "      <td>0.000000</td>\n",
              "      <td>322.183226</td>\n",
              "      <td>785.579923</td>\n",
              "      <td>0.748938</td>\n",
              "      <td>120.946515</td>\n",
              "      <td>0.000000</td>\n",
              "      <td>11.281027</td>\n",
              "      <td>161.898929</td>\n",
              "      <td>...</td>\n",
              "      <td>116.449557</td>\n",
              "      <td>72.462262</td>\n",
              "      <td>74.381379</td>\n",
              "      <td>53.015654</td>\n",
              "      <td>7.153705</td>\n",
              "      <td>237.986766</td>\n",
              "      <td>105.797730</td>\n",
              "      <td>82.331384</td>\n",
              "      <td>144.030763</td>\n",
              "      <td>1</td>\n",
              "    </tr>\n",
              "    <tr>\n",
              "      <th>4</th>\n",
              "      <td>20210420_033</td>\n",
              "      <td>117.150763</td>\n",
              "      <td>29.729792</td>\n",
              "      <td>207.120797</td>\n",
              "      <td>3.819869</td>\n",
              "      <td>43.164301</td>\n",
              "      <td>330.283424</td>\n",
              "      <td>354.812847</td>\n",
              "      <td>314.922104</td>\n",
              "      <td>2326.797182</td>\n",
              "      <td>...</td>\n",
              "      <td>1066.533036</td>\n",
              "      <td>441.929508</td>\n",
              "      <td>558.965544</td>\n",
              "      <td>75.952197</td>\n",
              "      <td>315.557910</td>\n",
              "      <td>1118.011788</td>\n",
              "      <td>99.747356</td>\n",
              "      <td>770.547695</td>\n",
              "      <td>610.577823</td>\n",
              "      <td>2</td>\n",
              "    </tr>\n",
              "  </tbody>\n",
              "</table>\n",
              "<p>5 rows × 764 columns</p>\n",
              "</div>\n",
              "      <button class=\"colab-df-convert\" onclick=\"convertToInteractive('df-118c8a48-26ad-4343-97dc-4018d059fbce')\"\n",
              "              title=\"Convert this dataframe to an interactive table.\"\n",
              "              style=\"display:none;\">\n",
              "        \n",
              "  <svg xmlns=\"http://www.w3.org/2000/svg\" height=\"24px\"viewBox=\"0 0 24 24\"\n",
              "       width=\"24px\">\n",
              "    <path d=\"M0 0h24v24H0V0z\" fill=\"none\"/>\n",
              "    <path d=\"M18.56 5.44l.94 2.06.94-2.06 2.06-.94-2.06-.94-.94-2.06-.94 2.06-2.06.94zm-11 1L8.5 8.5l.94-2.06 2.06-.94-2.06-.94L8.5 2.5l-.94 2.06-2.06.94zm10 10l.94 2.06.94-2.06 2.06-.94-2.06-.94-.94-2.06-.94 2.06-2.06.94z\"/><path d=\"M17.41 7.96l-1.37-1.37c-.4-.4-.92-.59-1.43-.59-.52 0-1.04.2-1.43.59L10.3 9.45l-7.72 7.72c-.78.78-.78 2.05 0 2.83L4 21.41c.39.39.9.59 1.41.59.51 0 1.02-.2 1.41-.59l7.78-7.78 2.81-2.81c.8-.78.8-2.07 0-2.86zM5.41 20L4 18.59l7.72-7.72 1.47 1.35L5.41 20z\"/>\n",
              "  </svg>\n",
              "      </button>\n",
              "      \n",
              "  <style>\n",
              "    .colab-df-container {\n",
              "      display:flex;\n",
              "      flex-wrap:wrap;\n",
              "      gap: 12px;\n",
              "    }\n",
              "\n",
              "    .colab-df-convert {\n",
              "      background-color: #E8F0FE;\n",
              "      border: none;\n",
              "      border-radius: 50%;\n",
              "      cursor: pointer;\n",
              "      display: none;\n",
              "      fill: #1967D2;\n",
              "      height: 32px;\n",
              "      padding: 0 0 0 0;\n",
              "      width: 32px;\n",
              "    }\n",
              "\n",
              "    .colab-df-convert:hover {\n",
              "      background-color: #E2EBFA;\n",
              "      box-shadow: 0px 1px 2px rgba(60, 64, 67, 0.3), 0px 1px 3px 1px rgba(60, 64, 67, 0.15);\n",
              "      fill: #174EA6;\n",
              "    }\n",
              "\n",
              "    [theme=dark] .colab-df-convert {\n",
              "      background-color: #3B4455;\n",
              "      fill: #D2E3FC;\n",
              "    }\n",
              "\n",
              "    [theme=dark] .colab-df-convert:hover {\n",
              "      background-color: #434B5C;\n",
              "      box-shadow: 0px 1px 3px 1px rgba(0, 0, 0, 0.15);\n",
              "      filter: drop-shadow(0px 1px 2px rgba(0, 0, 0, 0.3));\n",
              "      fill: #FFFFFF;\n",
              "    }\n",
              "  </style>\n",
              "\n",
              "      <script>\n",
              "        const buttonEl =\n",
              "          document.querySelector('#df-118c8a48-26ad-4343-97dc-4018d059fbce button.colab-df-convert');\n",
              "        buttonEl.style.display =\n",
              "          google.colab.kernel.accessAllowed ? 'block' : 'none';\n",
              "\n",
              "        async function convertToInteractive(key) {\n",
              "          const element = document.querySelector('#df-118c8a48-26ad-4343-97dc-4018d059fbce');\n",
              "          const dataTable =\n",
              "            await google.colab.kernel.invokeFunction('convertToInteractive',\n",
              "                                                     [key], {});\n",
              "          if (!dataTable) return;\n",
              "\n",
              "          const docLinkHtml = 'Like what you see? Visit the ' +\n",
              "            '<a target=\"_blank\" href=https://colab.research.google.com/notebooks/data_table.ipynb>data table notebook</a>'\n",
              "            + ' to learn more about interactive tables.';\n",
              "          element.innerHTML = '';\n",
              "          dataTable['output_type'] = 'display_data';\n",
              "          await google.colab.output.renderOutput(dataTable, element);\n",
              "          const docLink = document.createElement('div');\n",
              "          docLink.innerHTML = docLinkHtml;\n",
              "          element.appendChild(docLink);\n",
              "        }\n",
              "      </script>\n",
              "    </div>\n",
              "  </div>\n",
              "  "
            ]
          },
          "metadata": {},
          "execution_count": 182
        }
      ]
    },
    {
      "cell_type": "code",
      "source": [
        "df_prostata_matrix = np.array(df_prostata_int_labeled_data[df_prostata_int_labeled_data.columns[1:-1]])\n",
        "centralized_prostata = preprocessing.scale(df_prostata_matrix, with_std = False)\n",
        "U, S, Vt = np.linalg.svd(centralized_prostata)\n",
        "eigenvalues = S/len(centralized_prostata)\n",
        "V = Vt.T"
      ],
      "metadata": {
        "id": "CCLbxFwkFT4k"
      },
      "execution_count": null,
      "outputs": []
    },
    {
      "cell_type": "code",
      "source": [
        "encode_and_decode_with_n_dimensions = lambda n: V[:n,:].T @ V[:n,:] @ centralized_prostata.T\n",
        "get_ecm_for_n_dimensions = lambda n: np.linalg.norm(centralized_prostata.T - encode_and_decode_with_n_dimensions(n)) ** 2\n",
        "x_axis = np.arange(1,len(V)+1)\n",
        "y_axis = [get_ecm_for_n_dimensions(n) for n in x_axis]\n",
        "plt.plot(x_axis, y_axis)\n",
        "plt.xlim(1,len(V))\n",
        "plt.ylim(0,6500000000000)\n",
        "plt.xlabel(\"Numero de componentes\")\n",
        "plt.ylabel(\"Error cuadrático medio / dispersión\");"
      ],
      "metadata": {
        "colab": {
          "base_uri": "https://localhost:8080/",
          "height": 290
        },
        "id": "OFq9bTVmFXkI",
        "outputId": "df6a70a0-ef14-40c9-8025-8db218051f69"
      },
      "execution_count": null,
      "outputs": [
        {
          "output_type": "display_data",
          "data": {
            "text/plain": [
              "<Figure size 432x288 with 1 Axes>"
            ],
            "image/png": "[encoded data removed]"
          },
          "metadata": {
            "needs_background": "light"
          }
        }
      ]
    },
    {
      "cell_type": "code",
      "source": [
        "N = len(df_prostata_int_labeled_data)\n",
        "eigenvalues = S/N\n",
        "y_axis = [sum(eigenvalues[:number_of_components])/sum(eigenvalues) for number_of_components in x_axis]\n",
        "plt.plot(x_axis, y_axis)\n",
        "plt.xlabel(\"Cantidad de componentes\")\n",
        "plt.ylabel(\"Energía\");"
      ],
      "metadata": {
        "colab": {
          "base_uri": "https://localhost:8080/",
          "height": 279
        },
        "id": "U_5fjq4NI_4q",
        "outputId": "b881efeb-93b2-411b-9934-0cf1de33ecc5"
      },
      "execution_count": null,
      "outputs": [
        {
          "output_type": "display_data",
          "data": {
            "text/plain": [
              "<Figure size 432x288 with 1 Axes>"
            ],
            "image/png": "[encoded data removed]"
          },
          "metadata": {
            "needs_background": "light"
          }
        }
      ]
    },
    {
      "cell_type": "markdown",
      "source": [
        "### 2)"
      ],
      "metadata": {
        "id": "0D5iLV00JPj5"
      }
    },
    {
      "cell_type": "markdown",
      "source": [
        "Grafique las dos componentes principales, marcando con colores distintos cada\n",
        "clase. ¿Que clase aparenta ser más fácil de clasificar?"
      ],
      "metadata": {
        "id": "36YDY3n6JSMu"
      }
    },
    {
      "cell_type": "code",
      "source": [
        "V_2d =  V[:2,:]\n",
        "projected_data = (V_2d @ centralized_prostata.T).T\n",
        "df_projected_data = pd.DataFrame(projected_data)\n",
        "df_projected_data.columns = [\"First Principal Component\", \"Second Principal Component\"]\n",
        "df_projected_data[\"Class\"] = df_prostata_labeled_data[\"class\"]\n",
        "df_projected_data"
      ],
      "metadata": {
        "colab": {
          "base_uri": "https://localhost:8080/",
          "height": 424
        },
        "id": "Fbps8WPKKQne",
        "outputId": "119579b8-1512-4c0a-af3d-ac8eabea1326"
      },
      "execution_count": null,
      "outputs": [
        {
          "output_type": "execute_result",
          "data": {
            "text/plain": [
              "     First Principal Component  Second Principal Component         Class\n",
              "0                -35788.757219                 2909.406583       healthy\n",
              "1                -29892.445059                 -358.501707       healthy\n",
              "2                 10986.725215                 -562.859924        cancer\n",
              "3                 22649.885934                -3722.759164        cancer\n",
              "4                 -4859.997885                 4590.741504  post-surgery\n",
              "..                         ...                         ...           ...\n",
              "385              -21915.482202                  598.868541        benign\n",
              "386               16443.016167                -2123.497922        cancer\n",
              "387                5608.331644                -2410.311343        benign\n",
              "388              -15895.601617                 1344.965061        benign\n",
              "389               21077.418708                -3123.532422        cancer\n",
              "\n",
              "[390 rows x 3 columns]"
            ],
            "text/html": [
              "\n",
              "  <div id=\"df-1603660b-fc74-4a41-83ed-ae817efeecb3\">\n",
              "    <div class=\"colab-df-container\">\n",
              "      <div>\n",
              "<style scoped>\n",
              "    .dataframe tbody tr th:only-of-type {\n",
              "        vertical-align: middle;\n",
              "    }\n",
              "\n",
              "    .dataframe tbody tr th {\n",
              "        vertical-align: top;\n",
              "    }\n",
              "\n",
              "    .dataframe thead th {\n",
              "        text-align: right;\n",
              "    }\n",
              "</style>\n",
              "<table border=\"1\" class=\"dataframe\">\n",
              "  <thead>\n",
              "    <tr style=\"text-align: right;\">\n",
              "      <th></th>\n",
              "      <th>First Principal Component</th>\n",
              "      <th>Second Principal Component</th>\n",
              "      <th>Class</th>\n",
              "    </tr>\n",
              "  </thead>\n",
              "  <tbody>\n",
              "    <tr>\n",
              "      <th>0</th>\n",
              "      <td>-35788.757219</td>\n",
              "      <td>2909.406583</td>\n",
              "      <td>healthy</td>\n",
              "    </tr>\n",
              "    <tr>\n",
              "      <th>1</th>\n",
              "      <td>-29892.445059</td>\n",
              "      <td>-358.501707</td>\n",
              "      <td>healthy</td>\n",
              "    </tr>\n",
              "    <tr>\n",
              "      <th>2</th>\n",
              "      <td>10986.725215</td>\n",
              "      <td>-562.859924</td>\n",
              "      <td>cancer</td>\n",
              "    </tr>\n",
              "    <tr>\n",
              "      <th>3</th>\n",
              "      <td>22649.885934</td>\n",
              "      <td>-3722.759164</td>\n",
              "      <td>cancer</td>\n",
              "    </tr>\n",
              "    <tr>\n",
              "      <th>4</th>\n",
              "      <td>-4859.997885</td>\n",
              "      <td>4590.741504</td>\n",
              "      <td>post-surgery</td>\n",
              "    </tr>\n",
              "    <tr>\n",
              "      <th>...</th>\n",
              "      <td>...</td>\n",
              "      <td>...</td>\n",
              "      <td>...</td>\n",
              "    </tr>\n",
              "    <tr>\n",
              "      <th>385</th>\n",
              "      <td>-21915.482202</td>\n",
              "      <td>598.868541</td>\n",
              "      <td>benign</td>\n",
              "    </tr>\n",
              "    <tr>\n",
              "      <th>386</th>\n",
              "      <td>16443.016167</td>\n",
              "      <td>-2123.497922</td>\n",
              "      <td>cancer</td>\n",
              "    </tr>\n",
              "    <tr>\n",
              "      <th>387</th>\n",
              "      <td>5608.331644</td>\n",
              "      <td>-2410.311343</td>\n",
              "      <td>benign</td>\n",
              "    </tr>\n",
              "    <tr>\n",
              "      <th>388</th>\n",
              "      <td>-15895.601617</td>\n",
              "      <td>1344.965061</td>\n",
              "      <td>benign</td>\n",
              "    </tr>\n",
              "    <tr>\n",
              "      <th>389</th>\n",
              "      <td>21077.418708</td>\n",
              "      <td>-3123.532422</td>\n",
              "      <td>cancer</td>\n",
              "    </tr>\n",
              "  </tbody>\n",
              "</table>\n",
              "<p>390 rows × 3 columns</p>\n",
              "</div>\n",
              "      <button class=\"colab-df-convert\" onclick=\"convertToInteractive('df-1603660b-fc74-4a41-83ed-ae817efeecb3')\"\n",
              "              title=\"Convert this dataframe to an interactive table.\"\n",
              "              style=\"display:none;\">\n",
              "        \n",
              "  <svg xmlns=\"http://www.w3.org/2000/svg\" height=\"24px\"viewBox=\"0 0 24 24\"\n",
              "       width=\"24px\">\n",
              "    <path d=\"M0 0h24v24H0V0z\" fill=\"none\"/>\n",
              "    <path d=\"M18.56 5.44l.94 2.06.94-2.06 2.06-.94-2.06-.94-.94-2.06-.94 2.06-2.06.94zm-11 1L8.5 8.5l.94-2.06 2.06-.94-2.06-.94L8.5 2.5l-.94 2.06-2.06.94zm10 10l.94 2.06.94-2.06 2.06-.94-2.06-.94-.94-2.06-.94 2.06-2.06.94z\"/><path d=\"M17.41 7.96l-1.37-1.37c-.4-.4-.92-.59-1.43-.59-.52 0-1.04.2-1.43.59L10.3 9.45l-7.72 7.72c-.78.78-.78 2.05 0 2.83L4 21.41c.39.39.9.59 1.41.59.51 0 1.02-.2 1.41-.59l7.78-7.78 2.81-2.81c.8-.78.8-2.07 0-2.86zM5.41 20L4 18.59l7.72-7.72 1.47 1.35L5.41 20z\"/>\n",
              "  </svg>\n",
              "      </button>\n",
              "      \n",
              "  <style>\n",
              "    .colab-df-container {\n",
              "      display:flex;\n",
              "      flex-wrap:wrap;\n",
              "      gap: 12px;\n",
              "    }\n",
              "\n",
              "    .colab-df-convert {\n",
              "      background-color: #E8F0FE;\n",
              "      border: none;\n",
              "      border-radius: 50%;\n",
              "      cursor: pointer;\n",
              "      display: none;\n",
              "      fill: #1967D2;\n",
              "      height: 32px;\n",
              "      padding: 0 0 0 0;\n",
              "      width: 32px;\n",
              "    }\n",
              "\n",
              "    .colab-df-convert:hover {\n",
              "      background-color: #E2EBFA;\n",
              "      box-shadow: 0px 1px 2px rgba(60, 64, 67, 0.3), 0px 1px 3px 1px rgba(60, 64, 67, 0.15);\n",
              "      fill: #174EA6;\n",
              "    }\n",
              "\n",
              "    [theme=dark] .colab-df-convert {\n",
              "      background-color: #3B4455;\n",
              "      fill: #D2E3FC;\n",
              "    }\n",
              "\n",
              "    [theme=dark] .colab-df-convert:hover {\n",
              "      background-color: #434B5C;\n",
              "      box-shadow: 0px 1px 3px 1px rgba(0, 0, 0, 0.15);\n",
              "      filter: drop-shadow(0px 1px 2px rgba(0, 0, 0, 0.3));\n",
              "      fill: #FFFFFF;\n",
              "    }\n",
              "  </style>\n",
              "\n",
              "      <script>\n",
              "        const buttonEl =\n",
              "          document.querySelector('#df-1603660b-fc74-4a41-83ed-ae817efeecb3 button.colab-df-convert');\n",
              "        buttonEl.style.display =\n",
              "          google.colab.kernel.accessAllowed ? 'block' : 'none';\n",
              "\n",
              "        async function convertToInteractive(key) {\n",
              "          const element = document.querySelector('#df-1603660b-fc74-4a41-83ed-ae817efeecb3');\n",
              "          const dataTable =\n",
              "            await google.colab.kernel.invokeFunction('convertToInteractive',\n",
              "                                                     [key], {});\n",
              "          if (!dataTable) return;\n",
              "\n",
              "          const docLinkHtml = 'Like what you see? Visit the ' +\n",
              "            '<a target=\"_blank\" href=https://colab.research.google.com/notebooks/data_table.ipynb>data table notebook</a>'\n",
              "            + ' to learn more about interactive tables.';\n",
              "          element.innerHTML = '';\n",
              "          dataTable['output_type'] = 'display_data';\n",
              "          await google.colab.output.renderOutput(dataTable, element);\n",
              "          const docLink = document.createElement('div');\n",
              "          docLink.innerHTML = docLinkHtml;\n",
              "          element.appendChild(docLink);\n",
              "        }\n",
              "      </script>\n",
              "    </div>\n",
              "  </div>\n",
              "  "
            ]
          },
          "metadata": {},
          "execution_count": 230
        }
      ]
    },
    {
      "cell_type": "code",
      "source": [
        "sns.scatterplot(data = df_projected_data, x = \"First Principal Component\", y = \"Second Principal Component\", hue = \"Class\")\n",
        "plt.xticks([])\n",
        "plt.yticks([]);"
      ],
      "metadata": {
        "colab": {
          "base_uri": "https://localhost:8080/",
          "height": 262
        },
        "id": "FzoYfoi-mX9a",
        "outputId": "8729208b-1f97-4f29-9999-01637c87a21d"
      },
      "execution_count": null,
      "outputs": [
        {
          "output_type": "display_data",
          "data": {
            "text/plain": [
              "<Figure size 432x288 with 1 Axes>"
            ],
            "image/png": "[encoded data removed]"
          },
          "metadata": {}
        }
      ]
    },
    {
      "cell_type": "markdown",
      "source": [
        "Podemos observar que la clase más simple de diferenciar es la clase **cancer**"
      ],
      "metadata": {
        "id": "fXNk4MezL8kL"
      }
    },
    {
      "cell_type": "markdown",
      "source": [
        "## MNIST"
      ],
      "metadata": {
        "id": "eRTgufgwMYwP"
      }
    },
    {
      "cell_type": "markdown",
      "source": [
        "### 1)"
      ],
      "metadata": {
        "id": "Wqnik8ZQRCKF"
      }
    },
    {
      "cell_type": "markdown",
      "source": [
        "Utilice los datos de entrenamiento para definir los autovectores de PCA y utilice\n",
        "los datos de testeo para variar la cantidad de componentes principales con las\n",
        "que se quedan para graficar el error cuadrático medio en función de la cantidad\n",
        "de componentes principales. Repita el mismo procedimiento para el porcentaje de\n",
        "energía"
      ],
      "metadata": {
        "id": "TjuzYm6iRD-d"
      }
    },
    {
      "cell_type": "code",
      "source": [
        "mnist = tf.keras.datasets.mnist\n",
        "(train_images, train_labels), (test_images, test_labels) = mnist.load_data()"
      ],
      "metadata": {
        "id": "3s5rbUmtRG9G"
      },
      "execution_count": 89,
      "outputs": []
    },
    {
      "cell_type": "code",
      "source": [
        "rows = np.shape(test_images)[1]**2\n",
        "images_as_vectors = np.array([np.squeeze(image.reshape(1,rows)) for image in train_images])\n",
        "mnist_targets = train_labels.copy().reshape(len(train_labels))"
      ],
      "metadata": {
        "id": "T0gTkjAxRTuF"
      },
      "execution_count": 90,
      "outputs": []
    },
    {
      "cell_type": "code",
      "source": [
        "U, S, Vt = np.linalg.svd(images_as_vectors, full_matrices = False)\n",
        "eigenvalues = S/len(images_as_vectors)\n",
        "V = Vt.T\n",
        "encode_and_decode_with_n_dimensions = lambda n: V[:n,:].T @ V[:n,:] @ images_as_vectors.T\n"
      ],
      "metadata": {
        "id": "Qh35tO0ZSs0o"
      },
      "execution_count": 91,
      "outputs": []
    },
    {
      "cell_type": "code",
      "source": [
        "get_ecm_for_n_dimensions = lambda n: np.linalg.norm(images_as_vectors.T - encode_and_decode_with_n_dimensions(n)) ** 2\n",
        "x_axis = np.arange(1,300)\n",
        "y_axis = [get_ecm_for_n_dimensions(n) for n in x_axis]\n",
        "plt.plot(x_axis, y_axis)\n",
        "plt.xlim(1,300)\n",
        "plt.xlabel(\"Numero de componentes\")\n",
        "plt.ylabel(\"Error cuadrático medio / dispersión\");"
      ],
      "metadata": {
        "colab": {
          "base_uri": "https://localhost:8080/",
          "height": 290
        },
        "id": "Vb3-Vrg7TPy-",
        "outputId": "0745e981-10fb-4eec-be3b-fd0da1e27773"
      },
      "execution_count": null,
      "outputs": [
        {
          "output_type": "display_data",
          "data": {
            "text/plain": [
              "<Figure size 432x288 with 1 Axes>"
            ],
            "image/png": "[encoded data removed]"
          },
          "metadata": {
            "needs_background": "light"
          }
        }
      ]
    },
    {
      "cell_type": "code",
      "source": [
        "N = len(images_as_vectors)\n",
        "eigenvalues = S/N\n",
        "y_axis = [sum(eigenvalues[:number_of_components])/sum(eigenvalues) for number_of_components in x_axis]\n",
        "plt.plot(x_axis, y_axis)\n",
        "plt.xlabel(\"Cantidad de componentes\")\n",
        "plt.ylabel(\"Energía\");"
      ],
      "metadata": {
        "colab": {
          "base_uri": "https://localhost:8080/",
          "height": 282
        },
        "id": "uUHb5weHU7GT",
        "outputId": "6ed27490-d396-4e2b-aa23-5e906d3a1a91"
      },
      "execution_count": null,
      "outputs": [
        {
          "output_type": "display_data",
          "data": {
            "text/plain": [
              "<Figure size 432x288 with 1 Axes>"
            ],
            "image/png": "[encoded data removed]"
          },
          "metadata": {
            "needs_background": "light"
          }
        }
      ]
    },
    {
      "cell_type": "markdown",
      "source": [
        "### 2)"
      ],
      "metadata": {
        "id": "KVOb-tqqVT2w"
      }
    },
    {
      "cell_type": "markdown",
      "source": [
        "Utilice los datos de entrenamiento para definir los autovectores de PCA y haga\n",
        "la reconstrucción sobre los datos de testeo. A ojo estime cuantas componentes\n",
        "principales se necesitan como mínimo para distinguir los dígitos"
      ],
      "metadata": {
        "id": "OXJczDtzVWDv"
      }
    },
    {
      "cell_type": "markdown",
      "source": [
        "Probemos primero con 700 componentes"
      ],
      "metadata": {
        "id": "iH_5IB63VrIj"
      }
    },
    {
      "cell_type": "code",
      "source": [
        "V_700_d = V[:700,:]\n",
        "reconstruction = (V_700_d.T @ V_700_d @ images_as_vectors.T).T"
      ],
      "metadata": {
        "id": "epZtMEeaVvVb"
      },
      "execution_count": null,
      "outputs": []
    },
    {
      "cell_type": "code",
      "source": [
        "plt.imshow(images_as_vectors[520].reshape(28,28), cmap = \"gray_r\");"
      ],
      "metadata": {
        "colab": {
          "base_uri": "https://localhost:8080/",
          "height": 265
        },
        "id": "GVJIN-r3WpVA",
        "outputId": "ac310325-84fc-4fa3-c7b4-81b59336fef7"
      },
      "execution_count": null,
      "outputs": [
        {
          "output_type": "display_data",
          "data": {
            "text/plain": [
              "<Figure size 432x288 with 1 Axes>"
            ],
            "image/png": "[encoded data removed]"
          },
          "metadata": {
            "needs_background": "light"
          }
        }
      ]
    },
    {
      "cell_type": "code",
      "source": [
        "plt.imshow(reconstruction[520].reshape(28,28), cmap = \"gray_r\");"
      ],
      "metadata": {
        "colab": {
          "base_uri": "https://localhost:8080/",
          "height": 265
        },
        "id": "Nnk--byCW5qR",
        "outputId": "fa9329da-4027-45fb-fd12-70f1a939a53c"
      },
      "execution_count": null,
      "outputs": [
        {
          "output_type": "display_data",
          "data": {
            "text/plain": [
              "<Figure size 432x288 with 1 Axes>"
            ],
            "image/png": "[encoded data removed]"
          },
          "metadata": {
            "needs_background": "light"
          }
        }
      ]
    },
    {
      "cell_type": "markdown",
      "source": [
        "Con 400, 300 componentes"
      ],
      "metadata": {
        "id": "YWXJk8EjX5y8"
      }
    },
    {
      "cell_type": "code",
      "source": [
        "V_400_d = V[:400,:]\n",
        "reconstruction = (V_400_d.T @ V_400_d @ images_as_vectors.T).T\n",
        "plt.imshow(reconstruction[520].reshape(28,28), cmap = \"gray_r\");"
      ],
      "metadata": {
        "colab": {
          "base_uri": "https://localhost:8080/",
          "height": 265
        },
        "id": "71TmDJ0CYjGj",
        "outputId": "cf091495-bf22-409a-84fe-da73a79edd27"
      },
      "execution_count": null,
      "outputs": [
        {
          "output_type": "display_data",
          "data": {
            "text/plain": [
              "<Figure size 432x288 with 1 Axes>"
            ],
            "image/png": "[encoded data removed]"
          },
          "metadata": {
            "needs_background": "light"
          }
        }
      ]
    },
    {
      "cell_type": "code",
      "source": [
        "V_300_d = V[:300,:]\n",
        "reconstruction = (V_300_d.T @ V_300_d @ images_as_vectors.T).T\n",
        "plt.imshow(reconstruction[520].reshape(28,28), cmap = \"gray_r\");"
      ],
      "metadata": {
        "colab": {
          "base_uri": "https://localhost:8080/",
          "height": 265
        },
        "id": "Xfalx87BY0EV",
        "outputId": "c4194fed-c009-4fa2-876c-76dd041db3cc"
      },
      "execution_count": null,
      "outputs": [
        {
          "output_type": "display_data",
          "data": {
            "text/plain": [
              "<Figure size 432x288 with 1 Axes>"
            ],
            "image/png": "[encoded data removed]"
          },
          "metadata": {
            "needs_background": "light"
          }
        }
      ]
    },
    {
      "cell_type": "markdown",
      "source": [
        "Y con número de dimensiones menor a 300 ya se hace muy complicado observar el dígito."
      ],
      "metadata": {
        "id": "0J0cDpF5ZEPk"
      }
    },
    {
      "cell_type": "markdown",
      "source": [
        "### 3)"
      ],
      "metadata": {
        "id": "byfAovKFEu70"
      }
    },
    {
      "cell_type": "markdown",
      "source": [
        "Manifold Learning: La idea es explorar el manifold encontrado por un PCA con\n",
        "2 componentes principales. Utilice los datos de entrenamiento para entrenar el\n",
        "módulo de PCA, transforme los mismos datos al espacio latente de dimensión dos\n",
        "y anote los valores mínimos y máximos de cada componente. Ahora defina una\n",
        "grilla regular de 10 × 10 entre los valores mínimos y máximos obtenidos. Cada\n",
        "punto de esa grilla (100 en total) debe ser reconstruido en una imagen y mostrar\n",
        "los 100 dígitos reconstruidos en una grilla de 10 × 10 representativa del espacio\n",
        "latente. No sea muy optimista al respecto."
      ],
      "metadata": {
        "id": "CeclZZD2FFIX"
      }
    },
    {
      "cell_type": "code",
      "source": [
        "pca = decomposition.PCA(n_components=2)\n",
        "images_pca = pca.fit(images_as_vectors)"
      ],
      "metadata": {
        "id": "FBKms99QF6Hs"
      },
      "execution_count": null,
      "outputs": []
    },
    {
      "cell_type": "code",
      "source": [
        "dim_reduced_images = images_pca.transform(images_as_vectors)\n",
        "dim_reduced_images"
      ],
      "metadata": {
        "id": "Wgb17EJxGZsR"
      },
      "execution_count": null,
      "outputs": []
    },
    {
      "cell_type": "code",
      "source": [
        "np.shape(test_images)"
      ],
      "metadata": {
        "id": "WP9PMDB3H4Qv"
      },
      "execution_count": null,
      "outputs": []
    },
    {
      "cell_type": "markdown",
      "source": [
        "### 4)"
      ],
      "metadata": {
        "id": "TNSO20APKH4H"
      }
    },
    {
      "cell_type": "markdown",
      "source": [
        "Detección de anomalías: Utilice los datos de entrenamiento para entrenar el módulo de PCA con todas las componentes principales. Arme una nueva base de\n",
        "datos combinando el conjunto de testeo de MNIST con el conjunto de testeo de\n",
        "FASHION-MNIST (estas van a hacer las veces de imágenes anómalas). Construya un detector de anomalías comparando el error cuadrático de la reconstrucción\n",
        "contra un umbral a definir. En lugar de elegir un umbral, grafique la curva ROC\n",
        "y calcule el equal error rate (el error para el umbral que hace iguales a los dos\n",
        "tipos de errores). Va a tener que efectuar una búsqueda bibliográfica para entender las curvas ROC (haga su propia implementación!). Repita para 1 componente\n",
        "principal y para 10 y grafique las 3 ROC superpuestas. Extraiga conclusiones."
      ],
      "metadata": {
        "id": "fCAZCE-JKR5X"
      }
    },
    {
      "cell_type": "code",
      "source": [
        "fashion_mnist = tf.keras.datasets.fashion_mnist\n",
        "(fashion_train_images, fashion_train_labels), (fashion_test_images, fashion_test_labels) = fashion_mnist.load_data()"
      ],
      "metadata": {
        "colab": {
          "base_uri": "https://localhost:8080/"
        },
        "id": "R8Koac7uLJAj",
        "outputId": "2df01c6c-2baa-4968-b858-c4bdd51d9807"
      },
      "execution_count": null,
      "outputs": [
        {
          "output_type": "stream",
          "name": "stdout",
          "text": [
            "Downloading data from https://storage.googleapis.com/tensorflow/tf-keras-datasets/train-labels-idx1-ubyte.gz\n",
            "32768/29515 [=================================] - 0s 0us/step\n",
            "40960/29515 [=========================================] - 0s 0us/step\n",
            "Downloading data from https://storage.googleapis.com/tensorflow/tf-keras-datasets/train-images-idx3-ubyte.gz\n",
            "26427392/26421880 [==============================] - 0s 0us/step\n",
            "26435584/26421880 [==============================] - 0s 0us/step\n",
            "Downloading data from https://storage.googleapis.com/tensorflow/tf-keras-datasets/t10k-labels-idx1-ubyte.gz\n",
            "16384/5148 [===============================================================================================] - 0s 0us/step\n",
            "Downloading data from https://storage.googleapis.com/tensorflow/tf-keras-datasets/t10k-images-idx3-ubyte.gz\n",
            "4423680/4422102 [==============================] - 0s 0us/step\n",
            "4431872/4422102 [==============================] - 0s 0us/step\n"
          ]
        }
      ]
    },
    {
      "cell_type": "code",
      "source": [
        "rows = np.shape(test_images)[1]**2\n",
        "fashion_images_as_vectors = np.array([np.squeeze(image.reshape(1,rows)) for image in fashion_test_images])\n",
        "images_as_vectors = np.array([np.squeeze(image.reshape(1,rows)) for image in train_images])\n",
        "mnist_targets = train_labels.copy().reshape(len(train_labels))"
      ],
      "metadata": {
        "id": "w770ucIiLK02"
      },
      "execution_count": null,
      "outputs": []
    },
    {
      "cell_type": "code",
      "source": [
        "encode_and_decode_image_with_n_dimensions = lambda n, image: V[:n,:].T @ V[:n,:] @ image.T\n",
        "encoded_and_decoded_image = encode_and_decode_image_with_n_dimensions(500, images_as_vectors[0,:].reshape(1,-1))\n",
        "plt.imshow(encoded_and_decoded_image.reshape(28,28));"
      ],
      "metadata": {
        "colab": {
          "base_uri": "https://localhost:8080/",
          "height": 265
        },
        "id": "qnuMGDuVKTkc",
        "outputId": "e50f51b5-38db-45a0-be76-89e9bcd02170"
      },
      "execution_count": 92,
      "outputs": [
        {
          "output_type": "display_data",
          "data": {
            "text/plain": [
              "<Figure size 432x288 with 1 Axes>"
            ],
            "image/png": "[encoded data removed]"
          },
          "metadata": {
            "needs_background": "light"
          }
        }
      ]
    },
    {
      "cell_type": "code",
      "source": [
        "plt.imshow(fashion_images_as_vectors[0,:].reshape(28,28));"
      ],
      "metadata": {
        "colab": {
          "base_uri": "https://localhost:8080/",
          "height": 265
        },
        "id": "gXRKpXlDpqRF",
        "outputId": "c1bb55b8-4aec-4a22-e7bb-001dd2ecc8be"
      },
      "execution_count": null,
      "outputs": [
        {
          "output_type": "display_data",
          "data": {
            "text/plain": [
              "<Figure size 432x288 with 1 Axes>"
            ],
            "image/png": "[encoded data removed]"
          },
          "metadata": {
            "needs_background": "light"
          }
        }
      ]
    },
    {
      "cell_type": "code",
      "source": [
        "encoded_and_decoded_boot = encode_and_decode_image_with_n_dimensions(500, fashion_images_as_vectors[0,:].reshape(1,-1))\n",
        "plt.imshow(encoded_and_decoded_boot.reshape(28,28));"
      ],
      "metadata": {
        "colab": {
          "base_uri": "https://localhost:8080/",
          "height": 265
        },
        "id": "q5050mivNKP9",
        "outputId": "0d9d675c-bc4f-44f1-e670-96149bfe527e"
      },
      "execution_count": 93,
      "outputs": [
        {
          "output_type": "display_data",
          "data": {
            "text/plain": [
              "<Figure size 432x288 with 1 Axes>"
            ],
            "image/png": "[encoded data removed]"
          },
          "metadata": {
            "needs_background": "light"
          }
        }
      ]
    },
    {
      "cell_type": "code",
      "source": [
        "average_dispersion = sum([np.linalg.norm(images_as_vectors[i,:] -\\\n",
        "                                         encode_and_decode_image_with_n_dimensions(500,images_as_vectors[i,:]))**2 \\\n",
        "                          for i in range(0,1000)])/1000"
      ],
      "metadata": {
        "id": "CEhzjaXy5Apw"
      },
      "execution_count": null,
      "outputs": []
    },
    {
      "cell_type": "code",
      "source": [
        "sum([np.linalg.norm(images_as_vectors[i,:] -\\\n",
        "                                         encode_and_decode_image_with_n_dimensions(500,images_as_vectors[i,:]))**2 \\\n",
        "                          for i in range(0,1000)])/1000"
      ],
      "metadata": {
        "colab": {
          "base_uri": "https://localhost:8080/"
        },
        "id": "V78noI-WHjK8",
        "outputId": "6551a99b-2f55-4071-ef90-5b4a381706d7"
      },
      "execution_count": null,
      "outputs": [
        {
          "output_type": "execute_result",
          "data": {
            "text/plain": [
              "679674.6994983921"
            ]
          },
          "metadata": {},
          "execution_count": 126
        }
      ]
    },
    {
      "cell_type": "code",
      "source": [
        "decision_boundary = average_dispersion*1.8"
      ],
      "metadata": {
        "id": "niib1Vk6A6pd"
      },
      "execution_count": null,
      "outputs": []
    },
    {
      "cell_type": "code",
      "source": [
        "detect_outlier = lambda x: np.linalg.norm(x-encode_and_decode_image_with_n_dimensions(500,x))**2 > decision_boundary\n",
        "misclassification_count = sum([not detect_outlier(fashion_images_as_vectors[i,:]) for i in range(0,1000)])\n",
        "misclassification_count"
      ],
      "metadata": {
        "colab": {
          "base_uri": "https://localhost:8080/"
        },
        "id": "SPzYzbhp7iT_",
        "outputId": "0d5b8456-e425-40b0-bc3f-f0f6c9e4c340"
      },
      "execution_count": null,
      "outputs": [
        {
          "output_type": "execute_result",
          "data": {
            "text/plain": [
              "517"
            ]
          },
          "metadata": {},
          "execution_count": 136
        }
      ]
    },
    {
      "cell_type": "code",
      "source": [
        "detect_outlier_with_threshold = lambda x,threshold: np.linalg.norm(x-encode_and_decode_image_with_n_dimensions(500,x))**2 > threshold\n",
        "get_tpr = lambda threshold: sum([detect_outlier_with_threshold(fashion_images_as_vectors[i,:], threshold) for i in range(0,1000)])/1000\n",
        "get_fpr = lambda threshold: sum([detect_outlier_with_threshold(images_as_vectors[i,:], threshold) for i in range(0,1000)])/1000\n",
        "\n",
        "values = np.arange(0.3,1.7,0.02)\n",
        "y_axis = [get_tpr(average_dispersion*value) for value in values]\n",
        "x_axis = [get_fpr(average_dispersion*value) for value in values]\n",
        "plt.plot(x_axis,y_axis)\n",
        "plt.xlim(0,1)\n",
        "plt.ylim(0,1)"
      ],
      "metadata": {
        "colab": {
          "base_uri": "https://localhost:8080/",
          "height": 286
        },
        "id": "SA6AYibFOse6",
        "outputId": "7edc6145-70ab-41e4-fa82-fcd213aa370d"
      },
      "execution_count": 96,
      "outputs": [
        {
          "output_type": "execute_result",
          "data": {
            "text/plain": [
              "(0.0, 1.0)"
            ]
          },
          "metadata": {},
          "execution_count": 96
        },
        {
          "output_type": "display_data",
          "data": {
            "text/plain": [
              "<Figure size 432x288 with 1 Axes>"
            ],
            "image/png": "[encoded data removed]"
          },
          "metadata": {
            "needs_background": "light"
          }
        }
      ]
    },
    {
      "cell_type": "markdown",
      "source": [
        "Vemos que llegamos al EER aproximadamente en 0.5, con threeshold del error cuadratico medio * 0.5"
      ],
      "metadata": {
        "id": "mxbTpf0Ubhzm"
      }
    },
    {
      "cell_type": "markdown",
      "source": [
        "### 5)"
      ],
      "metadata": {
        "id": "lkLCGf8nP58y"
      }
    },
    {
      "cell_type": "markdown",
      "source": [
        "Pre-processing: Elija una cantidad de componentes para que la clasi\u001ccación sea\n",
        "aún nítida (pero no sea aburrido, full no vale) y entrene un módulo PCA con\n",
        "los datos de entrenamiento. Utilice las representaciones latentes para desarrollar\n",
        "un clasi\u001ccador logístico. Repita el procedimiento pero usando las reconstrucciones.\n",
        "Compare ambos clasi\u001ccadores entre ellos y con el que desarrollo anteriormente (sin\n",
        "PCA). Extraiga conclusiones."
      ],
      "metadata": {
        "id": "an_86L_aP7cS"
      }
    },
    {
      "cell_type": "code",
      "source": [
        "pca = decomposition.PCA(n_components=500)\n",
        "trained_pca = pca.fit(images_as_vectors)\n",
        "encoded_images = trained_pca.transform(images_as_vectors)"
      ],
      "metadata": {
        "id": "d1cyaFxfP_Q3"
      },
      "execution_count": 114,
      "outputs": []
    },
    {
      "cell_type": "code",
      "source": [
        "np.shape(encoded_images)"
      ],
      "metadata": {
        "id": "gMb1gxyXgBPQ",
        "outputId": "0fae4d88-a5bb-4ea3-d429-09860b7891b9",
        "colab": {
          "base_uri": "https://localhost:8080/"
        }
      },
      "execution_count": 116,
      "outputs": [
        {
          "output_type": "execute_result",
          "data": {
            "text/plain": [
              "(60000, 500)"
            ]
          },
          "metadata": {},
          "execution_count": 116
        }
      ]
    },
    {
      "cell_type": "code",
      "source": [
        "model_mnist = tf.keras.Sequential()\n",
        "model_mnist.add(tf.keras.layers.Dense(10, input_dim = 500, activation = \"softmax\"))\n",
        "early_stop = tf.keras.callbacks.EarlyStopping(monitor='loss', patience=100)\n",
        "model_mnist.compile(optimizer=tf.keras.optimizers.SGD(learning_rate=0.001),loss=tf.keras.losses.SparseCategoricalCrossentropy(from_logits=True),\n",
        "                          metrics=[\"accuracy\"])\n",
        "hist = model_mnist.fit(x=encoded_images, y=mnist_targets, batch_size = len(encoded_images), epochs=5000,callbacks=[early_stop]);"
      ],
      "metadata": {
        "id": "wd8UBvf0SlAa",
        "outputId": "18ebda88-a5a7-4f01-b119-c91b2114c84e",
        "colab": {
          "base_uri": "https://localhost:8080/"
        }
      },
      "execution_count": null,
      "outputs": [
        {
          "output_type": "stream",
          "name": "stdout",
          "text": [
            "Epoch 1/5000\n",
            "1/1 [==============================] - 0s 278ms/step - loss: 205.1414 - accuracy: 0.0551\n",
            "Epoch 2/5000\n",
            "1/1 [==============================] - 0s 58ms/step - loss: 101.2851 - accuracy: 0.2261\n",
            "Epoch 3/5000\n",
            "1/1 [==============================] - 0s 50ms/step - loss: 62.1423 - accuracy: 0.4159\n",
            "Epoch 4/5000\n",
            "1/1 [==============================] - 0s 54ms/step - loss: 46.5946 - accuracy: 0.5124\n",
            "Epoch 5/5000\n",
            "1/1 [==============================] - 0s 56ms/step - loss: 38.2591 - accuracy: 0.5707\n",
            "Epoch 6/5000\n",
            "1/1 [==============================] - 0s 53ms/step - loss: 32.9892 - accuracy: 0.6120\n",
            "Epoch 7/5000\n",
            "1/1 [==============================] - 0s 64ms/step - loss: 29.3592 - accuracy: 0.6426\n",
            "Epoch 8/5000\n",
            "1/1 [==============================] - 0s 53ms/step - loss: 26.6926 - accuracy: 0.6666\n",
            "Epoch 9/5000\n",
            "1/1 [==============================] - 0s 54ms/step - loss: 24.6566 - accuracy: 0.6854\n",
            "Epoch 10/5000\n",
            "1/1 [==============================] - 0s 52ms/step - loss: 23.0498 - accuracy: 0.7005\n",
            "Epoch 11/5000\n",
            "1/1 [==============================] - 0s 58ms/step - loss: 21.7461 - accuracy: 0.7142\n",
            "Epoch 12/5000\n",
            "1/1 [==============================] - 0s 51ms/step - loss: 20.6666 - accuracy: 0.7252\n",
            "Epoch 13/5000\n",
            "1/1 [==============================] - 0s 57ms/step - loss: 19.7540 - accuracy: 0.7353\n",
            "Epoch 14/5000\n",
            "1/1 [==============================] - 0s 53ms/step - loss: 18.9765 - accuracy: 0.7433\n",
            "Epoch 15/5000\n",
            "1/1 [==============================] - 0s 49ms/step - loss: 18.3002 - accuracy: 0.7507\n",
            "Epoch 16/5000\n",
            "1/1 [==============================] - 0s 61ms/step - loss: 17.7002 - accuracy: 0.7565\n",
            "Epoch 17/5000\n",
            "1/1 [==============================] - 0s 51ms/step - loss: 17.1618 - accuracy: 0.7622\n",
            "Epoch 18/5000\n",
            "1/1 [==============================] - 0s 53ms/step - loss: 16.6781 - accuracy: 0.7675\n",
            "Epoch 19/5000\n",
            "1/1 [==============================] - 0s 50ms/step - loss: 16.2422 - accuracy: 0.7721\n",
            "Epoch 20/5000\n",
            "1/1 [==============================] - 0s 58ms/step - loss: 15.8477 - accuracy: 0.7764\n",
            "Epoch 21/5000\n",
            "1/1 [==============================] - 0s 50ms/step - loss: 15.4865 - accuracy: 0.7802\n",
            "Epoch 22/5000\n",
            "1/1 [==============================] - 0s 57ms/step - loss: 15.1523 - accuracy: 0.7843\n",
            "Epoch 23/5000\n",
            "1/1 [==============================] - 0s 57ms/step - loss: 14.8434 - accuracy: 0.7876\n",
            "Epoch 24/5000\n",
            "1/1 [==============================] - 0s 49ms/step - loss: 14.5567 - accuracy: 0.7906\n",
            "Epoch 25/5000\n",
            "1/1 [==============================] - 0s 61ms/step - loss: 14.2895 - accuracy: 0.7935\n",
            "Epoch 26/5000\n",
            "1/1 [==============================] - 0s 53ms/step - loss: 14.0397 - accuracy: 0.7959\n",
            "Epoch 27/5000\n",
            "1/1 [==============================] - 0s 52ms/step - loss: 13.8055 - accuracy: 0.7983\n",
            "Epoch 28/5000\n",
            "1/1 [==============================] - 0s 55ms/step - loss: 13.5867 - accuracy: 0.8012\n",
            "Epoch 29/5000\n",
            "1/1 [==============================] - 0s 64ms/step - loss: 13.3827 - accuracy: 0.8034\n",
            "Epoch 30/5000\n",
            "1/1 [==============================] - 0s 47ms/step - loss: 13.1913 - accuracy: 0.8056\n",
            "Epoch 31/5000\n",
            "1/1 [==============================] - 0s 54ms/step - loss: 13.0105 - accuracy: 0.8077\n",
            "Epoch 32/5000\n",
            "1/1 [==============================] - 0s 54ms/step - loss: 12.8395 - accuracy: 0.8094\n",
            "Epoch 33/5000\n",
            "1/1 [==============================] - 0s 52ms/step - loss: 12.6771 - accuracy: 0.8116\n",
            "Epoch 34/5000\n",
            "1/1 [==============================] - 0s 61ms/step - loss: 12.5225 - accuracy: 0.8132\n",
            "Epoch 35/5000\n",
            "1/1 [==============================] - 0s 54ms/step - loss: 12.3753 - accuracy: 0.8148\n",
            "Epoch 36/5000\n",
            "1/1 [==============================] - 0s 54ms/step - loss: 12.2348 - accuracy: 0.8163\n",
            "Epoch 37/5000\n",
            "1/1 [==============================] - 0s 53ms/step - loss: 12.1005 - accuracy: 0.8177\n",
            "Epoch 38/5000\n",
            "1/1 [==============================] - 0s 55ms/step - loss: 11.9719 - accuracy: 0.8188\n",
            "Epoch 39/5000\n",
            "1/1 [==============================] - 0s 61ms/step - loss: 11.8488 - accuracy: 0.8201\n",
            "Epoch 40/5000\n",
            "1/1 [==============================] - 0s 56ms/step - loss: 11.7308 - accuracy: 0.8212\n",
            "Epoch 41/5000\n",
            "1/1 [==============================] - 0s 55ms/step - loss: 11.6172 - accuracy: 0.8223\n",
            "Epoch 42/5000\n",
            "1/1 [==============================] - 0s 52ms/step - loss: 11.5077 - accuracy: 0.8237\n",
            "Epoch 43/5000\n",
            "1/1 [==============================] - 0s 50ms/step - loss: 11.4023 - accuracy: 0.8246\n",
            "Epoch 44/5000\n",
            "1/1 [==============================] - 0s 63ms/step - loss: 11.3008 - accuracy: 0.8257\n",
            "Epoch 45/5000\n",
            "1/1 [==============================] - 0s 53ms/step - loss: 11.2028 - accuracy: 0.8270\n",
            "Epoch 46/5000\n",
            "1/1 [==============================] - 0s 60ms/step - loss: 11.1081 - accuracy: 0.8282\n",
            "Epoch 47/5000\n",
            "1/1 [==============================] - 0s 56ms/step - loss: 11.0166 - accuracy: 0.8292\n",
            "Epoch 48/5000\n",
            "1/1 [==============================] - 0s 52ms/step - loss: 10.9282 - accuracy: 0.8303\n",
            "Epoch 49/5000\n",
            "1/1 [==============================] - 0s 52ms/step - loss: 10.8426 - accuracy: 0.8312\n",
            "Epoch 50/5000\n",
            "1/1 [==============================] - 0s 52ms/step - loss: 10.7598 - accuracy: 0.8321\n",
            "Epoch 51/5000\n",
            "1/1 [==============================] - 0s 53ms/step - loss: 10.6797 - accuracy: 0.8328\n",
            "Epoch 52/5000\n",
            "1/1 [==============================] - 0s 57ms/step - loss: 10.6018 - accuracy: 0.8334\n",
            "Epoch 53/5000\n",
            "1/1 [==============================] - 0s 58ms/step - loss: 10.5260 - accuracy: 0.8340\n",
            "Epoch 54/5000\n",
            "1/1 [==============================] - 0s 55ms/step - loss: 10.4521 - accuracy: 0.8346\n",
            "Epoch 55/5000\n",
            "1/1 [==============================] - 0s 52ms/step - loss: 10.3800 - accuracy: 0.8351\n",
            "Epoch 56/5000\n",
            "1/1 [==============================] - 0s 56ms/step - loss: 10.3095 - accuracy: 0.8359\n",
            "Epoch 57/5000\n",
            "1/1 [==============================] - 0s 53ms/step - loss: 10.2408 - accuracy: 0.8367\n",
            "Epoch 58/5000\n",
            "1/1 [==============================] - 0s 51ms/step - loss: 10.1738 - accuracy: 0.8372\n",
            "Epoch 59/5000\n",
            "1/1 [==============================] - 0s 53ms/step - loss: 10.1084 - accuracy: 0.8377\n",
            "Epoch 60/5000\n",
            "1/1 [==============================] - 0s 55ms/step - loss: 10.0445 - accuracy: 0.8381\n",
            "Epoch 61/5000\n",
            "1/1 [==============================] - 0s 51ms/step - loss: 9.9821 - accuracy: 0.8387\n",
            "Epoch 62/5000\n",
            "1/1 [==============================] - 0s 59ms/step - loss: 9.9210 - accuracy: 0.8393\n",
            "Epoch 63/5000\n",
            "1/1 [==============================] - 0s 53ms/step - loss: 9.8611 - accuracy: 0.8399\n",
            "Epoch 64/5000\n",
            "1/1 [==============================] - 0s 51ms/step - loss: 9.8026 - accuracy: 0.8406\n",
            "Epoch 65/5000\n",
            "1/1 [==============================] - 0s 59ms/step - loss: 9.7452 - accuracy: 0.8411\n",
            "Epoch 66/5000\n",
            "1/1 [==============================] - 0s 52ms/step - loss: 9.6889 - accuracy: 0.8415\n",
            "Epoch 67/5000\n",
            "1/1 [==============================] - 0s 57ms/step - loss: 9.6338 - accuracy: 0.8418\n",
            "Epoch 68/5000\n",
            "1/1 [==============================] - 0s 55ms/step - loss: 9.5797 - accuracy: 0.8423\n",
            "Epoch 69/5000\n",
            "1/1 [==============================] - 0s 53ms/step - loss: 9.5267 - accuracy: 0.8429\n",
            "Epoch 70/5000\n",
            "1/1 [==============================] - 0s 54ms/step - loss: 9.4747 - accuracy: 0.8433\n",
            "Epoch 71/5000\n",
            "1/1 [==============================] - 0s 55ms/step - loss: 9.4238 - accuracy: 0.8436\n",
            "Epoch 72/5000\n",
            "1/1 [==============================] - 0s 54ms/step - loss: 9.3740 - accuracy: 0.8439\n",
            "Epoch 73/5000\n",
            "1/1 [==============================] - 0s 52ms/step - loss: 9.3251 - accuracy: 0.8446\n",
            "Epoch 74/5000\n",
            "1/1 [==============================] - 0s 62ms/step - loss: 9.2772 - accuracy: 0.8451\n",
            "Epoch 75/5000\n",
            "1/1 [==============================] - 0s 49ms/step - loss: 9.2301 - accuracy: 0.8455\n",
            "Epoch 76/5000\n",
            "1/1 [==============================] - 0s 59ms/step - loss: 9.1840 - accuracy: 0.8459\n",
            "Epoch 77/5000\n",
            "1/1 [==============================] - 0s 60ms/step - loss: 9.1386 - accuracy: 0.8463\n",
            "Epoch 78/5000\n",
            "1/1 [==============================] - 0s 54ms/step - loss: 9.0941 - accuracy: 0.8467\n",
            "Epoch 79/5000\n",
            "1/1 [==============================] - 0s 57ms/step - loss: 9.0503 - accuracy: 0.8470\n",
            "Epoch 80/5000\n",
            "1/1 [==============================] - 0s 59ms/step - loss: 9.0072 - accuracy: 0.8472\n",
            "Epoch 81/5000\n",
            "1/1 [==============================] - 0s 54ms/step - loss: 8.9649 - accuracy: 0.8475\n",
            "Epoch 82/5000\n",
            "1/1 [==============================] - 0s 50ms/step - loss: 8.9232 - accuracy: 0.8480\n",
            "Epoch 83/5000\n",
            "1/1 [==============================] - 0s 60ms/step - loss: 8.8822 - accuracy: 0.8483\n",
            "Epoch 84/5000\n",
            "1/1 [==============================] - 0s 54ms/step - loss: 8.8419 - accuracy: 0.8485\n",
            "Epoch 85/5000\n",
            "1/1 [==============================] - 0s 52ms/step - loss: 8.8023 - accuracy: 0.8489\n",
            "Epoch 86/5000\n",
            "1/1 [==============================] - 0s 58ms/step - loss: 8.7632 - accuracy: 0.8491\n",
            "Epoch 87/5000\n",
            "1/1 [==============================] - 0s 54ms/step - loss: 8.7248 - accuracy: 0.8494\n",
            "Epoch 88/5000\n",
            "1/1 [==============================] - 0s 63ms/step - loss: 8.6870 - accuracy: 0.8496\n",
            "Epoch 89/5000\n",
            "1/1 [==============================] - 0s 59ms/step - loss: 8.6498 - accuracy: 0.8498\n",
            "Epoch 90/5000\n",
            "1/1 [==============================] - 0s 55ms/step - loss: 8.6131 - accuracy: 0.8500\n",
            "Epoch 91/5000\n",
            "1/1 [==============================] - 0s 55ms/step - loss: 8.5769 - accuracy: 0.8504\n",
            "Epoch 92/5000\n",
            "1/1 [==============================] - 0s 55ms/step - loss: 8.5412 - accuracy: 0.8505\n",
            "Epoch 93/5000\n",
            "1/1 [==============================] - 0s 52ms/step - loss: 8.5060 - accuracy: 0.8507\n",
            "Epoch 94/5000\n",
            "1/1 [==============================] - 0s 59ms/step - loss: 8.4712 - accuracy: 0.8511\n",
            "Epoch 95/5000\n",
            "1/1 [==============================] - 0s 56ms/step - loss: 8.4369 - accuracy: 0.8514\n",
            "Epoch 96/5000\n",
            "1/1 [==============================] - 0s 51ms/step - loss: 8.4029 - accuracy: 0.8516\n",
            "Epoch 97/5000\n",
            "1/1 [==============================] - 0s 64ms/step - loss: 8.3694 - accuracy: 0.8518\n",
            "Epoch 98/5000\n",
            "1/1 [==============================] - 0s 51ms/step - loss: 8.3363 - accuracy: 0.8521\n",
            "Epoch 99/5000\n",
            "1/1 [==============================] - 0s 54ms/step - loss: 8.3035 - accuracy: 0.8524\n",
            "Epoch 100/5000\n",
            "1/1 [==============================] - 0s 51ms/step - loss: 8.2712 - accuracy: 0.8526\n",
            "Epoch 101/5000\n",
            "1/1 [==============================] - 0s 60ms/step - loss: 8.2392 - accuracy: 0.8529\n",
            "Epoch 102/5000\n",
            "1/1 [==============================] - 0s 57ms/step - loss: 8.2075 - accuracy: 0.8531\n",
            "Epoch 103/5000\n",
            "1/1 [==============================] - 0s 56ms/step - loss: 8.1762 - accuracy: 0.8534\n",
            "Epoch 104/5000\n",
            "1/1 [==============================] - 0s 54ms/step - loss: 8.1453 - accuracy: 0.8536\n",
            "Epoch 105/5000\n",
            "1/1 [==============================] - 0s 52ms/step - loss: 8.1147 - accuracy: 0.8538\n",
            "Epoch 106/5000\n",
            "1/1 [==============================] - 0s 50ms/step - loss: 8.0845 - accuracy: 0.8541\n",
            "Epoch 107/5000\n",
            "1/1 [==============================] - 0s 54ms/step - loss: 8.0546 - accuracy: 0.8541\n",
            "Epoch 108/5000\n",
            "1/1 [==============================] - 0s 51ms/step - loss: 8.0250 - accuracy: 0.8544\n",
            "Epoch 109/5000\n",
            "1/1 [==============================] - 0s 59ms/step - loss: 7.9958 - accuracy: 0.8546\n",
            "Epoch 110/5000\n",
            "1/1 [==============================] - 0s 53ms/step - loss: 7.9669 - accuracy: 0.8547\n",
            "Epoch 111/5000\n",
            "1/1 [==============================] - 0s 49ms/step - loss: 7.9383 - accuracy: 0.8551\n",
            "Epoch 112/5000\n",
            "1/1 [==============================] - 0s 61ms/step - loss: 7.9100 - accuracy: 0.8553\n",
            "Epoch 113/5000\n",
            "1/1 [==============================] - 0s 55ms/step - loss: 7.8820 - accuracy: 0.8555\n",
            "Epoch 114/5000\n",
            "1/1 [==============================] - 0s 52ms/step - loss: 7.8543 - accuracy: 0.8558\n",
            "Epoch 115/5000\n",
            "1/1 [==============================] - 0s 51ms/step - loss: 7.8269 - accuracy: 0.8558\n",
            "Epoch 116/5000\n",
            "1/1 [==============================] - 0s 61ms/step - loss: 7.7999 - accuracy: 0.8561\n",
            "Epoch 117/5000\n",
            "1/1 [==============================] - 0s 52ms/step - loss: 7.7731 - accuracy: 0.8563\n",
            "Epoch 118/5000\n",
            "1/1 [==============================] - 0s 58ms/step - loss: 7.7466 - accuracy: 0.8564\n",
            "Epoch 119/5000\n",
            "1/1 [==============================] - 0s 58ms/step - loss: 7.7204 - accuracy: 0.8566\n",
            "Epoch 120/5000\n",
            "1/1 [==============================] - 0s 53ms/step - loss: 7.6945 - accuracy: 0.8568\n",
            "Epoch 121/5000\n",
            "1/1 [==============================] - 0s 49ms/step - loss: 7.6688 - accuracy: 0.8571\n",
            "Epoch 122/5000\n",
            "1/1 [==============================] - 0s 58ms/step - loss: 7.6434 - accuracy: 0.8572\n",
            "Epoch 123/5000\n",
            "1/1 [==============================] - 0s 59ms/step - loss: 7.6182 - accuracy: 0.8573\n",
            "Epoch 124/5000\n",
            "1/1 [==============================] - 0s 48ms/step - loss: 7.5933 - accuracy: 0.8574\n",
            "Epoch 125/5000\n",
            "1/1 [==============================] - 0s 50ms/step - loss: 7.5686 - accuracy: 0.8576\n",
            "Epoch 126/5000\n",
            "1/1 [==============================] - 0s 53ms/step - loss: 7.5442 - accuracy: 0.8580\n",
            "Epoch 127/5000\n",
            "1/1 [==============================] - 0s 51ms/step - loss: 7.5200 - accuracy: 0.8582\n",
            "Epoch 128/5000\n",
            "1/1 [==============================] - 0s 60ms/step - loss: 7.4961 - accuracy: 0.8584\n",
            "Epoch 129/5000\n",
            "1/1 [==============================] - 0s 55ms/step - loss: 7.4725 - accuracy: 0.8586\n",
            "Epoch 130/5000\n",
            "1/1 [==============================] - 0s 56ms/step - loss: 7.4491 - accuracy: 0.8588\n",
            "Epoch 131/5000\n",
            "1/1 [==============================] - 0s 55ms/step - loss: 7.4259 - accuracy: 0.8591\n",
            "Epoch 132/5000\n",
            "1/1 [==============================] - 0s 47ms/step - loss: 7.4029 - accuracy: 0.8593\n",
            "Epoch 133/5000\n",
            "1/1 [==============================] - 0s 65ms/step - loss: 7.3802 - accuracy: 0.8595\n",
            "Epoch 134/5000\n",
            "1/1 [==============================] - 0s 52ms/step - loss: 7.3576 - accuracy: 0.8597\n",
            "Epoch 135/5000\n",
            "1/1 [==============================] - 0s 51ms/step - loss: 7.3353 - accuracy: 0.8598\n",
            "Epoch 136/5000\n",
            "1/1 [==============================] - 0s 54ms/step - loss: 7.3132 - accuracy: 0.8600\n",
            "Epoch 137/5000\n",
            "1/1 [==============================] - 0s 58ms/step - loss: 7.2912 - accuracy: 0.8601\n",
            "Epoch 138/5000\n",
            "1/1 [==============================] - 0s 59ms/step - loss: 7.2695 - accuracy: 0.8604\n",
            "Epoch 139/5000\n",
            "1/1 [==============================] - 0s 50ms/step - loss: 7.2480 - accuracy: 0.8606\n",
            "Epoch 140/5000\n",
            "1/1 [==============================] - 0s 61ms/step - loss: 7.2266 - accuracy: 0.8606\n",
            "Epoch 141/5000\n",
            "1/1 [==============================] - 0s 55ms/step - loss: 7.2054 - accuracy: 0.8606\n",
            "Epoch 142/5000\n",
            "1/1 [==============================] - 0s 55ms/step - loss: 7.1845 - accuracy: 0.8608\n",
            "Epoch 143/5000\n",
            "1/1 [==============================] - 0s 55ms/step - loss: 7.1637 - accuracy: 0.8609\n",
            "Epoch 144/5000\n",
            "1/1 [==============================] - 0s 54ms/step - loss: 7.1431 - accuracy: 0.8611\n",
            "Epoch 145/5000\n",
            "1/1 [==============================] - 0s 62ms/step - loss: 7.1227 - accuracy: 0.8612\n",
            "Epoch 146/5000\n",
            "1/1 [==============================] - 0s 55ms/step - loss: 7.1024 - accuracy: 0.8614\n",
            "Epoch 147/5000\n",
            "1/1 [==============================] - 0s 53ms/step - loss: 7.0824 - accuracy: 0.8617\n",
            "Epoch 148/5000\n",
            "1/1 [==============================] - 0s 55ms/step - loss: 7.0625 - accuracy: 0.8619\n",
            "Epoch 149/5000\n",
            "1/1 [==============================] - 0s 52ms/step - loss: 7.0427 - accuracy: 0.8620\n",
            "Epoch 150/5000\n",
            "1/1 [==============================] - 0s 52ms/step - loss: 7.0232 - accuracy: 0.8622\n",
            "Epoch 151/5000\n",
            "1/1 [==============================] - 0s 47ms/step - loss: 7.0037 - accuracy: 0.8623\n",
            "Epoch 152/5000\n",
            "1/1 [==============================] - 0s 72ms/step - loss: 6.9844 - accuracy: 0.8624\n",
            "Epoch 153/5000\n",
            "1/1 [==============================] - 0s 54ms/step - loss: 6.9653 - accuracy: 0.8625\n",
            "Epoch 154/5000\n",
            "1/1 [==============================] - 0s 53ms/step - loss: 6.9463 - accuracy: 0.8626\n",
            "Epoch 155/5000\n",
            "1/1 [==============================] - 0s 52ms/step - loss: 6.9274 - accuracy: 0.8627\n",
            "Epoch 156/5000\n",
            "1/1 [==============================] - 0s 61ms/step - loss: 6.9087 - accuracy: 0.8630\n",
            "Epoch 157/5000\n",
            "1/1 [==============================] - 0s 50ms/step - loss: 6.8901 - accuracy: 0.8631\n",
            "Epoch 158/5000\n",
            "1/1 [==============================] - 0s 56ms/step - loss: 6.8716 - accuracy: 0.8631\n",
            "Epoch 159/5000\n",
            "1/1 [==============================] - 0s 45ms/step - loss: 6.8532 - accuracy: 0.8631\n",
            "Epoch 160/5000\n",
            "1/1 [==============================] - 0s 48ms/step - loss: 6.8350 - accuracy: 0.8633\n",
            "Epoch 161/5000\n",
            "1/1 [==============================] - 0s 76ms/step - loss: 6.8168 - accuracy: 0.8633\n",
            "Epoch 162/5000\n",
            "1/1 [==============================] - 0s 59ms/step - loss: 6.7989 - accuracy: 0.8634\n",
            "Epoch 163/5000\n",
            "1/1 [==============================] - 0s 56ms/step - loss: 6.7810 - accuracy: 0.8638\n",
            "Epoch 164/5000\n",
            "1/1 [==============================] - 0s 60ms/step - loss: 6.7632 - accuracy: 0.8638\n",
            "Epoch 165/5000\n",
            "1/1 [==============================] - 0s 54ms/step - loss: 6.7456 - accuracy: 0.8638\n",
            "Epoch 166/5000\n",
            "1/1 [==============================] - 0s 52ms/step - loss: 6.7281 - accuracy: 0.8641\n",
            "Epoch 167/5000\n",
            "1/1 [==============================] - 0s 55ms/step - loss: 6.7107 - accuracy: 0.8643\n",
            "Epoch 168/5000\n",
            "1/1 [==============================] - 0s 48ms/step - loss: 6.6934 - accuracy: 0.8643\n",
            "Epoch 169/5000\n",
            "1/1 [==============================] - 0s 50ms/step - loss: 6.6762 - accuracy: 0.8646\n",
            "Epoch 170/5000\n",
            "1/1 [==============================] - 0s 56ms/step - loss: 6.6592 - accuracy: 0.8647\n",
            "Epoch 171/5000\n",
            "1/1 [==============================] - 0s 65ms/step - loss: 6.6422 - accuracy: 0.8648\n",
            "Epoch 172/5000\n",
            "1/1 [==============================] - 0s 57ms/step - loss: 6.6254 - accuracy: 0.8649\n",
            "Epoch 173/5000\n",
            "1/1 [==============================] - 0s 51ms/step - loss: 6.6087 - accuracy: 0.8651\n",
            "Epoch 174/5000\n",
            "1/1 [==============================] - 0s 52ms/step - loss: 6.5921 - accuracy: 0.8652\n",
            "Epoch 175/5000\n",
            "1/1 [==============================] - 0s 56ms/step - loss: 6.5756 - accuracy: 0.8654\n",
            "Epoch 176/5000\n",
            "1/1 [==============================] - 0s 65ms/step - loss: 6.5592 - accuracy: 0.8655\n",
            "Epoch 177/5000\n",
            "1/1 [==============================] - 0s 49ms/step - loss: 6.5429 - accuracy: 0.8656\n",
            "Epoch 178/5000\n",
            "1/1 [==============================] - 0s 64ms/step - loss: 6.5267 - accuracy: 0.8656\n",
            "Epoch 179/5000\n",
            "1/1 [==============================] - 0s 51ms/step - loss: 6.5106 - accuracy: 0.8657\n",
            "Epoch 180/5000\n",
            "1/1 [==============================] - 0s 62ms/step - loss: 6.4946 - accuracy: 0.8658\n",
            "Epoch 181/5000\n",
            "1/1 [==============================] - 0s 53ms/step - loss: 6.4788 - accuracy: 0.8661\n",
            "Epoch 182/5000\n",
            "1/1 [==============================] - 0s 53ms/step - loss: 6.4630 - accuracy: 0.8661\n",
            "Epoch 183/5000\n",
            "1/1 [==============================] - 0s 48ms/step - loss: 6.4473 - accuracy: 0.8662\n",
            "Epoch 184/5000\n",
            "1/1 [==============================] - 0s 51ms/step - loss: 6.4317 - accuracy: 0.8662\n",
            "Epoch 185/5000\n",
            "1/1 [==============================] - 0s 54ms/step - loss: 6.4162 - accuracy: 0.8664\n",
            "Epoch 186/5000\n",
            "1/1 [==============================] - 0s 56ms/step - loss: 6.4008 - accuracy: 0.8666\n",
            "Epoch 187/5000\n",
            "1/1 [==============================] - 0s 51ms/step - loss: 6.3855 - accuracy: 0.8666\n",
            "Epoch 188/5000\n",
            "1/1 [==============================] - 0s 53ms/step - loss: 6.3703 - accuracy: 0.8666\n",
            "Epoch 189/5000\n",
            "1/1 [==============================] - 0s 54ms/step - loss: 6.3552 - accuracy: 0.8668\n",
            "Epoch 190/5000\n",
            "1/1 [==============================] - 0s 52ms/step - loss: 6.3402 - accuracy: 0.8670\n",
            "Epoch 191/5000\n",
            "1/1 [==============================] - 0s 57ms/step - loss: 6.3252 - accuracy: 0.8671\n",
            "Epoch 192/5000\n",
            "1/1 [==============================] - 0s 54ms/step - loss: 6.3104 - accuracy: 0.8672\n",
            "Epoch 193/5000\n",
            "1/1 [==============================] - 0s 51ms/step - loss: 6.2956 - accuracy: 0.8673\n",
            "Epoch 194/5000\n",
            "1/1 [==============================] - 0s 57ms/step - loss: 6.2810 - accuracy: 0.8673\n",
            "Epoch 195/5000\n",
            "1/1 [==============================] - 0s 53ms/step - loss: 6.2664 - accuracy: 0.8674\n",
            "Epoch 196/5000\n",
            "1/1 [==============================] - 0s 53ms/step - loss: 6.2519 - accuracy: 0.8674\n",
            "Epoch 197/5000\n",
            "1/1 [==============================] - 0s 54ms/step - loss: 6.2374 - accuracy: 0.8675\n",
            "Epoch 198/5000\n",
            "1/1 [==============================] - 0s 55ms/step - loss: 6.2231 - accuracy: 0.8678\n",
            "Epoch 199/5000\n",
            "1/1 [==============================] - 0s 61ms/step - loss: 6.2088 - accuracy: 0.8679\n",
            "Epoch 200/5000\n",
            "1/1 [==============================] - 0s 55ms/step - loss: 6.1946 - accuracy: 0.8680\n",
            "Epoch 201/5000\n",
            "1/1 [==============================] - 0s 55ms/step - loss: 6.1805 - accuracy: 0.8680\n",
            "Epoch 202/5000\n",
            "1/1 [==============================] - 0s 51ms/step - loss: 6.1665 - accuracy: 0.8681\n",
            "Epoch 203/5000\n",
            "1/1 [==============================] - 0s 58ms/step - loss: 6.1525 - accuracy: 0.8682\n",
            "Epoch 204/5000\n",
            "1/1 [==============================] - 0s 51ms/step - loss: 6.1386 - accuracy: 0.8683\n",
            "Epoch 205/5000\n",
            "1/1 [==============================] - 0s 56ms/step - loss: 6.1248 - accuracy: 0.8684\n",
            "Epoch 206/5000\n",
            "1/1 [==============================] - 0s 57ms/step - loss: 6.1111 - accuracy: 0.8686\n",
            "Epoch 207/5000\n",
            "1/1 [==============================] - 0s 57ms/step - loss: 6.0974 - accuracy: 0.8687\n",
            "Epoch 208/5000\n",
            "1/1 [==============================] - 0s 53ms/step - loss: 6.0838 - accuracy: 0.8688\n",
            "Epoch 209/5000\n",
            "1/1 [==============================] - 0s 51ms/step - loss: 6.0703 - accuracy: 0.8688\n",
            "Epoch 210/5000\n",
            "1/1 [==============================] - 0s 60ms/step - loss: 6.0568 - accuracy: 0.8690\n",
            "Epoch 211/5000\n",
            "1/1 [==============================] - 0s 57ms/step - loss: 6.0435 - accuracy: 0.8692\n",
            "Epoch 212/5000\n",
            "1/1 [==============================] - 0s 54ms/step - loss: 6.0302 - accuracy: 0.8693\n",
            "Epoch 213/5000\n",
            "1/1 [==============================] - 0s 57ms/step - loss: 6.0169 - accuracy: 0.8694\n",
            "Epoch 214/5000\n",
            "1/1 [==============================] - 0s 51ms/step - loss: 6.0038 - accuracy: 0.8695\n",
            "Epoch 215/5000\n",
            "1/1 [==============================] - 0s 60ms/step - loss: 5.9907 - accuracy: 0.8696\n",
            "Epoch 216/5000\n",
            "1/1 [==============================] - 0s 52ms/step - loss: 5.9777 - accuracy: 0.8697\n",
            "Epoch 217/5000\n",
            "1/1 [==============================] - 0s 65ms/step - loss: 5.9647 - accuracy: 0.8697\n",
            "Epoch 218/5000\n",
            "1/1 [==============================] - 0s 53ms/step - loss: 5.9518 - accuracy: 0.8697\n",
            "Epoch 219/5000\n",
            "1/1 [==============================] - 0s 49ms/step - loss: 5.9390 - accuracy: 0.8698\n",
            "Epoch 220/5000\n",
            "1/1 [==============================] - 0s 55ms/step - loss: 5.9263 - accuracy: 0.8698\n",
            "Epoch 221/5000\n",
            "1/1 [==============================] - 0s 54ms/step - loss: 5.9136 - accuracy: 0.8698\n",
            "Epoch 222/5000\n",
            "1/1 [==============================] - 0s 56ms/step - loss: 5.9010 - accuracy: 0.8699\n",
            "Epoch 223/5000\n",
            "1/1 [==============================] - 0s 62ms/step - loss: 5.8885 - accuracy: 0.8700\n",
            "Epoch 224/5000\n",
            "1/1 [==============================] - 0s 53ms/step - loss: 5.8760 - accuracy: 0.8702\n",
            "Epoch 225/5000\n",
            "1/1 [==============================] - 0s 49ms/step - loss: 5.8636 - accuracy: 0.8702\n",
            "Epoch 226/5000\n",
            "1/1 [==============================] - 0s 59ms/step - loss: 5.8512 - accuracy: 0.8703\n",
            "Epoch 227/5000\n",
            "1/1 [==============================] - 0s 74ms/step - loss: 5.8389 - accuracy: 0.8705\n",
            "Epoch 228/5000\n",
            "1/1 [==============================] - 0s 49ms/step - loss: 5.8267 - accuracy: 0.8705\n",
            "Epoch 229/5000\n",
            "1/1 [==============================] - 0s 58ms/step - loss: 5.8146 - accuracy: 0.8706\n",
            "Epoch 230/5000\n",
            "1/1 [==============================] - 0s 51ms/step - loss: 5.8025 - accuracy: 0.8708\n",
            "Epoch 231/5000\n",
            "1/1 [==============================] - 0s 52ms/step - loss: 5.7904 - accuracy: 0.8709\n",
            "Epoch 232/5000\n",
            "1/1 [==============================] - 0s 59ms/step - loss: 5.7785 - accuracy: 0.8708\n",
            "Epoch 233/5000\n",
            "1/1 [==============================] - 0s 54ms/step - loss: 5.7665 - accuracy: 0.8708\n",
            "Epoch 234/5000\n",
            "1/1 [==============================] - 0s 58ms/step - loss: 5.7547 - accuracy: 0.8709\n",
            "Epoch 235/5000\n",
            "1/1 [==============================] - 0s 55ms/step - loss: 5.7429 - accuracy: 0.8711\n",
            "Epoch 236/5000\n",
            "1/1 [==============================] - 0s 54ms/step - loss: 5.7311 - accuracy: 0.8711\n",
            "Epoch 237/5000\n",
            "1/1 [==============================] - 0s 53ms/step - loss: 5.7194 - accuracy: 0.8712\n",
            "Epoch 238/5000\n",
            "1/1 [==============================] - 0s 52ms/step - loss: 5.7078 - accuracy: 0.8713\n",
            "Epoch 239/5000\n",
            "1/1 [==============================] - 0s 53ms/step - loss: 5.6962 - accuracy: 0.8713\n",
            "Epoch 240/5000\n",
            "1/1 [==============================] - 0s 55ms/step - loss: 5.6847 - accuracy: 0.8714\n",
            "Epoch 241/5000\n",
            "1/1 [==============================] - 0s 52ms/step - loss: 5.6732 - accuracy: 0.8713\n",
            "Epoch 242/5000\n",
            "1/1 [==============================] - 0s 68ms/step - loss: 5.6618 - accuracy: 0.8715\n",
            "Epoch 243/5000\n",
            "1/1 [==============================] - 0s 64ms/step - loss: 5.6504 - accuracy: 0.8715\n",
            "Epoch 244/5000\n",
            "1/1 [==============================] - 0s 64ms/step - loss: 5.6391 - accuracy: 0.8715\n",
            "Epoch 245/5000\n",
            "1/1 [==============================] - 0s 58ms/step - loss: 5.6278 - accuracy: 0.8716\n",
            "Epoch 246/5000\n",
            "1/1 [==============================] - 0s 52ms/step - loss: 5.6166 - accuracy: 0.8716\n",
            "Epoch 247/5000\n",
            "1/1 [==============================] - 0s 50ms/step - loss: 5.6055 - accuracy: 0.8717\n",
            "Epoch 248/5000\n",
            "1/1 [==============================] - 0s 58ms/step - loss: 5.5943 - accuracy: 0.8717\n",
            "Epoch 249/5000\n",
            "1/1 [==============================] - 0s 52ms/step - loss: 5.5833 - accuracy: 0.8718\n",
            "Epoch 250/5000\n",
            "1/1 [==============================] - 0s 49ms/step - loss: 5.5723 - accuracy: 0.8719\n",
            "Epoch 251/5000\n",
            "1/1 [==============================] - 0s 58ms/step - loss: 5.5613 - accuracy: 0.8720\n",
            "Epoch 252/5000\n",
            "1/1 [==============================] - 0s 54ms/step - loss: 5.5504 - accuracy: 0.8722\n",
            "Epoch 253/5000\n",
            "1/1 [==============================] - 0s 72ms/step - loss: 5.5395 - accuracy: 0.8722\n",
            "Epoch 254/5000\n",
            "1/1 [==============================] - 0s 53ms/step - loss: 5.5287 - accuracy: 0.8722\n",
            "Epoch 255/5000\n",
            "1/1 [==============================] - 0s 66ms/step - loss: 5.5179 - accuracy: 0.8722\n",
            "Epoch 256/5000\n",
            "1/1 [==============================] - 0s 60ms/step - loss: 5.5071 - accuracy: 0.8723\n",
            "Epoch 257/5000\n",
            "1/1 [==============================] - 0s 52ms/step - loss: 5.4965 - accuracy: 0.8723\n",
            "Epoch 258/5000\n",
            "1/1 [==============================] - 0s 50ms/step - loss: 5.4858 - accuracy: 0.8725\n",
            "Epoch 259/5000\n",
            "1/1 [==============================] - 0s 57ms/step - loss: 5.4752 - accuracy: 0.8726\n",
            "Epoch 260/5000\n",
            "1/1 [==============================] - 0s 58ms/step - loss: 5.4647 - accuracy: 0.8727\n",
            "Epoch 261/5000\n",
            "1/1 [==============================] - 0s 56ms/step - loss: 5.4542 - accuracy: 0.8728\n",
            "Epoch 262/5000\n",
            "1/1 [==============================] - 0s 54ms/step - loss: 5.4437 - accuracy: 0.8730\n",
            "Epoch 263/5000\n",
            "1/1 [==============================] - 0s 60ms/step - loss: 5.4333 - accuracy: 0.8730\n",
            "Epoch 264/5000\n",
            "1/1 [==============================] - 0s 49ms/step - loss: 5.4229 - accuracy: 0.8731\n",
            "Epoch 265/5000\n",
            "1/1 [==============================] - 0s 61ms/step - loss: 5.4126 - accuracy: 0.8732\n",
            "Epoch 266/5000\n",
            "1/1 [==============================] - 0s 54ms/step - loss: 5.4024 - accuracy: 0.8731\n",
            "Epoch 267/5000\n",
            "1/1 [==============================] - 0s 57ms/step - loss: 5.3921 - accuracy: 0.8732\n",
            "Epoch 268/5000\n",
            "1/1 [==============================] - 0s 55ms/step - loss: 5.3819 - accuracy: 0.8733\n",
            "Epoch 269/5000\n",
            "1/1 [==============================] - 0s 62ms/step - loss: 5.3718 - accuracy: 0.8734\n",
            "Epoch 270/5000\n",
            "1/1 [==============================] - 0s 55ms/step - loss: 5.3617 - accuracy: 0.8734\n",
            "Epoch 271/5000\n",
            "1/1 [==============================] - 0s 51ms/step - loss: 5.3516 - accuracy: 0.8735\n",
            "Epoch 272/5000\n",
            "1/1 [==============================] - 0s 53ms/step - loss: 5.3416 - accuracy: 0.8735\n",
            "Epoch 273/5000\n",
            "1/1 [==============================] - 0s 53ms/step - loss: 5.3316 - accuracy: 0.8736\n",
            "Epoch 274/5000\n",
            "1/1 [==============================] - 0s 72ms/step - loss: 5.3217 - accuracy: 0.8737\n",
            "Epoch 275/5000\n",
            "1/1 [==============================] - 0s 63ms/step - loss: 5.3118 - accuracy: 0.8737\n",
            "Epoch 276/5000\n",
            "1/1 [==============================] - 0s 55ms/step - loss: 5.3020 - accuracy: 0.8737\n",
            "Epoch 277/5000\n",
            "1/1 [==============================] - 0s 50ms/step - loss: 5.2922 - accuracy: 0.8738\n",
            "Epoch 278/5000\n",
            "1/1 [==============================] - 0s 60ms/step - loss: 5.2824 - accuracy: 0.8739\n",
            "Epoch 279/5000\n",
            "1/1 [==============================] - 0s 59ms/step - loss: 5.2727 - accuracy: 0.8739\n",
            "Epoch 280/5000\n",
            "1/1 [==============================] - 0s 49ms/step - loss: 5.2630 - accuracy: 0.8740\n",
            "Epoch 281/5000\n",
            "1/1 [==============================] - 0s 61ms/step - loss: 5.2534 - accuracy: 0.8740\n",
            "Epoch 282/5000\n",
            "1/1 [==============================] - 0s 57ms/step - loss: 5.2438 - accuracy: 0.8741\n",
            "Epoch 283/5000\n",
            "1/1 [==============================] - 0s 55ms/step - loss: 5.2343 - accuracy: 0.8741\n",
            "Epoch 284/5000\n",
            "1/1 [==============================] - 0s 54ms/step - loss: 5.2247 - accuracy: 0.8741\n",
            "Epoch 285/5000\n"
          ]
        }
      ]
    }
  ]
}