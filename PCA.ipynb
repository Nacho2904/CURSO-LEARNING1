{
  "nbformat": 4,
  "nbformat_minor": 0,
  "metadata": {
    "colab": {
      "provenance": [],
      "collapsed_sections": [
        "iTaGUur2mO5T",
        "GXue5coK730h",
        "0D5iLV00JPj5"
      ],
      "authorship_tag": "ABX9TyO3sttX0KRAAWiH38VCqdC9",
      "include_colab_link": true
    },
    "kernelspec": {
      "name": "python3",
      "display_name": "Python 3"
    },
    "language_info": {
      "name": "python"
    }
  },
  "cells": [
    {
      "cell_type": "markdown",
      "metadata": {
        "id": "view-in-github",
        "colab_type": "text"
      },
      "source": [
        "<a href=\"https://colab.research.google.com/github/Nacho2904/CURSO-LEARNING1/blob/tareas/PCA.ipynb\" target=\"_parent\"><img src=\"https://colab.research.google.com/assets/colab-badge.svg\" alt=\"Open In Colab\"/></a>"
      ]
    },
    {
      "cell_type": "markdown",
      "source": [
        "# Tarea de PCA"
      ],
      "metadata": {
        "id": "kpfKkFxTlotc"
      }
    },
    {
      "cell_type": "markdown",
      "source": [
        "## Setup"
      ],
      "metadata": {
        "id": "xj6WqhPnnUDm"
      }
    },
    {
      "cell_type": "code",
      "source": [
        "import pandas as pd\n",
        "import numpy as np\n",
        "import tensorflow as tf\n",
        "import seaborn as sns\n",
        "import matplotlib.pyplot as plt\n",
        "from sklearn import preprocessing\n",
        "from sklearn import metrics\n",
        "from sklearn import decomposition"
      ],
      "metadata": {
        "id": "3TMZhiJMnVS4"
      },
      "execution_count": 1,
      "outputs": []
    },
    {
      "cell_type": "markdown",
      "source": [
        "## Glass"
      ],
      "metadata": {
        "id": "iTaGUur2mO5T"
      }
    },
    {
      "cell_type": "markdown",
      "source": [
        "### 1)"
      ],
      "metadata": {
        "id": "ZBZh_OzwmXes"
      }
    },
    {
      "cell_type": "markdown",
      "source": [
        " Varíen la cantidad de componentes principales con las que se quedan, para graficar el error cuadrático medio en función de la cantidad de componentes principales.\n",
        "\n",
        "Repita el mismo procedimiento para el porcentaje de energía."
      ],
      "metadata": {
        "id": "joSDc-jU703i"
      }
    },
    {
      "cell_type": "code",
      "source": [
        "url = \"https://raw.githubusercontent.com/CSC-CONICET/CURSO-LEARNING1/main/datasets/glass.csv\"\n",
        "dataset_glass = pd.read_csv(url)\n",
        "dataset_glass[\"Type\"].loc[dataset_glass[\"Type\"] == 1] = 0\n",
        "dataset_glass[\"Type\"].loc[dataset_glass[\"Type\"] == 2] = 1\n",
        "dataset_glass[\"Type\"].loc[dataset_glass[\"Type\"] == 3] = 2\n",
        "dataset_glass[\"Type\"].loc[dataset_glass[\"Type\"] == 5] = 3\n",
        "dataset_glass[\"Type\"].loc[dataset_glass[\"Type\"] == 6] = 4\n",
        "dataset_glass[\"Type\"].loc[dataset_glass[\"Type\"] == 7] = 5"
      ],
      "metadata": {
        "colab": {
          "base_uri": "https://localhost:8080/"
        },
        "id": "CdRSfk7wns4l",
        "outputId": "43b9641b-b0e5-4acd-892d-8929607d43b6"
      },
      "execution_count": 3,
      "outputs": [
        {
          "output_type": "stream",
          "name": "stderr",
          "text": [
            "/usr/local/lib/python3.7/dist-packages/pandas/core/indexing.py:1732: SettingWithCopyWarning: \n",
            "A value is trying to be set on a copy of a slice from a DataFrame\n",
            "\n",
            "See the caveats in the documentation: https://pandas.pydata.org/pandas-docs/stable/user_guide/indexing.html#returning-a-view-versus-a-copy\n",
            "  self._setitem_single_block(indexer, value, name)\n"
          ]
        }
      ]
    },
    {
      "cell_type": "code",
      "source": [
        "dataset_glass"
      ],
      "metadata": {
        "colab": {
          "base_uri": "https://localhost:8080/",
          "height": 424
        },
        "id": "NpUPA7YMoDDL",
        "outputId": "bdb901e3-b64d-4081-ca41-d5ee875ed533"
      },
      "execution_count": 4,
      "outputs": [
        {
          "output_type": "execute_result",
          "data": {
            "text/plain": [
              "          RI     Na    Mg    Al     Si     K    Ca    Ba   Fe  Type\n",
              "0    1.52101  13.64  4.49  1.10  71.78  0.06  8.75  0.00  0.0     0\n",
              "1    1.51761  13.89  3.60  1.36  72.73  0.48  7.83  0.00  0.0     0\n",
              "2    1.51618  13.53  3.55  1.54  72.99  0.39  7.78  0.00  0.0     0\n",
              "3    1.51766  13.21  3.69  1.29  72.61  0.57  8.22  0.00  0.0     0\n",
              "4    1.51742  13.27  3.62  1.24  73.08  0.55  8.07  0.00  0.0     0\n",
              "..       ...    ...   ...   ...    ...   ...   ...   ...  ...   ...\n",
              "209  1.51623  14.14  0.00  2.88  72.61  0.08  9.18  1.06  0.0     5\n",
              "210  1.51685  14.92  0.00  1.99  73.06  0.00  8.40  1.59  0.0     5\n",
              "211  1.52065  14.36  0.00  2.02  73.42  0.00  8.44  1.64  0.0     5\n",
              "212  1.51651  14.38  0.00  1.94  73.61  0.00  8.48  1.57  0.0     5\n",
              "213  1.51711  14.23  0.00  2.08  73.36  0.00  8.62  1.67  0.0     5\n",
              "\n",
              "[214 rows x 10 columns]"
            ],
            "text/html": [
              "\n",
              "  <div id=\"df-ce9529a4-6940-45e5-ba96-6c4534d95295\">\n",
              "    <div class=\"colab-df-container\">\n",
              "      <div>\n",
              "<style scoped>\n",
              "    .dataframe tbody tr th:only-of-type {\n",
              "        vertical-align: middle;\n",
              "    }\n",
              "\n",
              "    .dataframe tbody tr th {\n",
              "        vertical-align: top;\n",
              "    }\n",
              "\n",
              "    .dataframe thead th {\n",
              "        text-align: right;\n",
              "    }\n",
              "</style>\n",
              "<table border=\"1\" class=\"dataframe\">\n",
              "  <thead>\n",
              "    <tr style=\"text-align: right;\">\n",
              "      <th></th>\n",
              "      <th>RI</th>\n",
              "      <th>Na</th>\n",
              "      <th>Mg</th>\n",
              "      <th>Al</th>\n",
              "      <th>Si</th>\n",
              "      <th>K</th>\n",
              "      <th>Ca</th>\n",
              "      <th>Ba</th>\n",
              "      <th>Fe</th>\n",
              "      <th>Type</th>\n",
              "    </tr>\n",
              "  </thead>\n",
              "  <tbody>\n",
              "    <tr>\n",
              "      <th>0</th>\n",
              "      <td>1.52101</td>\n",
              "      <td>13.64</td>\n",
              "      <td>4.49</td>\n",
              "      <td>1.10</td>\n",
              "      <td>71.78</td>\n",
              "      <td>0.06</td>\n",
              "      <td>8.75</td>\n",
              "      <td>0.00</td>\n",
              "      <td>0.0</td>\n",
              "      <td>0</td>\n",
              "    </tr>\n",
              "    <tr>\n",
              "      <th>1</th>\n",
              "      <td>1.51761</td>\n",
              "      <td>13.89</td>\n",
              "      <td>3.60</td>\n",
              "      <td>1.36</td>\n",
              "      <td>72.73</td>\n",
              "      <td>0.48</td>\n",
              "      <td>7.83</td>\n",
              "      <td>0.00</td>\n",
              "      <td>0.0</td>\n",
              "      <td>0</td>\n",
              "    </tr>\n",
              "    <tr>\n",
              "      <th>2</th>\n",
              "      <td>1.51618</td>\n",
              "      <td>13.53</td>\n",
              "      <td>3.55</td>\n",
              "      <td>1.54</td>\n",
              "      <td>72.99</td>\n",
              "      <td>0.39</td>\n",
              "      <td>7.78</td>\n",
              "      <td>0.00</td>\n",
              "      <td>0.0</td>\n",
              "      <td>0</td>\n",
              "    </tr>\n",
              "    <tr>\n",
              "      <th>3</th>\n",
              "      <td>1.51766</td>\n",
              "      <td>13.21</td>\n",
              "      <td>3.69</td>\n",
              "      <td>1.29</td>\n",
              "      <td>72.61</td>\n",
              "      <td>0.57</td>\n",
              "      <td>8.22</td>\n",
              "      <td>0.00</td>\n",
              "      <td>0.0</td>\n",
              "      <td>0</td>\n",
              "    </tr>\n",
              "    <tr>\n",
              "      <th>4</th>\n",
              "      <td>1.51742</td>\n",
              "      <td>13.27</td>\n",
              "      <td>3.62</td>\n",
              "      <td>1.24</td>\n",
              "      <td>73.08</td>\n",
              "      <td>0.55</td>\n",
              "      <td>8.07</td>\n",
              "      <td>0.00</td>\n",
              "      <td>0.0</td>\n",
              "      <td>0</td>\n",
              "    </tr>\n",
              "    <tr>\n",
              "      <th>...</th>\n",
              "      <td>...</td>\n",
              "      <td>...</td>\n",
              "      <td>...</td>\n",
              "      <td>...</td>\n",
              "      <td>...</td>\n",
              "      <td>...</td>\n",
              "      <td>...</td>\n",
              "      <td>...</td>\n",
              "      <td>...</td>\n",
              "      <td>...</td>\n",
              "    </tr>\n",
              "    <tr>\n",
              "      <th>209</th>\n",
              "      <td>1.51623</td>\n",
              "      <td>14.14</td>\n",
              "      <td>0.00</td>\n",
              "      <td>2.88</td>\n",
              "      <td>72.61</td>\n",
              "      <td>0.08</td>\n",
              "      <td>9.18</td>\n",
              "      <td>1.06</td>\n",
              "      <td>0.0</td>\n",
              "      <td>5</td>\n",
              "    </tr>\n",
              "    <tr>\n",
              "      <th>210</th>\n",
              "      <td>1.51685</td>\n",
              "      <td>14.92</td>\n",
              "      <td>0.00</td>\n",
              "      <td>1.99</td>\n",
              "      <td>73.06</td>\n",
              "      <td>0.00</td>\n",
              "      <td>8.40</td>\n",
              "      <td>1.59</td>\n",
              "      <td>0.0</td>\n",
              "      <td>5</td>\n",
              "    </tr>\n",
              "    <tr>\n",
              "      <th>211</th>\n",
              "      <td>1.52065</td>\n",
              "      <td>14.36</td>\n",
              "      <td>0.00</td>\n",
              "      <td>2.02</td>\n",
              "      <td>73.42</td>\n",
              "      <td>0.00</td>\n",
              "      <td>8.44</td>\n",
              "      <td>1.64</td>\n",
              "      <td>0.0</td>\n",
              "      <td>5</td>\n",
              "    </tr>\n",
              "    <tr>\n",
              "      <th>212</th>\n",
              "      <td>1.51651</td>\n",
              "      <td>14.38</td>\n",
              "      <td>0.00</td>\n",
              "      <td>1.94</td>\n",
              "      <td>73.61</td>\n",
              "      <td>0.00</td>\n",
              "      <td>8.48</td>\n",
              "      <td>1.57</td>\n",
              "      <td>0.0</td>\n",
              "      <td>5</td>\n",
              "    </tr>\n",
              "    <tr>\n",
              "      <th>213</th>\n",
              "      <td>1.51711</td>\n",
              "      <td>14.23</td>\n",
              "      <td>0.00</td>\n",
              "      <td>2.08</td>\n",
              "      <td>73.36</td>\n",
              "      <td>0.00</td>\n",
              "      <td>8.62</td>\n",
              "      <td>1.67</td>\n",
              "      <td>0.0</td>\n",
              "      <td>5</td>\n",
              "    </tr>\n",
              "  </tbody>\n",
              "</table>\n",
              "<p>214 rows × 10 columns</p>\n",
              "</div>\n",
              "      <button class=\"colab-df-convert\" onclick=\"convertToInteractive('df-ce9529a4-6940-45e5-ba96-6c4534d95295')\"\n",
              "              title=\"Convert this dataframe to an interactive table.\"\n",
              "              style=\"display:none;\">\n",
              "        \n",
              "  <svg xmlns=\"http://www.w3.org/2000/svg\" height=\"24px\"viewBox=\"0 0 24 24\"\n",
              "       width=\"24px\">\n",
              "    <path d=\"M0 0h24v24H0V0z\" fill=\"none\"/>\n",
              "    <path d=\"M18.56 5.44l.94 2.06.94-2.06 2.06-.94-2.06-.94-.94-2.06-.94 2.06-2.06.94zm-11 1L8.5 8.5l.94-2.06 2.06-.94-2.06-.94L8.5 2.5l-.94 2.06-2.06.94zm10 10l.94 2.06.94-2.06 2.06-.94-2.06-.94-.94-2.06-.94 2.06-2.06.94z\"/><path d=\"M17.41 7.96l-1.37-1.37c-.4-.4-.92-.59-1.43-.59-.52 0-1.04.2-1.43.59L10.3 9.45l-7.72 7.72c-.78.78-.78 2.05 0 2.83L4 21.41c.39.39.9.59 1.41.59.51 0 1.02-.2 1.41-.59l7.78-7.78 2.81-2.81c.8-.78.8-2.07 0-2.86zM5.41 20L4 18.59l7.72-7.72 1.47 1.35L5.41 20z\"/>\n",
              "  </svg>\n",
              "      </button>\n",
              "      \n",
              "  <style>\n",
              "    .colab-df-container {\n",
              "      display:flex;\n",
              "      flex-wrap:wrap;\n",
              "      gap: 12px;\n",
              "    }\n",
              "\n",
              "    .colab-df-convert {\n",
              "      background-color: #E8F0FE;\n",
              "      border: none;\n",
              "      border-radius: 50%;\n",
              "      cursor: pointer;\n",
              "      display: none;\n",
              "      fill: #1967D2;\n",
              "      height: 32px;\n",
              "      padding: 0 0 0 0;\n",
              "      width: 32px;\n",
              "    }\n",
              "\n",
              "    .colab-df-convert:hover {\n",
              "      background-color: #E2EBFA;\n",
              "      box-shadow: 0px 1px 2px rgba(60, 64, 67, 0.3), 0px 1px 3px 1px rgba(60, 64, 67, 0.15);\n",
              "      fill: #174EA6;\n",
              "    }\n",
              "\n",
              "    [theme=dark] .colab-df-convert {\n",
              "      background-color: #3B4455;\n",
              "      fill: #D2E3FC;\n",
              "    }\n",
              "\n",
              "    [theme=dark] .colab-df-convert:hover {\n",
              "      background-color: #434B5C;\n",
              "      box-shadow: 0px 1px 3px 1px rgba(0, 0, 0, 0.15);\n",
              "      filter: drop-shadow(0px 1px 2px rgba(0, 0, 0, 0.3));\n",
              "      fill: #FFFFFF;\n",
              "    }\n",
              "  </style>\n",
              "\n",
              "      <script>\n",
              "        const buttonEl =\n",
              "          document.querySelector('#df-ce9529a4-6940-45e5-ba96-6c4534d95295 button.colab-df-convert');\n",
              "        buttonEl.style.display =\n",
              "          google.colab.kernel.accessAllowed ? 'block' : 'none';\n",
              "\n",
              "        async function convertToInteractive(key) {\n",
              "          const element = document.querySelector('#df-ce9529a4-6940-45e5-ba96-6c4534d95295');\n",
              "          const dataTable =\n",
              "            await google.colab.kernel.invokeFunction('convertToInteractive',\n",
              "                                                     [key], {});\n",
              "          if (!dataTable) return;\n",
              "\n",
              "          const docLinkHtml = 'Like what you see? Visit the ' +\n",
              "            '<a target=\"_blank\" href=https://colab.research.google.com/notebooks/data_table.ipynb>data table notebook</a>'\n",
              "            + ' to learn more about interactive tables.';\n",
              "          element.innerHTML = '';\n",
              "          dataTable['output_type'] = 'display_data';\n",
              "          await google.colab.output.renderOutput(dataTable, element);\n",
              "          const docLink = document.createElement('div');\n",
              "          docLink.innerHTML = docLinkHtml;\n",
              "          element.appendChild(docLink);\n",
              "        }\n",
              "      </script>\n",
              "    </div>\n",
              "  </div>\n",
              "  "
            ]
          },
          "metadata": {},
          "execution_count": 4
        }
      ]
    },
    {
      "cell_type": "code",
      "source": [
        "df_glass_as_matrix = np.array(dataset_glass[dataset_glass.columns[:-1]])\n",
        "df_glass_as_matrix"
      ],
      "metadata": {
        "colab": {
          "base_uri": "https://localhost:8080/"
        },
        "id": "dNw0fFMln96J",
        "outputId": "985fa6a4-074f-4951-acc6-3cdf1bc60c77"
      },
      "execution_count": 8,
      "outputs": [
        {
          "output_type": "execute_result",
          "data": {
            "text/plain": [
              "array([[ 1.52101, 13.64   ,  4.49   , ...,  8.75   ,  0.     ,  0.     ],\n",
              "       [ 1.51761, 13.89   ,  3.6    , ...,  7.83   ,  0.     ,  0.     ],\n",
              "       [ 1.51618, 13.53   ,  3.55   , ...,  7.78   ,  0.     ,  0.     ],\n",
              "       ...,\n",
              "       [ 1.52065, 14.36   ,  0.     , ...,  8.44   ,  1.64   ,  0.     ],\n",
              "       [ 1.51651, 14.38   ,  0.     , ...,  8.48   ,  1.57   ,  0.     ],\n",
              "       [ 1.51711, 14.23   ,  0.     , ...,  8.62   ,  1.67   ,  0.     ]])"
            ]
          },
          "metadata": {},
          "execution_count": 8
        }
      ]
    },
    {
      "cell_type": "markdown",
      "source": [
        "Acá uso la *SVD* de la matriz $X$ porque es numéricamente más estable y es más eficiente. Específicamente, utilizo que, sabiendo que las $k$ componentes principales de $X$ son los $k$ autovectores de $\\hat{\\Sigma} = \\frac{1}{N}X^TX$ (asumiendo $X$ centrada y con $N$ siendo el número de observaciones) asociados a los $k$ autovalores más grandes, entonces:\n",
        "- Sea $X = U\\Sigma V^T$ la descomposición en valores singulares de $X$. Entonces $X^TX = V\\Sigma U^T U \\Sigma v^T$. Como sabemos que $u$ es una matriz ortogonal (de la definición de la DVS), entonces $XX^T = V\\Sigma^2 V^T$. Esto implica que los autovectores de la matriz $X^TX$ son los vectores singulares derechos de $X$, y los autovalores de $\\hat{\\Sigma}$ son los cocientes entre los valores singulares de $X$ y $N$."
      ],
      "metadata": {
        "id": "9sYPZE8NtRQF"
      }
    },
    {
      "cell_type": "code",
      "source": [
        "centralized_glass = preprocessing.scale(df_glass_as_matrix, with_std = False)\n",
        "U, S, Vt = np.linalg.svd(centralized_glass)\n",
        "eigenvalues = S/len(dataset_glass)\n",
        "V = Vt.T"
      ],
      "metadata": {
        "id": "qm7ePzFqprJq"
      },
      "execution_count": 211,
      "outputs": []
    },
    {
      "cell_type": "code",
      "source": [
        "encode_and_decode_with_n_dimensions = lambda n: V[:n,:].T @ V[:n,:] @ centralized_glass.T\n",
        "get_ecm_for_n_dimensions = lambda n: np.linalg.norm(centralized_glass.T - encode_and_decode_with_n_dimensions(n)) ** 2\n",
        "x_axis = np.arange(1,len(V)+1)\n",
        "y_axis = [get_ecm_for_n_dimensions(n) for n in x_axis]\n",
        "plt.plot(x_axis, y_axis)\n",
        "plt.xlim(1,len(V))\n",
        "plt.ylim(0,1400)\n",
        "plt.xlabel(\"Numero de componentes\")\n",
        "plt.ylabel(\"Error cuadrático medio / dispersión\");"
      ],
      "metadata": {
        "colab": {
          "base_uri": "https://localhost:8080/",
          "height": 283
        },
        "id": "QHWWGGwayzGK",
        "outputId": "72b906b2-dbc3-4d69-d83c-3aa49d0a1fed"
      },
      "execution_count": 214,
      "outputs": [
        {
          "output_type": "display_data",
          "data": {
            "text/plain": [
              "<Figure size 432x288 with 1 Axes>"
            ],
            "image/png": "[encoded data removed]"
          },
          "metadata": {
            "needs_background": "light"
          }
        }
      ]
    },
    {
      "cell_type": "code",
      "source": [
        "N = len(dataset_glass)\n",
        "eigenvalues = S/N\n",
        "y_axis = [sum(eigenvalues[:number_of_components])/sum(eigenvalues) for number_of_components in x_axis]\n",
        "plt.plot(x_axis, y_axis)\n",
        "plt.xlabel(\"Cantidad de componentes\")\n",
        "plt.ylabel(\"Energía\");"
      ],
      "metadata": {
        "colab": {
          "base_uri": "https://localhost:8080/",
          "height": 279
        },
        "id": "f11JW7mV60XO",
        "outputId": "72fc3bc3-e510-4914-b974-ab9bb8f0f8c0"
      },
      "execution_count": 114,
      "outputs": [
        {
          "output_type": "display_data",
          "data": {
            "text/plain": [
              "<Figure size 432x288 with 1 Axes>"
            ],
            "image/png": "[encoded data removed]"
          },
          "metadata": {
            "needs_background": "light"
          }
        }
      ]
    },
    {
      "cell_type": "markdown",
      "source": [
        "### 2)"
      ],
      "metadata": {
        "id": "GXue5coK730h"
      }
    },
    {
      "cell_type": "markdown",
      "source": [
        "A partir de la componente principal, genere 5 datos sintéticos de vidrio (simular).\n",
        "\n",
        "Para ello estime la distribución de la componente principal mediante un histograma. Puede usar “plt.hist(?,bins=?,density=True)”."
      ],
      "metadata": {
        "id": "VqJVvY3d7-x6"
      }
    },
    {
      "cell_type": "code",
      "source": [
        "componente_principal = V[0,:]\n",
        "proyeccion_componente_principal = componente_principal @ centralized_glass.T\n",
        "sns.kdeplot(proyeccion_componente_principal)\n",
        "plt.hist(proyeccion_componente_principal, bins = 9, density = True);"
      ],
      "metadata": {
        "colab": {
          "base_uri": "https://localhost:8080/",
          "height": 265
        },
        "id": "uoj0oHrK8CQ6",
        "outputId": "6dee567e-dfb2-4be0-fd11-93c3d832f26d"
      },
      "execution_count": 146,
      "outputs": [
        {
          "output_type": "display_data",
          "data": {
            "text/plain": [
              "<Figure size 432x288 with 1 Axes>"
            ],
            "image/png": "[encoded data removed]"
          },
          "metadata": {
            "needs_background": "light"
          }
        }
      ]
    },
    {
      "cell_type": "markdown",
      "source": [
        "Estimamos la distribución como si fuese $\\mathcal{N}(\\mu, \\sigma^2)$ mediante máxima verosimilitud y simulamos 5 ejemplos"
      ],
      "metadata": {
        "id": "5yZVvT-J_hoK"
      }
    },
    {
      "cell_type": "code",
      "source": [
        "mu_hat = np.mean(componente_principal)\n",
        "sigma_hat = np.std(componente_principal)\n",
        "synthetic_samples = np.random.normal(loc = mu_hat, scale = sigma_hat, size = 5)"
      ],
      "metadata": {
        "id": "O2t7RCzl_gep"
      },
      "execution_count": 151,
      "outputs": []
    },
    {
      "cell_type": "markdown",
      "source": [
        "Reconstruimos los ejemplos sintéticos obtenidos"
      ],
      "metadata": {
        "id": "eawpva2oA-2t"
      }
    },
    {
      "cell_type": "code",
      "source": [
        "reconstrucciones = (componente_principal.reshape(len(componente_principal), 1) @ synthetic_samples.reshape(1,5)).T"
      ],
      "metadata": {
        "id": "T9QGPc7kBBls"
      },
      "execution_count": 179,
      "outputs": []
    },
    {
      "cell_type": "code",
      "source": [
        "reconstrucciones"
      ],
      "metadata": {
        "colab": {
          "base_uri": "https://localhost:8080/"
        },
        "id": "AntTPFRJCypb",
        "outputId": "41ea8add-3bd2-413c-9c10-028df46e0cd6"
      },
      "execution_count": 180,
      "outputs": [
        {
          "output_type": "execute_result",
          "data": {
            "text/plain": [
              "array([[-4.36430453e-05,  7.16113056e-05, -6.47452851e-05,\n",
              "         1.46072975e-05,  3.35248546e-05,  8.56635943e-05,\n",
              "         1.56394970e-05,  1.93844438e-04,  4.70220997e-02],\n",
              "       [ 1.91518213e-04, -3.14250970e-04,  2.84120900e-04,\n",
              "        -6.41010156e-05, -1.47116687e-04, -3.75916447e-04,\n",
              "        -6.86306032e-05, -8.50645050e-04, -2.06346474e-01],\n",
              "       [-3.72642250e-04,  6.11446748e-04, -5.52821844e-04,\n",
              "         1.24723107e-04,  2.86248981e-04,  7.31430962e-04,\n",
              "         1.33536451e-04,  1.65512345e-03,  4.01494006e-01],\n",
              "       [-7.12572415e-05,  1.16921816e-04, -1.05711469e-04,\n",
              "         2.38497502e-05,  5.47369837e-05,  1.39865387e-04,\n",
              "         2.55350517e-05,  3.16495328e-04,  7.67743199e-02],\n",
              "       [-2.56784590e-04,  4.21342728e-04, -3.80944808e-04,\n",
              "         8.59456274e-05,  1.97251727e-04,  5.04022825e-04,\n",
              "         9.20188269e-05,  1.14053142e-03,  2.76666088e-01]])"
            ]
          },
          "metadata": {},
          "execution_count": 180
        }
      ]
    },
    {
      "cell_type": "markdown",
      "source": [
        "## Próstata"
      ],
      "metadata": {
        "id": "V22NDnARDAJl"
      }
    },
    {
      "cell_type": "markdown",
      "source": [
        "Mismo ejercicios que Glass, dataset diferente"
      ],
      "metadata": {
        "id": "GCP_neEnFZF9"
      }
    },
    {
      "cell_type": "code",
      "source": [
        "url_data = \"https://raw.githubusercontent.com/CSC-CONICET/CURSO-LEARNING1/main/datasets/prostata_data.csv\"\n",
        "url_labels = \"https://raw.githubusercontent.com/CSC-CONICET/CURSO-LEARNING1/main/datasets/prostata_label.csv\"\n",
        "df_prostata_data = pd.read_csv(url_data)\n",
        "df_prostata_labels = pd.read_csv(url_labels)\n",
        "df_prostata_data = df_prostata_data.rename(columns={\"Unnamed: 0\":\"id\"})\n",
        "df_prostata_labels = df_prostata_labels.rename(columns={\"Unnamed: 0\":\"id\"})\n",
        "df_prostata_labels_filtered = df_prostata_labels[df_prostata_labels[\"class\"].notnull()]\n",
        "df_prostata_labels_filtered\n",
        "df_prostata_labeled_data = df_prostata_data.merge(df_prostata_labels_filtered, how=\"inner\", on=\"id\" )\n",
        "df_prostata_labeled_data"
      ],
      "metadata": {
        "colab": {
          "base_uri": "https://localhost:8080/",
          "height": 505
        },
        "id": "Q0oQu-N0EPc9",
        "outputId": "02e1ce78-51cd-4ee4-b7e1-af42e6a99f31"
      },
      "execution_count": 181,
      "outputs": [
        {
          "output_type": "execute_result",
          "data": {
            "text/plain": [
              "               id  1.07_114.0671n  1.12_150.0556m/z  1.12_224.0537n  \\\n",
              "0    20210420_025      182.886662          0.000000      120.055143   \n",
              "1    20210420_027      169.431590          4.546041      298.457567   \n",
              "2    20210420_029       33.124379       1717.149354      171.340081   \n",
              "3    20210420_031        4.290027          0.000000      322.183226   \n",
              "4    20210420_033      117.150763         29.729792      207.120797   \n",
              "..            ...             ...               ...             ...   \n",
              "385  20210714_041      128.657637         14.792831      267.964086   \n",
              "386  20210714_043       37.571757         78.857534      291.563408   \n",
              "387  20210714_045      113.639459          1.428546       89.560830   \n",
              "388  20210714_049      100.944997        213.602360      533.707854   \n",
              "389  20210714_051       17.154389         20.593554      167.400341   \n",
              "\n",
              "     1.13_129.0550m/z  1.15_269.0995m/z  1.17_194.0451m/z  1.17_247.1177m/z  \\\n",
              "0            0.000000         53.888439         13.536438        418.494145   \n",
              "1          247.820866         67.565281        131.847910        440.554980   \n",
              "2         1002.790531          2.841494         54.081091         21.738453   \n",
              "3          785.579923          0.748938        120.946515          0.000000   \n",
              "4            3.819869         43.164301        330.283424        354.812847   \n",
              "..                ...               ...               ...               ...   \n",
              "385        169.738153         94.188310         78.519038        484.717456   \n",
              "386        776.984928         19.824049        578.643696         97.852421   \n",
              "387         44.212780         67.772490         73.879011        475.498343   \n",
              "388        472.748158         55.421833       1447.136046        333.709596   \n",
              "389        638.704386          0.000000        232.608999          0.000000   \n",
              "\n",
              "     1.18_102.0671n  1.18_145.0502m/z  ...  9.56_688.4019n  9.63_660.3709n  \\\n",
              "0        372.896710       2668.402959  ...     1490.285661      621.073308   \n",
              "1        309.431770       2286.748016  ...     1051.535354      487.816516   \n",
              "2         24.507923        196.245242  ...      700.821757      324.643771   \n",
              "3         11.281027        161.898929  ...      116.449557       72.462262   \n",
              "4        314.922104       2326.797182  ...     1066.533036      441.929508   \n",
              "..              ...               ...  ...             ...             ...   \n",
              "385      262.436808       2124.798749  ...      976.924741      451.861345   \n",
              "386       31.363809        290.595738  ...      484.152048      289.436647   \n",
              "387      215.320392       1845.722669  ...      507.724419      311.819659   \n",
              "388      168.940726       1377.779121  ...      763.341590      462.516741   \n",
              "389       12.788203        171.225956  ...      225.095914      123.631007   \n",
              "\n",
              "     9.72_629.3539m/z  9.76_429.2981m/z  9.78_374.2444n  9.78_472.3024n  \\\n",
              "0         1034.265530         95.745333      432.755695     2489.548822   \n",
              "1          785.175224        104.876552      363.884261     2174.680834   \n",
              "2          379.044638         27.521154       34.158236     1436.779597   \n",
              "3           74.381379         53.015654        7.153705      237.986766   \n",
              "4          558.965544         75.952197      315.557910     1118.011788   \n",
              "..                ...               ...             ...             ...   \n",
              "385        740.825392         78.939931      355.188085     1769.057533   \n",
              "386        233.143895         25.196779       24.539801      817.396836   \n",
              "387        383.661108         60.634778      128.694440     1078.329430   \n",
              "388        666.853661         80.625310      316.973293     1557.357663   \n",
              "389         77.187833         19.883689       12.002296      304.070735   \n",
              "\n",
              "     9.95_237.1486m/z  9.95_702.4173n  9.98_498.3171n         class  \n",
              "0           78.370185     1194.614280      401.409910       healthy  \n",
              "1          108.763407      926.947063      544.896122       healthy  \n",
              "2           27.398994      510.646098      182.016428        cancer  \n",
              "3          105.797730       82.331384      144.030763        cancer  \n",
              "4           99.747356      770.547695      610.577823  post-surgery  \n",
              "..                ...             ...             ...           ...  \n",
              "385        156.181719      898.904583      905.048821        benign  \n",
              "386        111.439083      354.222726      205.927172        cancer  \n",
              "387        111.931710      447.587060      550.732215        benign  \n",
              "388        157.624910      630.222369      870.856582        benign  \n",
              "389         56.845351      137.337337      358.139031        cancer  \n",
              "\n",
              "[390 rows x 764 columns]"
            ],
            "text/html": [
              "\n",
              "  <div id=\"df-a1757637-e3c3-45f5-b30a-f0f35e12bf0a\">\n",
              "    <div class=\"colab-df-container\">\n",
              "      <div>\n",
              "<style scoped>\n",
              "    .dataframe tbody tr th:only-of-type {\n",
              "        vertical-align: middle;\n",
              "    }\n",
              "\n",
              "    .dataframe tbody tr th {\n",
              "        vertical-align: top;\n",
              "    }\n",
              "\n",
              "    .dataframe thead th {\n",
              "        text-align: right;\n",
              "    }\n",
              "</style>\n",
              "<table border=\"1\" class=\"dataframe\">\n",
              "  <thead>\n",
              "    <tr style=\"text-align: right;\">\n",
              "      <th></th>\n",
              "      <th>id</th>\n",
              "      <th>1.07_114.0671n</th>\n",
              "      <th>1.12_150.0556m/z</th>\n",
              "      <th>1.12_224.0537n</th>\n",
              "      <th>1.13_129.0550m/z</th>\n",
              "      <th>1.15_269.0995m/z</th>\n",
              "      <th>1.17_194.0451m/z</th>\n",
              "      <th>1.17_247.1177m/z</th>\n",
              "      <th>1.18_102.0671n</th>\n",
              "      <th>1.18_145.0502m/z</th>\n",
              "      <th>...</th>\n",
              "      <th>9.56_688.4019n</th>\n",
              "      <th>9.63_660.3709n</th>\n",
              "      <th>9.72_629.3539m/z</th>\n",
              "      <th>9.76_429.2981m/z</th>\n",
              "      <th>9.78_374.2444n</th>\n",
              "      <th>9.78_472.3024n</th>\n",
              "      <th>9.95_237.1486m/z</th>\n",
              "      <th>9.95_702.4173n</th>\n",
              "      <th>9.98_498.3171n</th>\n",
              "      <th>class</th>\n",
              "    </tr>\n",
              "  </thead>\n",
              "  <tbody>\n",
              "    <tr>\n",
              "      <th>0</th>\n",
              "      <td>20210420_025</td>\n",
              "      <td>182.886662</td>\n",
              "      <td>0.000000</td>\n",
              "      <td>120.055143</td>\n",
              "      <td>0.000000</td>\n",
              "      <td>53.888439</td>\n",
              "      <td>13.536438</td>\n",
              "      <td>418.494145</td>\n",
              "      <td>372.896710</td>\n",
              "      <td>2668.402959</td>\n",
              "      <td>...</td>\n",
              "      <td>1490.285661</td>\n",
              "      <td>621.073308</td>\n",
              "      <td>1034.265530</td>\n",
              "      <td>95.745333</td>\n",
              "      <td>432.755695</td>\n",
              "      <td>2489.548822</td>\n",
              "      <td>78.370185</td>\n",
              "      <td>1194.614280</td>\n",
              "      <td>401.409910</td>\n",
              "      <td>healthy</td>\n",
              "    </tr>\n",
              "    <tr>\n",
              "      <th>1</th>\n",
              "      <td>20210420_027</td>\n",
              "      <td>169.431590</td>\n",
              "      <td>4.546041</td>\n",
              "      <td>298.457567</td>\n",
              "      <td>247.820866</td>\n",
              "      <td>67.565281</td>\n",
              "      <td>131.847910</td>\n",
              "      <td>440.554980</td>\n",
              "      <td>309.431770</td>\n",
              "      <td>2286.748016</td>\n",
              "      <td>...</td>\n",
              "      <td>1051.535354</td>\n",
              "      <td>487.816516</td>\n",
              "      <td>785.175224</td>\n",
              "      <td>104.876552</td>\n",
              "      <td>363.884261</td>\n",
              "      <td>2174.680834</td>\n",
              "      <td>108.763407</td>\n",
              "      <td>926.947063</td>\n",
              "      <td>544.896122</td>\n",
              "      <td>healthy</td>\n",
              "    </tr>\n",
              "    <tr>\n",
              "      <th>2</th>\n",
              "      <td>20210420_029</td>\n",
              "      <td>33.124379</td>\n",
              "      <td>1717.149354</td>\n",
              "      <td>171.340081</td>\n",
              "      <td>1002.790531</td>\n",
              "      <td>2.841494</td>\n",
              "      <td>54.081091</td>\n",
              "      <td>21.738453</td>\n",
              "      <td>24.507923</td>\n",
              "      <td>196.245242</td>\n",
              "      <td>...</td>\n",
              "      <td>700.821757</td>\n",
              "      <td>324.643771</td>\n",
              "      <td>379.044638</td>\n",
              "      <td>27.521154</td>\n",
              "      <td>34.158236</td>\n",
              "      <td>1436.779597</td>\n",
              "      <td>27.398994</td>\n",
              "      <td>510.646098</td>\n",
              "      <td>182.016428</td>\n",
              "      <td>cancer</td>\n",
              "    </tr>\n",
              "    <tr>\n",
              "      <th>3</th>\n",
              "      <td>20210420_031</td>\n",
              "      <td>4.290027</td>\n",
              "      <td>0.000000</td>\n",
              "      <td>322.183226</td>\n",
              "      <td>785.579923</td>\n",
              "      <td>0.748938</td>\n",
              "      <td>120.946515</td>\n",
              "      <td>0.000000</td>\n",
              "      <td>11.281027</td>\n",
              "      <td>161.898929</td>\n",
              "      <td>...</td>\n",
              "      <td>116.449557</td>\n",
              "      <td>72.462262</td>\n",
              "      <td>74.381379</td>\n",
              "      <td>53.015654</td>\n",
              "      <td>7.153705</td>\n",
              "      <td>237.986766</td>\n",
              "      <td>105.797730</td>\n",
              "      <td>82.331384</td>\n",
              "      <td>144.030763</td>\n",
              "      <td>cancer</td>\n",
              "    </tr>\n",
              "    <tr>\n",
              "      <th>4</th>\n",
              "      <td>20210420_033</td>\n",
              "      <td>117.150763</td>\n",
              "      <td>29.729792</td>\n",
              "      <td>207.120797</td>\n",
              "      <td>3.819869</td>\n",
              "      <td>43.164301</td>\n",
              "      <td>330.283424</td>\n",
              "      <td>354.812847</td>\n",
              "      <td>314.922104</td>\n",
              "      <td>2326.797182</td>\n",
              "      <td>...</td>\n",
              "      <td>1066.533036</td>\n",
              "      <td>441.929508</td>\n",
              "      <td>558.965544</td>\n",
              "      <td>75.952197</td>\n",
              "      <td>315.557910</td>\n",
              "      <td>1118.011788</td>\n",
              "      <td>99.747356</td>\n",
              "      <td>770.547695</td>\n",
              "      <td>610.577823</td>\n",
              "      <td>post-surgery</td>\n",
              "    </tr>\n",
              "    <tr>\n",
              "      <th>...</th>\n",
              "      <td>...</td>\n",
              "      <td>...</td>\n",
              "      <td>...</td>\n",
              "      <td>...</td>\n",
              "      <td>...</td>\n",
              "      <td>...</td>\n",
              "      <td>...</td>\n",
              "      <td>...</td>\n",
              "      <td>...</td>\n",
              "      <td>...</td>\n",
              "      <td>...</td>\n",
              "      <td>...</td>\n",
              "      <td>...</td>\n",
              "      <td>...</td>\n",
              "      <td>...</td>\n",
              "      <td>...</td>\n",
              "      <td>...</td>\n",
              "      <td>...</td>\n",
              "      <td>...</td>\n",
              "      <td>...</td>\n",
              "      <td>...</td>\n",
              "    </tr>\n",
              "    <tr>\n",
              "      <th>385</th>\n",
              "      <td>20210714_041</td>\n",
              "      <td>128.657637</td>\n",
              "      <td>14.792831</td>\n",
              "      <td>267.964086</td>\n",
              "      <td>169.738153</td>\n",
              "      <td>94.188310</td>\n",
              "      <td>78.519038</td>\n",
              "      <td>484.717456</td>\n",
              "      <td>262.436808</td>\n",
              "      <td>2124.798749</td>\n",
              "      <td>...</td>\n",
              "      <td>976.924741</td>\n",
              "      <td>451.861345</td>\n",
              "      <td>740.825392</td>\n",
              "      <td>78.939931</td>\n",
              "      <td>355.188085</td>\n",
              "      <td>1769.057533</td>\n",
              "      <td>156.181719</td>\n",
              "      <td>898.904583</td>\n",
              "      <td>905.048821</td>\n",
              "      <td>benign</td>\n",
              "    </tr>\n",
              "    <tr>\n",
              "      <th>386</th>\n",
              "      <td>20210714_043</td>\n",
              "      <td>37.571757</td>\n",
              "      <td>78.857534</td>\n",
              "      <td>291.563408</td>\n",
              "      <td>776.984928</td>\n",
              "      <td>19.824049</td>\n",
              "      <td>578.643696</td>\n",
              "      <td>97.852421</td>\n",
              "      <td>31.363809</td>\n",
              "      <td>290.595738</td>\n",
              "      <td>...</td>\n",
              "      <td>484.152048</td>\n",
              "      <td>289.436647</td>\n",
              "      <td>233.143895</td>\n",
              "      <td>25.196779</td>\n",
              "      <td>24.539801</td>\n",
              "      <td>817.396836</td>\n",
              "      <td>111.439083</td>\n",
              "      <td>354.222726</td>\n",
              "      <td>205.927172</td>\n",
              "      <td>cancer</td>\n",
              "    </tr>\n",
              "    <tr>\n",
              "      <th>387</th>\n",
              "      <td>20210714_045</td>\n",
              "      <td>113.639459</td>\n",
              "      <td>1.428546</td>\n",
              "      <td>89.560830</td>\n",
              "      <td>44.212780</td>\n",
              "      <td>67.772490</td>\n",
              "      <td>73.879011</td>\n",
              "      <td>475.498343</td>\n",
              "      <td>215.320392</td>\n",
              "      <td>1845.722669</td>\n",
              "      <td>...</td>\n",
              "      <td>507.724419</td>\n",
              "      <td>311.819659</td>\n",
              "      <td>383.661108</td>\n",
              "      <td>60.634778</td>\n",
              "      <td>128.694440</td>\n",
              "      <td>1078.329430</td>\n",
              "      <td>111.931710</td>\n",
              "      <td>447.587060</td>\n",
              "      <td>550.732215</td>\n",
              "      <td>benign</td>\n",
              "    </tr>\n",
              "    <tr>\n",
              "      <th>388</th>\n",
              "      <td>20210714_049</td>\n",
              "      <td>100.944997</td>\n",
              "      <td>213.602360</td>\n",
              "      <td>533.707854</td>\n",
              "      <td>472.748158</td>\n",
              "      <td>55.421833</td>\n",
              "      <td>1447.136046</td>\n",
              "      <td>333.709596</td>\n",
              "      <td>168.940726</td>\n",
              "      <td>1377.779121</td>\n",
              "      <td>...</td>\n",
              "      <td>763.341590</td>\n",
              "      <td>462.516741</td>\n",
              "      <td>666.853661</td>\n",
              "      <td>80.625310</td>\n",
              "      <td>316.973293</td>\n",
              "      <td>1557.357663</td>\n",
              "      <td>157.624910</td>\n",
              "      <td>630.222369</td>\n",
              "      <td>870.856582</td>\n",
              "      <td>benign</td>\n",
              "    </tr>\n",
              "    <tr>\n",
              "      <th>389</th>\n",
              "      <td>20210714_051</td>\n",
              "      <td>17.154389</td>\n",
              "      <td>20.593554</td>\n",
              "      <td>167.400341</td>\n",
              "      <td>638.704386</td>\n",
              "      <td>0.000000</td>\n",
              "      <td>232.608999</td>\n",
              "      <td>0.000000</td>\n",
              "      <td>12.788203</td>\n",
              "      <td>171.225956</td>\n",
              "      <td>...</td>\n",
              "      <td>225.095914</td>\n",
              "      <td>123.631007</td>\n",
              "      <td>77.187833</td>\n",
              "      <td>19.883689</td>\n",
              "      <td>12.002296</td>\n",
              "      <td>304.070735</td>\n",
              "      <td>56.845351</td>\n",
              "      <td>137.337337</td>\n",
              "      <td>358.139031</td>\n",
              "      <td>cancer</td>\n",
              "    </tr>\n",
              "  </tbody>\n",
              "</table>\n",
              "<p>390 rows × 764 columns</p>\n",
              "</div>\n",
              "      <button class=\"colab-df-convert\" onclick=\"convertToInteractive('df-a1757637-e3c3-45f5-b30a-f0f35e12bf0a')\"\n",
              "              title=\"Convert this dataframe to an interactive table.\"\n",
              "              style=\"display:none;\">\n",
              "        \n",
              "  <svg xmlns=\"http://www.w3.org/2000/svg\" height=\"24px\"viewBox=\"0 0 24 24\"\n",
              "       width=\"24px\">\n",
              "    <path d=\"M0 0h24v24H0V0z\" fill=\"none\"/>\n",
              "    <path d=\"M18.56 5.44l.94 2.06.94-2.06 2.06-.94-2.06-.94-.94-2.06-.94 2.06-2.06.94zm-11 1L8.5 8.5l.94-2.06 2.06-.94-2.06-.94L8.5 2.5l-.94 2.06-2.06.94zm10 10l.94 2.06.94-2.06 2.06-.94-2.06-.94-.94-2.06-.94 2.06-2.06.94z\"/><path d=\"M17.41 7.96l-1.37-1.37c-.4-.4-.92-.59-1.43-.59-.52 0-1.04.2-1.43.59L10.3 9.45l-7.72 7.72c-.78.78-.78 2.05 0 2.83L4 21.41c.39.39.9.59 1.41.59.51 0 1.02-.2 1.41-.59l7.78-7.78 2.81-2.81c.8-.78.8-2.07 0-2.86zM5.41 20L4 18.59l7.72-7.72 1.47 1.35L5.41 20z\"/>\n",
              "  </svg>\n",
              "      </button>\n",
              "      \n",
              "  <style>\n",
              "    .colab-df-container {\n",
              "      display:flex;\n",
              "      flex-wrap:wrap;\n",
              "      gap: 12px;\n",
              "    }\n",
              "\n",
              "    .colab-df-convert {\n",
              "      background-color: #E8F0FE;\n",
              "      border: none;\n",
              "      border-radius: 50%;\n",
              "      cursor: pointer;\n",
              "      display: none;\n",
              "      fill: #1967D2;\n",
              "      height: 32px;\n",
              "      padding: 0 0 0 0;\n",
              "      width: 32px;\n",
              "    }\n",
              "\n",
              "    .colab-df-convert:hover {\n",
              "      background-color: #E2EBFA;\n",
              "      box-shadow: 0px 1px 2px rgba(60, 64, 67, 0.3), 0px 1px 3px 1px rgba(60, 64, 67, 0.15);\n",
              "      fill: #174EA6;\n",
              "    }\n",
              "\n",
              "    [theme=dark] .colab-df-convert {\n",
              "      background-color: #3B4455;\n",
              "      fill: #D2E3FC;\n",
              "    }\n",
              "\n",
              "    [theme=dark] .colab-df-convert:hover {\n",
              "      background-color: #434B5C;\n",
              "      box-shadow: 0px 1px 3px 1px rgba(0, 0, 0, 0.15);\n",
              "      filter: drop-shadow(0px 1px 2px rgba(0, 0, 0, 0.3));\n",
              "      fill: #FFFFFF;\n",
              "    }\n",
              "  </style>\n",
              "\n",
              "      <script>\n",
              "        const buttonEl =\n",
              "          document.querySelector('#df-a1757637-e3c3-45f5-b30a-f0f35e12bf0a button.colab-df-convert');\n",
              "        buttonEl.style.display =\n",
              "          google.colab.kernel.accessAllowed ? 'block' : 'none';\n",
              "\n",
              "        async function convertToInteractive(key) {\n",
              "          const element = document.querySelector('#df-a1757637-e3c3-45f5-b30a-f0f35e12bf0a');\n",
              "          const dataTable =\n",
              "            await google.colab.kernel.invokeFunction('convertToInteractive',\n",
              "                                                     [key], {});\n",
              "          if (!dataTable) return;\n",
              "\n",
              "          const docLinkHtml = 'Like what you see? Visit the ' +\n",
              "            '<a target=\"_blank\" href=https://colab.research.google.com/notebooks/data_table.ipynb>data table notebook</a>'\n",
              "            + ' to learn more about interactive tables.';\n",
              "          element.innerHTML = '';\n",
              "          dataTable['output_type'] = 'display_data';\n",
              "          await google.colab.output.renderOutput(dataTable, element);\n",
              "          const docLink = document.createElement('div');\n",
              "          docLink.innerHTML = docLinkHtml;\n",
              "          element.appendChild(docLink);\n",
              "        }\n",
              "      </script>\n",
              "    </div>\n",
              "  </div>\n",
              "  "
            ]
          },
          "metadata": {},
          "execution_count": 181
        }
      ]
    },
    {
      "cell_type": "code",
      "source": [
        "def string_label_to_int(label:str) -> int:\n",
        "  conversion_table={\n",
        "      'healthy':0,\n",
        "      'cancer':1,\n",
        "      'post-surgery':2,\n",
        "      'benign':3\n",
        "  }\n",
        "  return conversion_table[label]\n",
        "\n",
        "df_prostata_int_labeled_data = df_prostata_labeled_data.copy()\n",
        "df_prostata_int_labeled_data[\"class\"] = df_prostata_int_labeled_data[\"class\"].map(string_label_to_int)\n",
        "df_prostata_int_labeled_data.head()"
      ],
      "metadata": {
        "colab": {
          "base_uri": "https://localhost:8080/",
          "height": 299
        },
        "id": "YYjSJo2sEt7F",
        "outputId": "e71d2395-21fe-4a36-a99c-4ff3e400e3a9"
      },
      "execution_count": 182,
      "outputs": [
        {
          "output_type": "execute_result",
          "data": {
            "text/plain": [
              "             id  1.07_114.0671n  1.12_150.0556m/z  1.12_224.0537n  \\\n",
              "0  20210420_025      182.886662          0.000000      120.055143   \n",
              "1  20210420_027      169.431590          4.546041      298.457567   \n",
              "2  20210420_029       33.124379       1717.149354      171.340081   \n",
              "3  20210420_031        4.290027          0.000000      322.183226   \n",
              "4  20210420_033      117.150763         29.729792      207.120797   \n",
              "\n",
              "   1.13_129.0550m/z  1.15_269.0995m/z  1.17_194.0451m/z  1.17_247.1177m/z  \\\n",
              "0          0.000000         53.888439         13.536438        418.494145   \n",
              "1        247.820866         67.565281        131.847910        440.554980   \n",
              "2       1002.790531          2.841494         54.081091         21.738453   \n",
              "3        785.579923          0.748938        120.946515          0.000000   \n",
              "4          3.819869         43.164301        330.283424        354.812847   \n",
              "\n",
              "   1.18_102.0671n  1.18_145.0502m/z  ...  9.56_688.4019n  9.63_660.3709n  \\\n",
              "0      372.896710       2668.402959  ...     1490.285661      621.073308   \n",
              "1      309.431770       2286.748016  ...     1051.535354      487.816516   \n",
              "2       24.507923        196.245242  ...      700.821757      324.643771   \n",
              "3       11.281027        161.898929  ...      116.449557       72.462262   \n",
              "4      314.922104       2326.797182  ...     1066.533036      441.929508   \n",
              "\n",
              "   9.72_629.3539m/z  9.76_429.2981m/z  9.78_374.2444n  9.78_472.3024n  \\\n",
              "0       1034.265530         95.745333      432.755695     2489.548822   \n",
              "1        785.175224        104.876552      363.884261     2174.680834   \n",
              "2        379.044638         27.521154       34.158236     1436.779597   \n",
              "3         74.381379         53.015654        7.153705      237.986766   \n",
              "4        558.965544         75.952197      315.557910     1118.011788   \n",
              "\n",
              "   9.95_237.1486m/z  9.95_702.4173n  9.98_498.3171n  class  \n",
              "0         78.370185     1194.614280      401.409910      0  \n",
              "1        108.763407      926.947063      544.896122      0  \n",
              "2         27.398994      510.646098      182.016428      1  \n",
              "3        105.797730       82.331384      144.030763      1  \n",
              "4         99.747356      770.547695      610.577823      2  \n",
              "\n",
              "[5 rows x 764 columns]"
            ],
            "text/html": [
              "\n",
              "  <div id=\"df-118c8a48-26ad-4343-97dc-4018d059fbce\">\n",
              "    <div class=\"colab-df-container\">\n",
              "      <div>\n",
              "<style scoped>\n",
              "    .dataframe tbody tr th:only-of-type {\n",
              "        vertical-align: middle;\n",
              "    }\n",
              "\n",
              "    .dataframe tbody tr th {\n",
              "        vertical-align: top;\n",
              "    }\n",
              "\n",
              "    .dataframe thead th {\n",
              "        text-align: right;\n",
              "    }\n",
              "</style>\n",
              "<table border=\"1\" class=\"dataframe\">\n",
              "  <thead>\n",
              "    <tr style=\"text-align: right;\">\n",
              "      <th></th>\n",
              "      <th>id</th>\n",
              "      <th>1.07_114.0671n</th>\n",
              "      <th>1.12_150.0556m/z</th>\n",
              "      <th>1.12_224.0537n</th>\n",
              "      <th>1.13_129.0550m/z</th>\n",
              "      <th>1.15_269.0995m/z</th>\n",
              "      <th>1.17_194.0451m/z</th>\n",
              "      <th>1.17_247.1177m/z</th>\n",
              "      <th>1.18_102.0671n</th>\n",
              "      <th>1.18_145.0502m/z</th>\n",
              "      <th>...</th>\n",
              "      <th>9.56_688.4019n</th>\n",
              "      <th>9.63_660.3709n</th>\n",
              "      <th>9.72_629.3539m/z</th>\n",
              "      <th>9.76_429.2981m/z</th>\n",
              "      <th>9.78_374.2444n</th>\n",
              "      <th>9.78_472.3024n</th>\n",
              "      <th>9.95_237.1486m/z</th>\n",
              "      <th>9.95_702.4173n</th>\n",
              "      <th>9.98_498.3171n</th>\n",
              "      <th>class</th>\n",
              "    </tr>\n",
              "  </thead>\n",
              "  <tbody>\n",
              "    <tr>\n",
              "      <th>0</th>\n",
              "      <td>20210420_025</td>\n",
              "      <td>182.886662</td>\n",
              "      <td>0.000000</td>\n",
              "      <td>120.055143</td>\n",
              "      <td>0.000000</td>\n",
              "      <td>53.888439</td>\n",
              "      <td>13.536438</td>\n",
              "      <td>418.494145</td>\n",
              "      <td>372.896710</td>\n",
              "      <td>2668.402959</td>\n",
              "      <td>...</td>\n",
              "      <td>1490.285661</td>\n",
              "      <td>621.073308</td>\n",
              "      <td>1034.265530</td>\n",
              "      <td>95.745333</td>\n",
              "      <td>432.755695</td>\n",
              "      <td>2489.548822</td>\n",
              "      <td>78.370185</td>\n",
              "      <td>1194.614280</td>\n",
              "      <td>401.409910</td>\n",
              "      <td>0</td>\n",
              "    </tr>\n",
              "    <tr>\n",
              "      <th>1</th>\n",
              "      <td>20210420_027</td>\n",
              "      <td>169.431590</td>\n",
              "      <td>4.546041</td>\n",
              "      <td>298.457567</td>\n",
              "      <td>247.820866</td>\n",
              "      <td>67.565281</td>\n",
              "      <td>131.847910</td>\n",
              "      <td>440.554980</td>\n",
              "      <td>309.431770</td>\n",
              "      <td>2286.748016</td>\n",
              "      <td>...</td>\n",
              "      <td>1051.535354</td>\n",
              "      <td>487.816516</td>\n",
              "      <td>785.175224</td>\n",
              "      <td>104.876552</td>\n",
              "      <td>363.884261</td>\n",
              "      <td>2174.680834</td>\n",
              "      <td>108.763407</td>\n",
              "      <td>926.947063</td>\n",
              "      <td>544.896122</td>\n",
              "      <td>0</td>\n",
              "    </tr>\n",
              "    <tr>\n",
              "      <th>2</th>\n",
              "      <td>20210420_029</td>\n",
              "      <td>33.124379</td>\n",
              "      <td>1717.149354</td>\n",
              "      <td>171.340081</td>\n",
              "      <td>1002.790531</td>\n",
              "      <td>2.841494</td>\n",
              "      <td>54.081091</td>\n",
              "      <td>21.738453</td>\n",
              "      <td>24.507923</td>\n",
              "      <td>196.245242</td>\n",
              "      <td>...</td>\n",
              "      <td>700.821757</td>\n",
              "      <td>324.643771</td>\n",
              "      <td>379.044638</td>\n",
              "      <td>27.521154</td>\n",
              "      <td>34.158236</td>\n",
              "      <td>1436.779597</td>\n",
              "      <td>27.398994</td>\n",
              "      <td>510.646098</td>\n",
              "      <td>182.016428</td>\n",
              "      <td>1</td>\n",
              "    </tr>\n",
              "    <tr>\n",
              "      <th>3</th>\n",
              "      <td>20210420_031</td>\n",
              "      <td>4.290027</td>\n",
              "      <td>0.000000</td>\n",
              "      <td>322.183226</td>\n",
              "      <td>785.579923</td>\n",
              "      <td>0.748938</td>\n",
              "      <td>120.946515</td>\n",
              "      <td>0.000000</td>\n",
              "      <td>11.281027</td>\n",
              "      <td>161.898929</td>\n",
              "      <td>...</td>\n",
              "      <td>116.449557</td>\n",
              "      <td>72.462262</td>\n",
              "      <td>74.381379</td>\n",
              "      <td>53.015654</td>\n",
              "      <td>7.153705</td>\n",
              "      <td>237.986766</td>\n",
              "      <td>105.797730</td>\n",
              "      <td>82.331384</td>\n",
              "      <td>144.030763</td>\n",
              "      <td>1</td>\n",
              "    </tr>\n",
              "    <tr>\n",
              "      <th>4</th>\n",
              "      <td>20210420_033</td>\n",
              "      <td>117.150763</td>\n",
              "      <td>29.729792</td>\n",
              "      <td>207.120797</td>\n",
              "      <td>3.819869</td>\n",
              "      <td>43.164301</td>\n",
              "      <td>330.283424</td>\n",
              "      <td>354.812847</td>\n",
              "      <td>314.922104</td>\n",
              "      <td>2326.797182</td>\n",
              "      <td>...</td>\n",
              "      <td>1066.533036</td>\n",
              "      <td>441.929508</td>\n",
              "      <td>558.965544</td>\n",
              "      <td>75.952197</td>\n",
              "      <td>315.557910</td>\n",
              "      <td>1118.011788</td>\n",
              "      <td>99.747356</td>\n",
              "      <td>770.547695</td>\n",
              "      <td>610.577823</td>\n",
              "      <td>2</td>\n",
              "    </tr>\n",
              "  </tbody>\n",
              "</table>\n",
              "<p>5 rows × 764 columns</p>\n",
              "</div>\n",
              "      <button class=\"colab-df-convert\" onclick=\"convertToInteractive('df-118c8a48-26ad-4343-97dc-4018d059fbce')\"\n",
              "              title=\"Convert this dataframe to an interactive table.\"\n",
              "              style=\"display:none;\">\n",
              "        \n",
              "  <svg xmlns=\"http://www.w3.org/2000/svg\" height=\"24px\"viewBox=\"0 0 24 24\"\n",
              "       width=\"24px\">\n",
              "    <path d=\"M0 0h24v24H0V0z\" fill=\"none\"/>\n",
              "    <path d=\"M18.56 5.44l.94 2.06.94-2.06 2.06-.94-2.06-.94-.94-2.06-.94 2.06-2.06.94zm-11 1L8.5 8.5l.94-2.06 2.06-.94-2.06-.94L8.5 2.5l-.94 2.06-2.06.94zm10 10l.94 2.06.94-2.06 2.06-.94-2.06-.94-.94-2.06-.94 2.06-2.06.94z\"/><path d=\"M17.41 7.96l-1.37-1.37c-.4-.4-.92-.59-1.43-.59-.52 0-1.04.2-1.43.59L10.3 9.45l-7.72 7.72c-.78.78-.78 2.05 0 2.83L4 21.41c.39.39.9.59 1.41.59.51 0 1.02-.2 1.41-.59l7.78-7.78 2.81-2.81c.8-.78.8-2.07 0-2.86zM5.41 20L4 18.59l7.72-7.72 1.47 1.35L5.41 20z\"/>\n",
              "  </svg>\n",
              "      </button>\n",
              "      \n",
              "  <style>\n",
              "    .colab-df-container {\n",
              "      display:flex;\n",
              "      flex-wrap:wrap;\n",
              "      gap: 12px;\n",
              "    }\n",
              "\n",
              "    .colab-df-convert {\n",
              "      background-color: #E8F0FE;\n",
              "      border: none;\n",
              "      border-radius: 50%;\n",
              "      cursor: pointer;\n",
              "      display: none;\n",
              "      fill: #1967D2;\n",
              "      height: 32px;\n",
              "      padding: 0 0 0 0;\n",
              "      width: 32px;\n",
              "    }\n",
              "\n",
              "    .colab-df-convert:hover {\n",
              "      background-color: #E2EBFA;\n",
              "      box-shadow: 0px 1px 2px rgba(60, 64, 67, 0.3), 0px 1px 3px 1px rgba(60, 64, 67, 0.15);\n",
              "      fill: #174EA6;\n",
              "    }\n",
              "\n",
              "    [theme=dark] .colab-df-convert {\n",
              "      background-color: #3B4455;\n",
              "      fill: #D2E3FC;\n",
              "    }\n",
              "\n",
              "    [theme=dark] .colab-df-convert:hover {\n",
              "      background-color: #434B5C;\n",
              "      box-shadow: 0px 1px 3px 1px rgba(0, 0, 0, 0.15);\n",
              "      filter: drop-shadow(0px 1px 2px rgba(0, 0, 0, 0.3));\n",
              "      fill: #FFFFFF;\n",
              "    }\n",
              "  </style>\n",
              "\n",
              "      <script>\n",
              "        const buttonEl =\n",
              "          document.querySelector('#df-118c8a48-26ad-4343-97dc-4018d059fbce button.colab-df-convert');\n",
              "        buttonEl.style.display =\n",
              "          google.colab.kernel.accessAllowed ? 'block' : 'none';\n",
              "\n",
              "        async function convertToInteractive(key) {\n",
              "          const element = document.querySelector('#df-118c8a48-26ad-4343-97dc-4018d059fbce');\n",
              "          const dataTable =\n",
              "            await google.colab.kernel.invokeFunction('convertToInteractive',\n",
              "                                                     [key], {});\n",
              "          if (!dataTable) return;\n",
              "\n",
              "          const docLinkHtml = 'Like what you see? Visit the ' +\n",
              "            '<a target=\"_blank\" href=https://colab.research.google.com/notebooks/data_table.ipynb>data table notebook</a>'\n",
              "            + ' to learn more about interactive tables.';\n",
              "          element.innerHTML = '';\n",
              "          dataTable['output_type'] = 'display_data';\n",
              "          await google.colab.output.renderOutput(dataTable, element);\n",
              "          const docLink = document.createElement('div');\n",
              "          docLink.innerHTML = docLinkHtml;\n",
              "          element.appendChild(docLink);\n",
              "        }\n",
              "      </script>\n",
              "    </div>\n",
              "  </div>\n",
              "  "
            ]
          },
          "metadata": {},
          "execution_count": 182
        }
      ]
    },
    {
      "cell_type": "code",
      "source": [
        "df_prostata_matrix = np.array(df_prostata_int_labeled_data[df_prostata_int_labeled_data.columns[1:-1]])\n",
        "centralized_prostata = preprocessing.scale(df_prostata_matrix, with_std = False)\n",
        "U, S, Vt = np.linalg.svd(centralized_prostata)\n",
        "eigenvalues = S/len(centralized_prostata)\n",
        "V = Vt.T"
      ],
      "metadata": {
        "id": "CCLbxFwkFT4k"
      },
      "execution_count": 216,
      "outputs": []
    },
    {
      "cell_type": "code",
      "source": [
        "encode_and_decode_with_n_dimensions = lambda n: V[:n,:].T @ V[:n,:] @ centralized_prostata.T\n",
        "get_ecm_for_n_dimensions = lambda n: np.linalg.norm(centralized_prostata.T - encode_and_decode_with_n_dimensions(n)) ** 2\n",
        "x_axis = np.arange(1,len(V)+1)\n",
        "y_axis = [get_ecm_for_n_dimensions(n) for n in x_axis]\n",
        "plt.plot(x_axis, y_axis)\n",
        "plt.xlim(1,len(V))\n",
        "plt.ylim(0,6500000000000)\n",
        "plt.xlabel(\"Numero de componentes\")\n",
        "plt.ylabel(\"Error cuadrático medio / dispersión\");"
      ],
      "metadata": {
        "colab": {
          "base_uri": "https://localhost:8080/",
          "height": 290
        },
        "id": "OFq9bTVmFXkI",
        "outputId": "df6a70a0-ef14-40c9-8025-8db218051f69"
      },
      "execution_count": 217,
      "outputs": [
        {
          "output_type": "display_data",
          "data": {
            "text/plain": [
              "<Figure size 432x288 with 1 Axes>"
            ],
            "image/png": "[encoded data removed]"
          },
          "metadata": {
            "needs_background": "light"
          }
        }
      ]
    },
    {
      "cell_type": "code",
      "source": [
        "N = len(df_prostata_int_labeled_data)\n",
        "eigenvalues = S/N\n",
        "y_axis = [sum(eigenvalues[:number_of_components])/sum(eigenvalues) for number_of_components in x_axis]\n",
        "plt.plot(x_axis, y_axis)\n",
        "plt.xlabel(\"Cantidad de componentes\")\n",
        "plt.ylabel(\"Energía\");"
      ],
      "metadata": {
        "colab": {
          "base_uri": "https://localhost:8080/",
          "height": 279
        },
        "id": "U_5fjq4NI_4q",
        "outputId": "b881efeb-93b2-411b-9934-0cf1de33ecc5"
      },
      "execution_count": 218,
      "outputs": [
        {
          "output_type": "display_data",
          "data": {
            "text/plain": [
              "<Figure size 432x288 with 1 Axes>"
            ],
            "image/png": "[encoded data removed]"
          },
          "metadata": {
            "needs_background": "light"
          }
        }
      ]
    },
    {
      "cell_type": "markdown",
      "source": [
        "### 2)"
      ],
      "metadata": {
        "id": "0D5iLV00JPj5"
      }
    },
    {
      "cell_type": "markdown",
      "source": [
        "Grafique las dos componentes principales, marcando con colores distintos cada\n",
        "clase. ¿Que clase aparenta ser más fácil de clasificar?"
      ],
      "metadata": {
        "id": "36YDY3n6JSMu"
      }
    },
    {
      "cell_type": "code",
      "source": [
        "V_2d =  V[:2,:]\n",
        "projected_data = (V_2d @ centralized_prostata.T).T\n",
        "df_projected_data = pd.DataFrame(projected_data)\n",
        "df_projected_data.columns = [\"First Principal Component\", \"Second Principal Component\"]\n",
        "df_projected_data[\"Class\"] = df_prostata_labeled_data[\"class\"]\n",
        "df_projected_data"
      ],
      "metadata": {
        "colab": {
          "base_uri": "https://localhost:8080/",
          "height": 424
        },
        "id": "Fbps8WPKKQne",
        "outputId": "119579b8-1512-4c0a-af3d-ac8eabea1326"
      },
      "execution_count": 230,
      "outputs": [
        {
          "output_type": "execute_result",
          "data": {
            "text/plain": [
              "     First Principal Component  Second Principal Component         Class\n",
              "0                -35788.757219                 2909.406583       healthy\n",
              "1                -29892.445059                 -358.501707       healthy\n",
              "2                 10986.725215                 -562.859924        cancer\n",
              "3                 22649.885934                -3722.759164        cancer\n",
              "4                 -4859.997885                 4590.741504  post-surgery\n",
              "..                         ...                         ...           ...\n",
              "385              -21915.482202                  598.868541        benign\n",
              "386               16443.016167                -2123.497922        cancer\n",
              "387                5608.331644                -2410.311343        benign\n",
              "388              -15895.601617                 1344.965061        benign\n",
              "389               21077.418708                -3123.532422        cancer\n",
              "\n",
              "[390 rows x 3 columns]"
            ],
            "text/html": [
              "\n",
              "  <div id=\"df-1603660b-fc74-4a41-83ed-ae817efeecb3\">\n",
              "    <div class=\"colab-df-container\">\n",
              "      <div>\n",
              "<style scoped>\n",
              "    .dataframe tbody tr th:only-of-type {\n",
              "        vertical-align: middle;\n",
              "    }\n",
              "\n",
              "    .dataframe tbody tr th {\n",
              "        vertical-align: top;\n",
              "    }\n",
              "\n",
              "    .dataframe thead th {\n",
              "        text-align: right;\n",
              "    }\n",
              "</style>\n",
              "<table border=\"1\" class=\"dataframe\">\n",
              "  <thead>\n",
              "    <tr style=\"text-align: right;\">\n",
              "      <th></th>\n",
              "      <th>First Principal Component</th>\n",
              "      <th>Second Principal Component</th>\n",
              "      <th>Class</th>\n",
              "    </tr>\n",
              "  </thead>\n",
              "  <tbody>\n",
              "    <tr>\n",
              "      <th>0</th>\n",
              "      <td>-35788.757219</td>\n",
              "      <td>2909.406583</td>\n",
              "      <td>healthy</td>\n",
              "    </tr>\n",
              "    <tr>\n",
              "      <th>1</th>\n",
              "      <td>-29892.445059</td>\n",
              "      <td>-358.501707</td>\n",
              "      <td>healthy</td>\n",
              "    </tr>\n",
              "    <tr>\n",
              "      <th>2</th>\n",
              "      <td>10986.725215</td>\n",
              "      <td>-562.859924</td>\n",
              "      <td>cancer</td>\n",
              "    </tr>\n",
              "    <tr>\n",
              "      <th>3</th>\n",
              "      <td>22649.885934</td>\n",
              "      <td>-3722.759164</td>\n",
              "      <td>cancer</td>\n",
              "    </tr>\n",
              "    <tr>\n",
              "      <th>4</th>\n",
              "      <td>-4859.997885</td>\n",
              "      <td>4590.741504</td>\n",
              "      <td>post-surgery</td>\n",
              "    </tr>\n",
              "    <tr>\n",
              "      <th>...</th>\n",
              "      <td>...</td>\n",
              "      <td>...</td>\n",
              "      <td>...</td>\n",
              "    </tr>\n",
              "    <tr>\n",
              "      <th>385</th>\n",
              "      <td>-21915.482202</td>\n",
              "      <td>598.868541</td>\n",
              "      <td>benign</td>\n",
              "    </tr>\n",
              "    <tr>\n",
              "      <th>386</th>\n",
              "      <td>16443.016167</td>\n",
              "      <td>-2123.497922</td>\n",
              "      <td>cancer</td>\n",
              "    </tr>\n",
              "    <tr>\n",
              "      <th>387</th>\n",
              "      <td>5608.331644</td>\n",
              "      <td>-2410.311343</td>\n",
              "      <td>benign</td>\n",
              "    </tr>\n",
              "    <tr>\n",
              "      <th>388</th>\n",
              "      <td>-15895.601617</td>\n",
              "      <td>1344.965061</td>\n",
              "      <td>benign</td>\n",
              "    </tr>\n",
              "    <tr>\n",
              "      <th>389</th>\n",
              "      <td>21077.418708</td>\n",
              "      <td>-3123.532422</td>\n",
              "      <td>cancer</td>\n",
              "    </tr>\n",
              "  </tbody>\n",
              "</table>\n",
              "<p>390 rows × 3 columns</p>\n",
              "</div>\n",
              "      <button class=\"colab-df-convert\" onclick=\"convertToInteractive('df-1603660b-fc74-4a41-83ed-ae817efeecb3')\"\n",
              "              title=\"Convert this dataframe to an interactive table.\"\n",
              "              style=\"display:none;\">\n",
              "        \n",
              "  <svg xmlns=\"http://www.w3.org/2000/svg\" height=\"24px\"viewBox=\"0 0 24 24\"\n",
              "       width=\"24px\">\n",
              "    <path d=\"M0 0h24v24H0V0z\" fill=\"none\"/>\n",
              "    <path d=\"M18.56 5.44l.94 2.06.94-2.06 2.06-.94-2.06-.94-.94-2.06-.94 2.06-2.06.94zm-11 1L8.5 8.5l.94-2.06 2.06-.94-2.06-.94L8.5 2.5l-.94 2.06-2.06.94zm10 10l.94 2.06.94-2.06 2.06-.94-2.06-.94-.94-2.06-.94 2.06-2.06.94z\"/><path d=\"M17.41 7.96l-1.37-1.37c-.4-.4-.92-.59-1.43-.59-.52 0-1.04.2-1.43.59L10.3 9.45l-7.72 7.72c-.78.78-.78 2.05 0 2.83L4 21.41c.39.39.9.59 1.41.59.51 0 1.02-.2 1.41-.59l7.78-7.78 2.81-2.81c.8-.78.8-2.07 0-2.86zM5.41 20L4 18.59l7.72-7.72 1.47 1.35L5.41 20z\"/>\n",
              "  </svg>\n",
              "      </button>\n",
              "      \n",
              "  <style>\n",
              "    .colab-df-container {\n",
              "      display:flex;\n",
              "      flex-wrap:wrap;\n",
              "      gap: 12px;\n",
              "    }\n",
              "\n",
              "    .colab-df-convert {\n",
              "      background-color: #E8F0FE;\n",
              "      border: none;\n",
              "      border-radius: 50%;\n",
              "      cursor: pointer;\n",
              "      display: none;\n",
              "      fill: #1967D2;\n",
              "      height: 32px;\n",
              "      padding: 0 0 0 0;\n",
              "      width: 32px;\n",
              "    }\n",
              "\n",
              "    .colab-df-convert:hover {\n",
              "      background-color: #E2EBFA;\n",
              "      box-shadow: 0px 1px 2px rgba(60, 64, 67, 0.3), 0px 1px 3px 1px rgba(60, 64, 67, 0.15);\n",
              "      fill: #174EA6;\n",
              "    }\n",
              "\n",
              "    [theme=dark] .colab-df-convert {\n",
              "      background-color: #3B4455;\n",
              "      fill: #D2E3FC;\n",
              "    }\n",
              "\n",
              "    [theme=dark] .colab-df-convert:hover {\n",
              "      background-color: #434B5C;\n",
              "      box-shadow: 0px 1px 3px 1px rgba(0, 0, 0, 0.15);\n",
              "      filter: drop-shadow(0px 1px 2px rgba(0, 0, 0, 0.3));\n",
              "      fill: #FFFFFF;\n",
              "    }\n",
              "  </style>\n",
              "\n",
              "      <script>\n",
              "        const buttonEl =\n",
              "          document.querySelector('#df-1603660b-fc74-4a41-83ed-ae817efeecb3 button.colab-df-convert');\n",
              "        buttonEl.style.display =\n",
              "          google.colab.kernel.accessAllowed ? 'block' : 'none';\n",
              "\n",
              "        async function convertToInteractive(key) {\n",
              "          const element = document.querySelector('#df-1603660b-fc74-4a41-83ed-ae817efeecb3');\n",
              "          const dataTable =\n",
              "            await google.colab.kernel.invokeFunction('convertToInteractive',\n",
              "                                                     [key], {});\n",
              "          if (!dataTable) return;\n",
              "\n",
              "          const docLinkHtml = 'Like what you see? Visit the ' +\n",
              "            '<a target=\"_blank\" href=https://colab.research.google.com/notebooks/data_table.ipynb>data table notebook</a>'\n",
              "            + ' to learn more about interactive tables.';\n",
              "          element.innerHTML = '';\n",
              "          dataTable['output_type'] = 'display_data';\n",
              "          await google.colab.output.renderOutput(dataTable, element);\n",
              "          const docLink = document.createElement('div');\n",
              "          docLink.innerHTML = docLinkHtml;\n",
              "          element.appendChild(docLink);\n",
              "        }\n",
              "      </script>\n",
              "    </div>\n",
              "  </div>\n",
              "  "
            ]
          },
          "metadata": {},
          "execution_count": 230
        }
      ]
    },
    {
      "cell_type": "code",
      "source": [
        "sns.scatterplot(data = df_projected_data, x = \"First Principal Component\", y = \"Second Principal Component\", hue = \"Class\")\n",
        "plt.xticks([])\n",
        "plt.yticks([]);"
      ],
      "metadata": {
        "colab": {
          "base_uri": "https://localhost:8080/",
          "height": 262
        },
        "id": "FzoYfoi-mX9a",
        "outputId": "8729208b-1f97-4f29-9999-01637c87a21d"
      },
      "execution_count": 234,
      "outputs": [
        {
          "output_type": "display_data",
          "data": {
            "text/plain": [
              "<Figure size 432x288 with 1 Axes>"
            ],
            "image/png": "[encoded data removed]"
          },
          "metadata": {}
        }
      ]
    },
    {
      "cell_type": "markdown",
      "source": [
        "Podemos observar que la clase más simple de diferenciar es la clase **cancer**"
      ],
      "metadata": {
        "id": "fXNk4MezL8kL"
      }
    },
    {
      "cell_type": "markdown",
      "source": [
        "## MNIST"
      ],
      "metadata": {
        "id": "eRTgufgwMYwP"
      }
    },
    {
      "cell_type": "markdown",
      "source": [
        "### 1)"
      ],
      "metadata": {
        "id": "Wqnik8ZQRCKF"
      }
    },
    {
      "cell_type": "markdown",
      "source": [
        "Utilice los datos de entrenamiento para definir los autovectores de PCA y utilice\n",
        "los datos de testeo para variar la cantidad de componentes principales con las\n",
        "que se quedan para graficar el error cuadrático medio en función de la cantidad\n",
        "de componentes principales. Repita el mismo procedimiento para el porcentaje de\n",
        "energía"
      ],
      "metadata": {
        "id": "TjuzYm6iRD-d"
      }
    },
    {
      "cell_type": "code",
      "source": [
        "mnist = tf.keras.datasets.mnist\n",
        "(train_images, train_labels), (test_images, test_labels) = mnist.load_data()"
      ],
      "metadata": {
        "id": "3s5rbUmtRG9G"
      },
      "execution_count": 251,
      "outputs": []
    },
    {
      "cell_type": "code",
      "source": [
        "rows = np.shape(test_images)[1]**2\n",
        "images_as_vectors = np.array([np.squeeze(image.reshape(1,rows)) for image in test_images])\n",
        "#scaler = preprocessing.StandardScaler().fit(images_as_vectors)\n",
        "#norm_inputs = scaler.transform(images_as_vectors)\n",
        "\n",
        "# Seleccionamos también los targets para cuando entrenemos el modelo\n",
        "targets = test_labels.copy().reshape(len(test_labels), 1)\n",
        "\n",
        "#np.mean(norm_inputs[:,0]), np.std(norm_inputs[:,70])"
      ],
      "metadata": {
        "colab": {
          "base_uri": "https://localhost:8080/"
        },
        "id": "T0gTkjAxRTuF",
        "outputId": "e884dfc3-25f5-493a-fbaa-1e608b64fdee"
      },
      "execution_count": 253,
      "outputs": [
        {
          "output_type": "execute_result",
          "data": {
            "text/plain": [
              "(0.0, 0.9999999999999029)"
            ]
          },
          "metadata": {},
          "execution_count": 253
        }
      ]
    },
    {
      "cell_type": "code",
      "source": [
        "U, S, Vt = np.linalg.svd(images_as_vectors)\n",
        "eigenvalues = S/len(images_as_vectors)\n",
        "V = Vt.T"
      ],
      "metadata": {
        "id": "Qh35tO0ZSs0o"
      },
      "execution_count": 265,
      "outputs": []
    },
    {
      "cell_type": "code",
      "source": [
        "encode_and_decode_with_n_dimensions = lambda n: V[:n,:].T @ V[:n,:] @ images_as_vectors.T\n",
        "get_ecm_for_n_dimensions = lambda n: np.linalg.norm(images_as_vectors.T - encode_and_decode_with_n_dimensions(n)) ** 2\n",
        "x_axis = np.arange(1,len(V)+1)\n",
        "y_axis = [get_ecm_for_n_dimensions(n) for n in x_axis]\n",
        "plt.plot(x_axis, y_axis)\n",
        "plt.xlim(1,len(V))\n",
        "plt.xlabel(\"Numero de componentes\")\n",
        "plt.ylabel(\"Error cuadrático medio / dispersión\");"
      ],
      "metadata": {
        "colab": {
          "base_uri": "https://localhost:8080/",
          "height": 296
        },
        "id": "Vb3-Vrg7TPy-",
        "outputId": "3d30df17-c3ad-4504-ba0d-e6ddd2818fa2"
      },
      "execution_count": 257,
      "outputs": [
        {
          "output_type": "display_data",
          "data": {
            "text/plain": [
              "<Figure size 432x288 with 1 Axes>"
            ],
            "image/png": "[encoded data removed]"
          },
          "metadata": {}
        }
      ]
    },
    {
      "cell_type": "code",
      "source": [
        "N = len(images_as_vectors)\n",
        "eigenvalues = S/N\n",
        "y_axis = [sum(eigenvalues[:number_of_components])/sum(eigenvalues) for number_of_components in x_axis]\n",
        "plt.plot(x_axis, y_axis)\n",
        "plt.xlabel(\"Cantidad de componentes\")\n",
        "plt.ylabel(\"Energía\");"
      ],
      "metadata": {
        "colab": {
          "base_uri": "https://localhost:8080/",
          "height": 285
        },
        "id": "uUHb5weHU7GT",
        "outputId": "223f9878-efbb-4d46-a691-a713d00fbdb7"
      },
      "execution_count": 266,
      "outputs": [
        {
          "output_type": "display_data",
          "data": {
            "text/plain": [
              "<Figure size 432x288 with 1 Axes>"
            ],
            "image/png": "[encoded data removed]"
          },
          "metadata": {}
        }
      ]
    },
    {
      "cell_type": "markdown",
      "source": [
        "### 1)"
      ],
      "metadata": {
        "id": "KVOb-tqqVT2w"
      }
    },
    {
      "cell_type": "markdown",
      "source": [
        "Utilice los datos de entrenamiento para definir los autovectores de PCA y haga\n",
        "la reconstrucción sobre los datos de testeo. A ojo estime cuantas componentes\n",
        "principales se necesitan como mínimo para distinguir los dígitos"
      ],
      "metadata": {
        "id": "OXJczDtzVWDv"
      }
    },
    {
      "cell_type": "markdown",
      "source": [
        "Probemos primero con 700 componentes"
      ],
      "metadata": {
        "id": "iH_5IB63VrIj"
      }
    },
    {
      "cell_type": "code",
      "source": [
        "V_700_d = V[:700,:]\n",
        "reconstruction = (V_700_d.T @ V_700_d @ images_as_vectors.T).T"
      ],
      "metadata": {
        "id": "epZtMEeaVvVb"
      },
      "execution_count": 297,
      "outputs": []
    },
    {
      "cell_type": "code",
      "source": [
        "plt.imshow(images_as_vectors[520].reshape(28,28), cmap = \"gray_r\");"
      ],
      "metadata": {
        "colab": {
          "base_uri": "https://localhost:8080/",
          "height": 268
        },
        "id": "GVJIN-r3WpVA",
        "outputId": "3e9459d6-6d01-4d97-fb6f-914e6de2e0e2"
      },
      "execution_count": 298,
      "outputs": [
        {
          "output_type": "display_data",
          "data": {
            "text/plain": [
              "<Figure size 432x288 with 1 Axes>"
            ],
            "image/png": "[encoded data removed]"
          },
          "metadata": {}
        }
      ]
    },
    {
      "cell_type": "code",
      "source": [
        "plt.imshow(reconstruction[520].reshape(28,28), cmap = \"gray_r\");"
      ],
      "metadata": {
        "colab": {
          "base_uri": "https://localhost:8080/",
          "height": 268
        },
        "id": "Nnk--byCW5qR",
        "outputId": "bd6cb85e-7567-4aa3-99c6-419ebf7b37af"
      },
      "execution_count": 299,
      "outputs": [
        {
          "output_type": "display_data",
          "data": {
            "text/plain": [
              "<Figure size 432x288 with 1 Axes>"
            ],
            "image/png": "[encoded data removed]"
          },
          "metadata": {}
        }
      ]
    },
    {
      "cell_type": "markdown",
      "source": [
        "Con 400, 300 componentes"
      ],
      "metadata": {
        "id": "YWXJk8EjX5y8"
      }
    },
    {
      "cell_type": "code",
      "source": [
        "V_400_d = V[:400,:]\n",
        "reconstruction = (V_400_d.T @ V_400_d @ images_as_vectors.T).T\n",
        "plt.imshow(reconstruction[520].reshape(28,28), cmap = \"gray_r\");"
      ],
      "metadata": {
        "colab": {
          "base_uri": "https://localhost:8080/",
          "height": 268
        },
        "id": "71TmDJ0CYjGj",
        "outputId": "3379f2a4-60b5-47fe-a8dc-d46f65befb87"
      },
      "execution_count": 305,
      "outputs": [
        {
          "output_type": "display_data",
          "data": {
            "text/plain": [
              "<Figure size 432x288 with 1 Axes>"
            ],
            "image/png": "[encoded data removed]"
          },
          "metadata": {}
        }
      ]
    },
    {
      "cell_type": "code",
      "source": [
        "V_300_d = V[:300,:]\n",
        "reconstruction = (V_300_d.T @ V_300_d @ images_as_vectors.T).T\n",
        "plt.imshow(reconstruction[520].reshape(28,28), cmap = \"gray_r\");"
      ],
      "metadata": {
        "colab": {
          "base_uri": "https://localhost:8080/",
          "height": 268
        },
        "id": "Xfalx87BY0EV",
        "outputId": "91943f72-e349-4bab-91ea-1c281738efc1"
      },
      "execution_count": 308,
      "outputs": [
        {
          "output_type": "display_data",
          "data": {
            "text/plain": [
              "<Figure size 432x288 with 1 Axes>"
            ],
            "image/png": "[encoded data removed]"
          },
          "metadata": {}
        }
      ]
    },
    {
      "cell_type": "markdown",
      "source": [
        "Y con número de dimensiones menor a 300 ya se hace muy complicado observar el dígito."
      ],
      "metadata": {
        "id": "0J0cDpF5ZEPk"
      }
    }
  ]
}