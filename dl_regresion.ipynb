{
  "nbformat": 4,
  "nbformat_minor": 0,
  "metadata": {
    "colab": {
      "provenance": [],
      "authorship_tag": "ABX9TyO/oefs1cWEL7y3ucK6HtUB",
      "include_colab_link": true
    },
    "kernelspec": {
      "name": "python3",
      "display_name": "Python 3"
    },
    "language_info": {
      "name": "python"
    }
  },
  "cells": [
    {
      "cell_type": "markdown",
      "metadata": {
        "id": "view-in-github",
        "colab_type": "text"
      },
      "source": [
        "<a href=\"https://colab.research.google.com/github/Nacho2904/CURSO-LEARNING1/blob/tareas/dl_regresion.ipynb\" target=\"_parent\"><img src=\"https://colab.research.google.com/assets/colab-badge.svg\" alt=\"Open In Colab\"/></a>"
      ]
    },
    {
      "cell_type": "markdown",
      "source": [
        "### III.III Regresión"
      ],
      "metadata": {
        "id": "Hw25hdZugOrO"
      }
    },
    {
      "cell_type": "markdown",
      "source": [
        "El archivo \u0010molinos.csv\u0011 contiene datos de potencias acumuladas por un parque eólico\n",
        "para los diferentes vientos. La columna \u0010Velocity\u0011 contiene el módulo del viento en ese\n",
        "instante y la comulna \u0010Direction\u0011 el ángulo de la velocidad medido en sentido horario\n",
        "ubicando el cero en vientos que provienen del norte. Finalmente las columnas \u0010P\u0011 contiene\n",
        "las potencias acumuladas por cada molino."
      ],
      "metadata": {
        "id": "Y6j-1SpDgSf-"
      }
    },
    {
      "cell_type": "markdown",
      "source": [
        "#### III.III.I"
      ],
      "metadata": {
        "id": "nozKwTISgdzm"
      }
    },
    {
      "cell_type": "markdown",
      "source": [
        "Curado de datos: Tirar todas las \u001clas de datos donde haya alguna potencia negativa. Las mismas no tienen sentido, son simplemente errores de medición."
      ],
      "metadata": {
        "id": "75d4qP6Tggf1"
      }
    },
    {
      "cell_type": "markdown",
      "source": [
        "#### III.III.II"
      ],
      "metadata": {
        "id": "AtyA7Pt7gm7M"
      }
    },
    {
      "cell_type": "markdown",
      "source": [
        "Pasar las velocidades a coordenadas cartesianas"
      ],
      "metadata": {
        "id": "8jUmZVs0gqxy"
      }
    },
    {
      "cell_type": "markdown",
      "source": [
        "#### III.III.III"
      ],
      "metadata": {
        "id": "m7PmKyZygsZG"
      }
    },
    {
      "cell_type": "markdown",
      "source": [
        "Entrenar un regresor que estime la velocidad del viento (dos dimensiones cartesia-\n",
        "nas) en función de las potencias. Para ello separar los datos como crea conveniente."
      ],
      "metadata": {
        "id": "7zvwKh9jgu71"
      }
    },
    {
      "cell_type": "markdown",
      "source": [
        "#### III.III.IV"
      ],
      "metadata": {
        "id": "UR1NyTGRgxN7"
      }
    },
    {
      "cell_type": "markdown",
      "source": [
        "Crear un script que levante el modelo entrenado y permita probarlo. Tiene que\n",
        "devolver el error cuadrático medio (básicamente esto signi\u001cca que hay un set de\n",
        "datos que no les paso que lo voy a usar para probar su algoritmo). Tenga en cuenta\n",
        "que el formato de los datos será el mismo que este dataset (módulo y fase en sentido\n",
        "horario con respecto al viento del norte)"
      ],
      "metadata": {
        "id": "Q10dZC59g0ad"
      }
    }
  ]
}