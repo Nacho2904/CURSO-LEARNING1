{
  "nbformat": 4,
  "nbformat_minor": 0,
  "metadata": {
    "colab": {
      "provenance": [],
      "authorship_tag": "ABX9TyNVvQfFyr+Hx9ORstusbBci",
      "include_colab_link": true
    },
    "kernelspec": {
      "name": "python3",
      "display_name": "Python 3"
    },
    "language_info": {
      "name": "python"
    }
  },
  "cells": [
    {
      "cell_type": "markdown",
      "metadata": {
        "id": "view-in-github",
        "colab_type": "text"
      },
      "source": [
        "<a href=\"https://colab.research.google.com/github/Nacho2904/CURSO-LEARNING1/blob/tareas/clasificador_de_novelas.ipynb\" target=\"_parent\"><img src=\"https://colab.research.google.com/assets/colab-badge.svg\" alt=\"Open In Colab\"/></a>"
      ]
    },
    {
      "cell_type": "code",
      "execution_count": 12,
      "metadata": {
        "colab": {
          "base_uri": "https://localhost:8080/"
        },
        "id": "s3EloT3TzTwb",
        "outputId": "951378d3-1a71-4f3e-8d7d-65a60ddb8a7c"
      },
      "outputs": [
        {
          "output_type": "stream",
          "name": "stdout",
          "text": [
            "Drive already mounted at /content/gdrive; to attempt to forcibly remount, call drive.mount(\"/content/gdrive\", force_remount=True).\n"
          ]
        }
      ],
      "source": [
        "import pandas as pd\n",
        "import matplotlib.pyplot as plt\n",
        "import seaborn as sns\n",
        "import numpy as np\n",
        "import nltk\n",
        "from google.colab import drive \n",
        "import sqlite3\n",
        "\n",
        "drive.mount('/content/gdrive')\n",
        "path_a_db = 'gdrive/MyDrive/novelassql.db'"
      ]
    },
    {
      "cell_type": "code",
      "source": [
        "con = sqlite3.connect(path_a_db)\n",
        "cur = con.cursor()"
      ],
      "metadata": {
        "id": "bz5DV-yIztt-"
      },
      "execution_count": 13,
      "outputs": []
    },
    {
      "cell_type": "code",
      "source": [
        "cur.execute('SELECT title FROM novelas LIMIT 5')\n",
        "cur.fetchall()\n"
      ],
      "metadata": {
        "colab": {
          "base_uri": "https://localhost:8080/"
        },
        "id": "PdhGUWLE0rAe",
        "outputId": "6d3ee83f-6eed-4443-d65d-ac97665dc137"
      },
      "execution_count": 17,
      "outputs": [
        {
          "output_type": "execute_result",
          "data": {
            "text/plain": [
              "[('80 Years Of Signing-In At The Cold Palace, I Am Unrivalled',),\n",
              " ('999 Times Training System',),\n",
              " ('A Certain Hogwarts Magician Professor',),\n",
              " ('A Certain Marvel Super Player',),\n",
              " ('A Hundredfold Training System Instantly Upgrades 999',)]"
            ]
          },
          "metadata": {},
          "execution_count": 17
        }
      ]
    },
    {
      "cell_type": "code",
      "source": [
        "df_novelas = pd.read_sql_query(\"SELECT * from novelas\", con)"
      ],
      "metadata": {
        "id": "yTBjDQo-1Lbu"
      },
      "execution_count": 22,
      "outputs": []
    },
    {
      "cell_type": "code",
      "source": [
        "df_novelas.loc[\"id\"] = pd.to_numeric(df_novelas[\"id\"], errors = \"coerce\")\n",
        "df_novelas = df_novelas[df_novelas[\"id\"].notnull()]\n",
        "df_novelas[\"id\"] = np.int64(df_novelas[\"id\"] + 1)"
      ],
      "metadata": {
        "colab": {
          "base_uri": "https://localhost:8080/"
        },
        "id": "LpblXkgo1Xte",
        "outputId": "ba7eced1-eb4a-425a-bf71-62b4a7aacbd4"
      },
      "execution_count": 39,
      "outputs": [
        {
          "output_type": "stream",
          "name": "stderr",
          "text": [
            "/usr/local/lib/python3.7/dist-packages/ipykernel_launcher.py:3: SettingWithCopyWarning: \n",
            "A value is trying to be set on a copy of a slice from a DataFrame.\n",
            "Try using .loc[row_indexer,col_indexer] = value instead\n",
            "\n",
            "See the caveats in the documentation: https://pandas.pydata.org/pandas-docs/stable/user_guide/indexing.html#returning-a-view-versus-a-copy\n",
            "  This is separate from the ipykernel package so we can avoid doing imports until\n"
          ]
        }
      ]
    },
    {
      "cell_type": "code",
      "source": [
        "df_novelas"
      ],
      "metadata": {
        "colab": {
          "base_uri": "https://localhost:8080/",
          "height": 641
        },
        "id": "Ju2M1Vta1p4H",
        "outputId": "239124a0-c598-400e-85a4-182d6afa8739"
      },
      "execution_count": 40,
      "outputs": [
        {
          "output_type": "execute_result",
          "data": {
            "text/plain": [
              "      id                                              title  \\\n",
              "0      1      Game of Thrones: Wrath of the Sleeping Dragon   \n",
              "1      2  A Hundredfold Training System Instantly Upgrad...   \n",
              "2      3  Scoring the Sacred Body of the Ancients from t...   \n",
              "3      4                                Godly Choice System   \n",
              "4      5        Rebirth of the Best Businesswoman at School   \n",
              "..   ...                                                ...   \n",
              "514  515                      Naruto: The Strongest Kakashi   \n",
              "515  516              Marvel Comics Devouring the God Genes   \n",
              "516  517                            Uchiha’s Life Simulator   \n",
              "517  518  Sign In to Cake Island, Start With Top-Notch Haki   \n",
              "518  519                                        Sky War God   \n",
              "\n",
              "                      author  \\\n",
              "0      Purple Taro Ice Cream   \n",
              "1             Coming for Koi   \n",
              "2                      God J   \n",
              "3             Ye Huo Fen Xin   \n",
              "4    The cold is approaching   \n",
              "..                       ...   \n",
              "514   Mo Yuan Nine Inkstones   \n",
              "515                    Weird   \n",
              "516                hit mango   \n",
              "517          Pirate Merchant   \n",
              "518          WanMu ZhengRong   \n",
              "\n",
              "                                                genres  \\\n",
              "0                              'Action', 'Fan-Fiction'   \n",
              "1         'Action', 'Adventure', 'Fantasy', 'Xuanhuan'   \n",
              "2         'Action', 'Adventure', 'Fantasy', 'Xuanhuan'   \n",
              "3                                         'Urban Life'   \n",
              "4                              'Romance', 'Urban Life'   \n",
              "..                                                 ...   \n",
              "514    'Action', 'Adventure', 'Fan-Fiction', 'Fantasy'   \n",
              "515                 'Fan-Fiction', 'Fantasy', 'Sci-Fi'   \n",
              "516               'Fan-Fiction', 'Fantasy', 'Xuanhuan'   \n",
              "517                                      'Fan-Fiction'   \n",
              "518  'Action', 'Adventure', 'Fantasy', 'Martial Art...   \n",
              "\n",
              "                                               summary  \\\n",
              "0    \\r\\n\\r\\n[Song of Ice and Fire Doujin]Crossing ...   \n",
              "1    \\r\\n\\r\\nTake a step, experience 10,100 times, ...   \n",
              "2    \\r\\n\\r\\nJun Xiaoyao was transported to a mysti...   \n",
              "3    \\r\\n\\r\\nOrdinary high school students get a go...   \n",
              "4    \\r\\n\\r\\nIn my previous life, I was humiliated ...   \n",
              "..                                                 ...   \n",
              "514  \\r\\n\\r\\nIn the Night of Nine Tails attack, the...   \n",
              "515  \\r\\n\\r\\nReborn in Marvel, Ino inherits the umb...   \n",
              "516  \\r\\n\\r\\nPeople are in Uchiha, and there is sti...   \n",
              "517  \\r\\n\\r\\nYe Yi traveled through the world of pi...   \n",
              "518  \\r\\n\\r\\nLingtian Continent is vast and endless...   \n",
              "\n",
              "                               first_ten_chapters_text  \n",
              "0    ['\\u3000\\u3000 rumbling—\\n\\u3000\\u3000 The dea...  \n",
              "1    ['\"Ding! Congratulations on your successful bi...  \n",
              "2    ['\\u3000\\u3000 Huangzhou, one of the three tho...  \n",
              "3    ['Zhonghai City, Longyang County.\\nAs the top ...  \n",
              "4    ['The warm spring sun fell sporadically on the...  \n",
              "..                                                 ...  \n",
              "514  ['Long silver-white hair, black cloth face mas...  \n",
              "515  ['Chapter 1 .Missouri: Flower of the Gods [1]\\...  \n",
              "516  [\"Author Rong, please make a quibble. The main...  \n",
              "517  [' New WorldTotto Land\\n Totto Land is a power...  \n",
              "518  ['In Lingtian Continent, martial arts are resp...  \n",
              "\n",
              "[519 rows x 6 columns]"
            ],
            "text/html": [
              "\n",
              "  <div id=\"df-e1f9d066-6d66-4869-9f56-2c7dadc609c9\">\n",
              "    <div class=\"colab-df-container\">\n",
              "      <div>\n",
              "<style scoped>\n",
              "    .dataframe tbody tr th:only-of-type {\n",
              "        vertical-align: middle;\n",
              "    }\n",
              "\n",
              "    .dataframe tbody tr th {\n",
              "        vertical-align: top;\n",
              "    }\n",
              "\n",
              "    .dataframe thead th {\n",
              "        text-align: right;\n",
              "    }\n",
              "</style>\n",
              "<table border=\"1\" class=\"dataframe\">\n",
              "  <thead>\n",
              "    <tr style=\"text-align: right;\">\n",
              "      <th></th>\n",
              "      <th>id</th>\n",
              "      <th>title</th>\n",
              "      <th>author</th>\n",
              "      <th>genres</th>\n",
              "      <th>summary</th>\n",
              "      <th>first_ten_chapters_text</th>\n",
              "    </tr>\n",
              "  </thead>\n",
              "  <tbody>\n",
              "    <tr>\n",
              "      <th>0</th>\n",
              "      <td>1</td>\n",
              "      <td>Game of Thrones: Wrath of the Sleeping Dragon</td>\n",
              "      <td>Purple Taro Ice Cream</td>\n",
              "      <td>'Action', 'Fan-Fiction'</td>\n",
              "      <td>\\r\\n\\r\\n[Song of Ice and Fire Doujin]Crossing ...</td>\n",
              "      <td>['\\u3000\\u3000 rumbling—\\n\\u3000\\u3000 The dea...</td>\n",
              "    </tr>\n",
              "    <tr>\n",
              "      <th>1</th>\n",
              "      <td>2</td>\n",
              "      <td>A Hundredfold Training System Instantly Upgrad...</td>\n",
              "      <td>Coming for Koi</td>\n",
              "      <td>'Action', 'Adventure', 'Fantasy', 'Xuanhuan'</td>\n",
              "      <td>\\r\\n\\r\\nTake a step, experience 10,100 times, ...</td>\n",
              "      <td>['\"Ding! Congratulations on your successful bi...</td>\n",
              "    </tr>\n",
              "    <tr>\n",
              "      <th>2</th>\n",
              "      <td>3</td>\n",
              "      <td>Scoring the Sacred Body of the Ancients from t...</td>\n",
              "      <td>God J</td>\n",
              "      <td>'Action', 'Adventure', 'Fantasy', 'Xuanhuan'</td>\n",
              "      <td>\\r\\n\\r\\nJun Xiaoyao was transported to a mysti...</td>\n",
              "      <td>['\\u3000\\u3000 Huangzhou, one of the three tho...</td>\n",
              "    </tr>\n",
              "    <tr>\n",
              "      <th>3</th>\n",
              "      <td>4</td>\n",
              "      <td>Godly Choice System</td>\n",
              "      <td>Ye Huo Fen Xin</td>\n",
              "      <td>'Urban Life'</td>\n",
              "      <td>\\r\\n\\r\\nOrdinary high school students get a go...</td>\n",
              "      <td>['Zhonghai City, Longyang County.\\nAs the top ...</td>\n",
              "    </tr>\n",
              "    <tr>\n",
              "      <th>4</th>\n",
              "      <td>5</td>\n",
              "      <td>Rebirth of the Best Businesswoman at School</td>\n",
              "      <td>The cold is approaching</td>\n",
              "      <td>'Romance', 'Urban Life'</td>\n",
              "      <td>\\r\\n\\r\\nIn my previous life, I was humiliated ...</td>\n",
              "      <td>['The warm spring sun fell sporadically on the...</td>\n",
              "    </tr>\n",
              "    <tr>\n",
              "      <th>...</th>\n",
              "      <td>...</td>\n",
              "      <td>...</td>\n",
              "      <td>...</td>\n",
              "      <td>...</td>\n",
              "      <td>...</td>\n",
              "      <td>...</td>\n",
              "    </tr>\n",
              "    <tr>\n",
              "      <th>514</th>\n",
              "      <td>515</td>\n",
              "      <td>Naruto: The Strongest Kakashi</td>\n",
              "      <td>Mo Yuan Nine Inkstones</td>\n",
              "      <td>'Action', 'Adventure', 'Fan-Fiction', 'Fantasy'</td>\n",
              "      <td>\\r\\n\\r\\nIn the Night of Nine Tails attack, the...</td>\n",
              "      <td>['Long silver-white hair, black cloth face mas...</td>\n",
              "    </tr>\n",
              "    <tr>\n",
              "      <th>515</th>\n",
              "      <td>516</td>\n",
              "      <td>Marvel Comics Devouring the God Genes</td>\n",
              "      <td>Weird</td>\n",
              "      <td>'Fan-Fiction', 'Fantasy', 'Sci-Fi'</td>\n",
              "      <td>\\r\\n\\r\\nReborn in Marvel, Ino inherits the umb...</td>\n",
              "      <td>['Chapter 1 .Missouri: Flower of the Gods [1]\\...</td>\n",
              "    </tr>\n",
              "    <tr>\n",
              "      <th>516</th>\n",
              "      <td>517</td>\n",
              "      <td>Uchiha’s Life Simulator</td>\n",
              "      <td>hit mango</td>\n",
              "      <td>'Fan-Fiction', 'Fantasy', 'Xuanhuan'</td>\n",
              "      <td>\\r\\n\\r\\nPeople are in Uchiha, and there is sti...</td>\n",
              "      <td>[\"Author Rong, please make a quibble. The main...</td>\n",
              "    </tr>\n",
              "    <tr>\n",
              "      <th>517</th>\n",
              "      <td>518</td>\n",
              "      <td>Sign In to Cake Island, Start With Top-Notch Haki</td>\n",
              "      <td>Pirate Merchant</td>\n",
              "      <td>'Fan-Fiction'</td>\n",
              "      <td>\\r\\n\\r\\nYe Yi traveled through the world of pi...</td>\n",
              "      <td>[' New WorldTotto Land\\n Totto Land is a power...</td>\n",
              "    </tr>\n",
              "    <tr>\n",
              "      <th>518</th>\n",
              "      <td>519</td>\n",
              "      <td>Sky War God</td>\n",
              "      <td>WanMu ZhengRong</td>\n",
              "      <td>'Action', 'Adventure', 'Fantasy', 'Martial Art...</td>\n",
              "      <td>\\r\\n\\r\\nLingtian Continent is vast and endless...</td>\n",
              "      <td>['In Lingtian Continent, martial arts are resp...</td>\n",
              "    </tr>\n",
              "  </tbody>\n",
              "</table>\n",
              "<p>519 rows × 6 columns</p>\n",
              "</div>\n",
              "      <button class=\"colab-df-convert\" onclick=\"convertToInteractive('df-e1f9d066-6d66-4869-9f56-2c7dadc609c9')\"\n",
              "              title=\"Convert this dataframe to an interactive table.\"\n",
              "              style=\"display:none;\">\n",
              "        \n",
              "  <svg xmlns=\"http://www.w3.org/2000/svg\" height=\"24px\"viewBox=\"0 0 24 24\"\n",
              "       width=\"24px\">\n",
              "    <path d=\"M0 0h24v24H0V0z\" fill=\"none\"/>\n",
              "    <path d=\"M18.56 5.44l.94 2.06.94-2.06 2.06-.94-2.06-.94-.94-2.06-.94 2.06-2.06.94zm-11 1L8.5 8.5l.94-2.06 2.06-.94-2.06-.94L8.5 2.5l-.94 2.06-2.06.94zm10 10l.94 2.06.94-2.06 2.06-.94-2.06-.94-.94-2.06-.94 2.06-2.06.94z\"/><path d=\"M17.41 7.96l-1.37-1.37c-.4-.4-.92-.59-1.43-.59-.52 0-1.04.2-1.43.59L10.3 9.45l-7.72 7.72c-.78.78-.78 2.05 0 2.83L4 21.41c.39.39.9.59 1.41.59.51 0 1.02-.2 1.41-.59l7.78-7.78 2.81-2.81c.8-.78.8-2.07 0-2.86zM5.41 20L4 18.59l7.72-7.72 1.47 1.35L5.41 20z\"/>\n",
              "  </svg>\n",
              "      </button>\n",
              "      \n",
              "  <style>\n",
              "    .colab-df-container {\n",
              "      display:flex;\n",
              "      flex-wrap:wrap;\n",
              "      gap: 12px;\n",
              "    }\n",
              "\n",
              "    .colab-df-convert {\n",
              "      background-color: #E8F0FE;\n",
              "      border: none;\n",
              "      border-radius: 50%;\n",
              "      cursor: pointer;\n",
              "      display: none;\n",
              "      fill: #1967D2;\n",
              "      height: 32px;\n",
              "      padding: 0 0 0 0;\n",
              "      width: 32px;\n",
              "    }\n",
              "\n",
              "    .colab-df-convert:hover {\n",
              "      background-color: #E2EBFA;\n",
              "      box-shadow: 0px 1px 2px rgba(60, 64, 67, 0.3), 0px 1px 3px 1px rgba(60, 64, 67, 0.15);\n",
              "      fill: #174EA6;\n",
              "    }\n",
              "\n",
              "    [theme=dark] .colab-df-convert {\n",
              "      background-color: #3B4455;\n",
              "      fill: #D2E3FC;\n",
              "    }\n",
              "\n",
              "    [theme=dark] .colab-df-convert:hover {\n",
              "      background-color: #434B5C;\n",
              "      box-shadow: 0px 1px 3px 1px rgba(0, 0, 0, 0.15);\n",
              "      filter: drop-shadow(0px 1px 2px rgba(0, 0, 0, 0.3));\n",
              "      fill: #FFFFFF;\n",
              "    }\n",
              "  </style>\n",
              "\n",
              "      <script>\n",
              "        const buttonEl =\n",
              "          document.querySelector('#df-e1f9d066-6d66-4869-9f56-2c7dadc609c9 button.colab-df-convert');\n",
              "        buttonEl.style.display =\n",
              "          google.colab.kernel.accessAllowed ? 'block' : 'none';\n",
              "\n",
              "        async function convertToInteractive(key) {\n",
              "          const element = document.querySelector('#df-e1f9d066-6d66-4869-9f56-2c7dadc609c9');\n",
              "          const dataTable =\n",
              "            await google.colab.kernel.invokeFunction('convertToInteractive',\n",
              "                                                     [key], {});\n",
              "          if (!dataTable) return;\n",
              "\n",
              "          const docLinkHtml = 'Like what you see? Visit the ' +\n",
              "            '<a target=\"_blank\" href=https://colab.research.google.com/notebooks/data_table.ipynb>data table notebook</a>'\n",
              "            + ' to learn more about interactive tables.';\n",
              "          element.innerHTML = '';\n",
              "          dataTable['output_type'] = 'display_data';\n",
              "          await google.colab.output.renderOutput(dataTable, element);\n",
              "          const docLink = document.createElement('div');\n",
              "          docLink.innerHTML = docLinkHtml;\n",
              "          element.appendChild(docLink);\n",
              "        }\n",
              "      </script>\n",
              "    </div>\n",
              "  </div>\n",
              "  "
            ]
          },
          "metadata": {},
          "execution_count": 40
        }
      ]
    }
  ]
}