{
  "nbformat": 4,
  "nbformat_minor": 0,
  "metadata": {
    "colab": {
      "provenance": [],
      "authorship_tag": "ABX9TyN1jb8BTvpu9odFpkRcVyAh",
      "include_colab_link": true
    },
    "kernelspec": {
      "name": "python3",
      "display_name": "Python 3"
    },
    "language_info": {
      "name": "python"
    }
  },
  "cells": [
    {
      "cell_type": "markdown",
      "metadata": {
        "id": "view-in-github",
        "colab_type": "text"
      },
      "source": [
        "<a href=\"https://colab.research.google.com/github/Nacho2904/CURSO-LEARNING1/blob/tareas/clasificador_de_novelas.ipynb\" target=\"_parent\"><img src=\"https://colab.research.google.com/assets/colab-badge.svg\" alt=\"Open In Colab\"/></a>"
      ]
    },
    {
      "cell_type": "markdown",
      "source": [
        "# Clasificación de novelas"
      ],
      "metadata": {
        "id": "fKBVpUKJAolF"
      }
    },
    {
      "cell_type": "code",
      "execution_count": 102,
      "metadata": {
        "colab": {
          "base_uri": "https://localhost:8080/"
        },
        "id": "s3EloT3TzTwb",
        "outputId": "084850b0-5e55-4591-8e43-e45566b754c1"
      },
      "outputs": [
        {
          "output_type": "stream",
          "name": "stdout",
          "text": [
            "Drive already mounted at /content/gdrive; to attempt to forcibly remount, call drive.mount(\"/content/gdrive\", force_remount=True).\n"
          ]
        }
      ],
      "source": [
        "import pandas as pd\n",
        "import matplotlib.pyplot as plt\n",
        "import seaborn as sns\n",
        "import numpy as np\n",
        "import nltk\n",
        "from google.colab import drive \n",
        "import sqlite3\n",
        "from tqdm import tqdm\n",
        "\n",
        "drive.mount('/content/gdrive')\n",
        "path_a_db = 'gdrive/MyDrive/novelassql.db'"
      ]
    },
    {
      "cell_type": "code",
      "source": [
        "con = sqlite3.connect(path_a_db)\n",
        "cur = con.cursor()"
      ],
      "metadata": {
        "id": "bz5DV-yIztt-"
      },
      "execution_count": 103,
      "outputs": []
    },
    {
      "cell_type": "code",
      "source": [
        "cur.execute('SELECT title FROM novelas LIMIT 5')\n",
        "cur.fetchall()\n"
      ],
      "metadata": {
        "colab": {
          "base_uri": "https://localhost:8080/"
        },
        "id": "PdhGUWLE0rAe",
        "outputId": "0f849a8d-ebd7-4cca-b8f6-95fc08ccdda7"
      },
      "execution_count": 104,
      "outputs": [
        {
          "output_type": "execute_result",
          "data": {
            "text/plain": [
              "[('80 Years Of Signing-In At The Cold Palace, I Am Unrivalled',),\n",
              " ('999 Times Training System',),\n",
              " ('A Certain Hogwarts Magician Professor',),\n",
              " ('A Certain Marvel Super Player',),\n",
              " ('A Hundredfold Training System Instantly Upgrades 999',)]"
            ]
          },
          "metadata": {},
          "execution_count": 104
        }
      ]
    },
    {
      "cell_type": "code",
      "source": [
        "df_novelas = pd.read_sql_query(\"SELECT * from novelas\", con)\n",
        "df_generos = pd.read_sql_query(\"SELECT * FROM novelas_y_categorias\", con)"
      ],
      "metadata": {
        "id": "yTBjDQo-1Lbu"
      },
      "execution_count": 127,
      "outputs": []
    },
    {
      "cell_type": "code",
      "source": [
        "df_novelas.loc[\"id\"] = pd.to_numeric(df_novelas[\"id\"], errors = \"coerce\")\n",
        "df_novelas = df_novelas[df_novelas[\"id\"].notnull()]\n",
        "df_novelas[\"id\"] = np.int64(df_novelas[\"id\"] + 1)\n",
        "\n",
        "df_generos.loc[\"id_novela\"] = pd.to_numeric(df_generos[\"id_novela\"], errors = \"coerce\")\n",
        "df_generos = df_generos[df_generos[\"id_novela\"].notnull()]\n",
        "df_generos[\"id_novela\"] = np.int64(df_generos[\"id_novela\"] + 1)\n",
        "df_generos.columns = [\"id\", \"genero\"]"
      ],
      "metadata": {
        "colab": {
          "base_uri": "https://localhost:8080/"
        },
        "id": "LpblXkgo1Xte",
        "outputId": "8e547c39-2d04-440b-c5fc-7320bc71f523"
      },
      "execution_count": 132,
      "outputs": [
        {
          "output_type": "stream",
          "name": "stderr",
          "text": [
            "/usr/local/lib/python3.7/dist-packages/ipykernel_launcher.py:3: SettingWithCopyWarning: \n",
            "A value is trying to be set on a copy of a slice from a DataFrame.\n",
            "Try using .loc[row_indexer,col_indexer] = value instead\n",
            "\n",
            "See the caveats in the documentation: https://pandas.pydata.org/pandas-docs/stable/user_guide/indexing.html#returning-a-view-versus-a-copy\n",
            "  This is separate from the ipykernel package so we can avoid doing imports until\n",
            "/usr/local/lib/python3.7/dist-packages/ipykernel_launcher.py:7: SettingWithCopyWarning: \n",
            "A value is trying to be set on a copy of a slice from a DataFrame.\n",
            "Try using .loc[row_indexer,col_indexer] = value instead\n",
            "\n",
            "See the caveats in the documentation: https://pandas.pydata.org/pandas-docs/stable/user_guide/indexing.html#returning-a-view-versus-a-copy\n",
            "  import sys\n"
          ]
        }
      ]
    },
    {
      "cell_type": "code",
      "source": [
        "def normalize_text(corpus,stop_words=None):\n",
        "\n",
        "  # Convierto a lowercase\n",
        "  corpus_lower = corpus.str.lower()\n",
        "\n",
        "  # Elimino signos de puntuación, caracteres raros, etc.\n",
        "  normalized_corpus = corpus_lower.str.replace(r\"[^\\w\\d\\s]+\",\"\",regex=True)\n",
        "\n",
        "  # Elimino espacios innecesarios\n",
        "  normalized_corpus = normalized_corpus.str.replace(r\"\\s+\",\" \",regex=True)\n",
        "\n",
        "  return normalized_corpus"
      ],
      "metadata": {
        "id": "B7RsvVJK8VBH"
      },
      "execution_count": 107,
      "outputs": []
    },
    {
      "cell_type": "code",
      "source": [
        "from nltk.corpus import stopwords\n",
        "nltk.download('stopwords')\n",
        "nltk.download('punkt')"
      ],
      "metadata": {
        "colab": {
          "base_uri": "https://localhost:8080/"
        },
        "id": "GRZxC8qm9Dkg",
        "outputId": "b0d0a964-54b8-4479-b0c6-99ea4ef1bff4"
      },
      "execution_count": 108,
      "outputs": [
        {
          "output_type": "stream",
          "name": "stderr",
          "text": [
            "[nltk_data] Downloading package stopwords to /root/nltk_data...\n",
            "[nltk_data]   Package stopwords is already up-to-date!\n",
            "[nltk_data] Downloading package punkt to /root/nltk_data...\n",
            "[nltk_data]   Package punkt is already up-to-date!\n"
          ]
        },
        {
          "output_type": "execute_result",
          "data": {
            "text/plain": [
              "True"
            ]
          },
          "metadata": {},
          "execution_count": 108
        }
      ]
    },
    {
      "cell_type": "code",
      "source": [
        "from nltk import word_tokenize\n",
        "from collections import defaultdict\n",
        "df_novelas_modificado = df_novelas.copy()\n",
        "\n",
        "def create_vocabulary(corpus,tokenizer,max_tokens=40000,min_freq=1):\n",
        "  counts = defaultdict(lambda: 0)\n",
        "  for comment in tqdm(corpus):\n",
        "    for token in tokenizer(comment):\n",
        "      counts[token] += 1\n",
        "\n",
        "  valid_tokens = sorted([tk for tk in counts.keys() if counts[tk] >= min_freq],key=counts.get,reverse=True)[:max_tokens]\n",
        "  counts = [counts[tk] for tk in valid_tokens]\n",
        "  return pd.Series(counts,index=valid_tokens)\n",
        "\n",
        "df_novelas_modificado[\"summary\"] = normalize_text(df_novelas[\"summary\"],stop_words=stopwords.words('english'))\n",
        "df_novelas_modificado[\"first_ten_chapters_text\"] = normalize_text(df_novelas[\"first_ten_chapters_text\"],stop_words=stopwords.words('english'))\n",
        "\n",
        "vocab = create_vocabulary(df_novelas[\"first_ten_chapters_text\"],word_tokenize,max_tokens=10000,min_freq=5)\n",
        "\n",
        "fig, ax = plt.subplots(1,1,figsize=(20,8))\n",
        "vocab[:100].plot(kind=\"bar\",ax=ax,fontsize=10);"
      ],
      "metadata": {
        "colab": {
          "base_uri": "https://localhost:8080/",
          "height": 569
        },
        "id": "dYqvmr09_ZvP",
        "outputId": "b55a6398-6dc7-459e-914d-141077b7c722"
      },
      "execution_count": 133,
      "outputs": [
        {
          "output_type": "stream",
          "name": "stderr",
          "text": [
            "100%|██████████| 519/519 [00:43<00:00, 11.86it/s]\n"
          ]
        },
        {
          "output_type": "display_data",
          "data": {
            "text/plain": [
              "<Figure size 1440x576 with 1 Axes>"
            ],
            "image/png": "[encoded data removed]"
          },
          "metadata": {
            "needs_background": "light"
          }
        }
      ]
    },
    {
      "cell_type": "code",
      "source": [
        "df_novelas_modificado.head()"
      ],
      "metadata": {
        "colab": {
          "base_uri": "https://localhost:8080/",
          "height": 337
        },
        "id": "QcJkaahQEAXd",
        "outputId": "fe0f8d32-f96c-4429-dd6f-a681213f0389"
      },
      "execution_count": 114,
      "outputs": [
        {
          "output_type": "execute_result",
          "data": {
            "text/plain": [
              "   id                                              title  \\\n",
              "0   0      Game of Thrones: Wrath of the Sleeping Dragon   \n",
              "1   1  A Hundredfold Training System Instantly Upgrad...   \n",
              "2   2  Scoring the Sacred Body of the Ancients from t...   \n",
              "3   3                                Godly Choice System   \n",
              "4   4        Rebirth of the Best Businesswoman at School   \n",
              "\n",
              "                    author                                        genres  \\\n",
              "0    Purple Taro Ice Cream                       'Action', 'Fan-Fiction'   \n",
              "1           Coming for Koi  'Action', 'Adventure', 'Fantasy', 'Xuanhuan'   \n",
              "2                    God J  'Action', 'Adventure', 'Fantasy', 'Xuanhuan'   \n",
              "3           Ye Huo Fen Xin                                  'Urban Life'   \n",
              "4  The cold is approaching                       'Romance', 'Urban Life'   \n",
              "\n",
              "                                             summary  \\\n",
              "0   song of ice and fire doujincrossing became th...   \n",
              "1   take a step experience 10100 times basic stan...   \n",
              "2   jun xiaoyao was transported to a mystical wor...   \n",
              "3   ordinary high school students get a godlevel ...   \n",
              "4   in my previous life i was humiliated every da...   \n",
              "\n",
              "                             first_ten_chapters_text  \n",
              "0  u3000u3000 rumblingnu3000u3000 the deafening s...  \n",
              "1  ding congratulations on your successful bindin...  \n",
              "2  u3000u3000 huangzhou one of the three thousand...  \n",
              "3  zhonghai city longyang countynas the top three...  \n",
              "4  the warm spring sun fell sporadically on the w...  "
            ],
            "text/html": [
              "\n",
              "  <div id=\"df-aa1a3796-c0e5-42eb-9447-0ffa0ab5a30f\">\n",
              "    <div class=\"colab-df-container\">\n",
              "      <div>\n",
              "<style scoped>\n",
              "    .dataframe tbody tr th:only-of-type {\n",
              "        vertical-align: middle;\n",
              "    }\n",
              "\n",
              "    .dataframe tbody tr th {\n",
              "        vertical-align: top;\n",
              "    }\n",
              "\n",
              "    .dataframe thead th {\n",
              "        text-align: right;\n",
              "    }\n",
              "</style>\n",
              "<table border=\"1\" class=\"dataframe\">\n",
              "  <thead>\n",
              "    <tr style=\"text-align: right;\">\n",
              "      <th></th>\n",
              "      <th>id</th>\n",
              "      <th>title</th>\n",
              "      <th>author</th>\n",
              "      <th>genres</th>\n",
              "      <th>summary</th>\n",
              "      <th>first_ten_chapters_text</th>\n",
              "    </tr>\n",
              "  </thead>\n",
              "  <tbody>\n",
              "    <tr>\n",
              "      <th>0</th>\n",
              "      <td>0</td>\n",
              "      <td>Game of Thrones: Wrath of the Sleeping Dragon</td>\n",
              "      <td>Purple Taro Ice Cream</td>\n",
              "      <td>'Action', 'Fan-Fiction'</td>\n",
              "      <td>song of ice and fire doujincrossing became th...</td>\n",
              "      <td>u3000u3000 rumblingnu3000u3000 the deafening s...</td>\n",
              "    </tr>\n",
              "    <tr>\n",
              "      <th>1</th>\n",
              "      <td>1</td>\n",
              "      <td>A Hundredfold Training System Instantly Upgrad...</td>\n",
              "      <td>Coming for Koi</td>\n",
              "      <td>'Action', 'Adventure', 'Fantasy', 'Xuanhuan'</td>\n",
              "      <td>take a step experience 10100 times basic stan...</td>\n",
              "      <td>ding congratulations on your successful bindin...</td>\n",
              "    </tr>\n",
              "    <tr>\n",
              "      <th>2</th>\n",
              "      <td>2</td>\n",
              "      <td>Scoring the Sacred Body of the Ancients from t...</td>\n",
              "      <td>God J</td>\n",
              "      <td>'Action', 'Adventure', 'Fantasy', 'Xuanhuan'</td>\n",
              "      <td>jun xiaoyao was transported to a mystical wor...</td>\n",
              "      <td>u3000u3000 huangzhou one of the three thousand...</td>\n",
              "    </tr>\n",
              "    <tr>\n",
              "      <th>3</th>\n",
              "      <td>3</td>\n",
              "      <td>Godly Choice System</td>\n",
              "      <td>Ye Huo Fen Xin</td>\n",
              "      <td>'Urban Life'</td>\n",
              "      <td>ordinary high school students get a godlevel ...</td>\n",
              "      <td>zhonghai city longyang countynas the top three...</td>\n",
              "    </tr>\n",
              "    <tr>\n",
              "      <th>4</th>\n",
              "      <td>4</td>\n",
              "      <td>Rebirth of the Best Businesswoman at School</td>\n",
              "      <td>The cold is approaching</td>\n",
              "      <td>'Romance', 'Urban Life'</td>\n",
              "      <td>in my previous life i was humiliated every da...</td>\n",
              "      <td>the warm spring sun fell sporadically on the w...</td>\n",
              "    </tr>\n",
              "  </tbody>\n",
              "</table>\n",
              "</div>\n",
              "      <button class=\"colab-df-convert\" onclick=\"convertToInteractive('df-aa1a3796-c0e5-42eb-9447-0ffa0ab5a30f')\"\n",
              "              title=\"Convert this dataframe to an interactive table.\"\n",
              "              style=\"display:none;\">\n",
              "        \n",
              "  <svg xmlns=\"http://www.w3.org/2000/svg\" height=\"24px\"viewBox=\"0 0 24 24\"\n",
              "       width=\"24px\">\n",
              "    <path d=\"M0 0h24v24H0V0z\" fill=\"none\"/>\n",
              "    <path d=\"M18.56 5.44l.94 2.06.94-2.06 2.06-.94-2.06-.94-.94-2.06-.94 2.06-2.06.94zm-11 1L8.5 8.5l.94-2.06 2.06-.94-2.06-.94L8.5 2.5l-.94 2.06-2.06.94zm10 10l.94 2.06.94-2.06 2.06-.94-2.06-.94-.94-2.06-.94 2.06-2.06.94z\"/><path d=\"M17.41 7.96l-1.37-1.37c-.4-.4-.92-.59-1.43-.59-.52 0-1.04.2-1.43.59L10.3 9.45l-7.72 7.72c-.78.78-.78 2.05 0 2.83L4 21.41c.39.39.9.59 1.41.59.51 0 1.02-.2 1.41-.59l7.78-7.78 2.81-2.81c.8-.78.8-2.07 0-2.86zM5.41 20L4 18.59l7.72-7.72 1.47 1.35L5.41 20z\"/>\n",
              "  </svg>\n",
              "      </button>\n",
              "      \n",
              "  <style>\n",
              "    .colab-df-container {\n",
              "      display:flex;\n",
              "      flex-wrap:wrap;\n",
              "      gap: 12px;\n",
              "    }\n",
              "\n",
              "    .colab-df-convert {\n",
              "      background-color: #E8F0FE;\n",
              "      border: none;\n",
              "      border-radius: 50%;\n",
              "      cursor: pointer;\n",
              "      display: none;\n",
              "      fill: #1967D2;\n",
              "      height: 32px;\n",
              "      padding: 0 0 0 0;\n",
              "      width: 32px;\n",
              "    }\n",
              "\n",
              "    .colab-df-convert:hover {\n",
              "      background-color: #E2EBFA;\n",
              "      box-shadow: 0px 1px 2px rgba(60, 64, 67, 0.3), 0px 1px 3px 1px rgba(60, 64, 67, 0.15);\n",
              "      fill: #174EA6;\n",
              "    }\n",
              "\n",
              "    [theme=dark] .colab-df-convert {\n",
              "      background-color: #3B4455;\n",
              "      fill: #D2E3FC;\n",
              "    }\n",
              "\n",
              "    [theme=dark] .colab-df-convert:hover {\n",
              "      background-color: #434B5C;\n",
              "      box-shadow: 0px 1px 3px 1px rgba(0, 0, 0, 0.15);\n",
              "      filter: drop-shadow(0px 1px 2px rgba(0, 0, 0, 0.3));\n",
              "      fill: #FFFFFF;\n",
              "    }\n",
              "  </style>\n",
              "\n",
              "      <script>\n",
              "        const buttonEl =\n",
              "          document.querySelector('#df-aa1a3796-c0e5-42eb-9447-0ffa0ab5a30f button.colab-df-convert');\n",
              "        buttonEl.style.display =\n",
              "          google.colab.kernel.accessAllowed ? 'block' : 'none';\n",
              "\n",
              "        async function convertToInteractive(key) {\n",
              "          const element = document.querySelector('#df-aa1a3796-c0e5-42eb-9447-0ffa0ab5a30f');\n",
              "          const dataTable =\n",
              "            await google.colab.kernel.invokeFunction('convertToInteractive',\n",
              "                                                     [key], {});\n",
              "          if (!dataTable) return;\n",
              "\n",
              "          const docLinkHtml = 'Like what you see? Visit the ' +\n",
              "            '<a target=\"_blank\" href=https://colab.research.google.com/notebooks/data_table.ipynb>data table notebook</a>'\n",
              "            + ' to learn more about interactive tables.';\n",
              "          element.innerHTML = '';\n",
              "          dataTable['output_type'] = 'display_data';\n",
              "          await google.colab.output.renderOutput(dataTable, element);\n",
              "          const docLink = document.createElement('div');\n",
              "          docLink.innerHTML = docLinkHtml;\n",
              "          element.appendChild(docLink);\n",
              "        }\n",
              "      </script>\n",
              "    </div>\n",
              "  </div>\n",
              "  "
            ]
          },
          "metadata": {},
          "execution_count": 114
        }
      ]
    },
    {
      "cell_type": "code",
      "source": [
        "df_novelas_train = df_novelas_modificado[:int(len(df_novelas)*0.8)][[\"id\",\"first_ten_chapters_text\"]]\n",
        "df_novelas_test = df_novelas_modificado[int(len(df_novelas)*0.8):][[\"id\",\"first_ten_chapters_text\"]]"
      ],
      "metadata": {
        "id": "TQXfXMCoEsVW"
      },
      "execution_count": 125,
      "outputs": []
    },
    {
      "cell_type": "code",
      "source": [
        "df_novelas_train.merge(df_)"
      ],
      "metadata": {
        "colab": {
          "base_uri": "https://localhost:8080/",
          "height": 424
        },
        "id": "_gC3cbw7HP_9",
        "outputId": "502240ac-dd9f-4c6a-c2ad-ee47b7dfff79"
      },
      "execution_count": 126,
      "outputs": [
        {
          "output_type": "execute_result",
          "data": {
            "text/plain": [
              "      id                            first_ten_chapters_text\n",
              "0      0  u3000u3000 rumblingnu3000u3000 the deafening s...\n",
              "1      1  ding congratulations on your successful bindin...\n",
              "2      2  u3000u3000 huangzhou one of the three thousand...\n",
              "3      3  zhonghai city longyang countynas the top three...\n",
              "4      4  the warm spring sun fell sporadically on the w...\n",
              "..   ...                                                ...\n",
              "410  410  the breeze blows the branches and leaves and t...\n",
              "411  411  u3000u3000 how long do you want to be advanced...\n",
              "412  412  20201103n firmament star azure dragon domain p...\n",
              "413  413  chapter 1 downhillnfinally out of the mountain...\n",
              "414  414  chapter 1 young angelnyamei province gru townn...\n",
              "\n",
              "[415 rows x 2 columns]"
            ],
            "text/html": [
              "\n",
              "  <div id=\"df-35a25c7e-3d9f-4346-bd5d-a7f05519f1d4\">\n",
              "    <div class=\"colab-df-container\">\n",
              "      <div>\n",
              "<style scoped>\n",
              "    .dataframe tbody tr th:only-of-type {\n",
              "        vertical-align: middle;\n",
              "    }\n",
              "\n",
              "    .dataframe tbody tr th {\n",
              "        vertical-align: top;\n",
              "    }\n",
              "\n",
              "    .dataframe thead th {\n",
              "        text-align: right;\n",
              "    }\n",
              "</style>\n",
              "<table border=\"1\" class=\"dataframe\">\n",
              "  <thead>\n",
              "    <tr style=\"text-align: right;\">\n",
              "      <th></th>\n",
              "      <th>id</th>\n",
              "      <th>first_ten_chapters_text</th>\n",
              "    </tr>\n",
              "  </thead>\n",
              "  <tbody>\n",
              "    <tr>\n",
              "      <th>0</th>\n",
              "      <td>0</td>\n",
              "      <td>u3000u3000 rumblingnu3000u3000 the deafening s...</td>\n",
              "    </tr>\n",
              "    <tr>\n",
              "      <th>1</th>\n",
              "      <td>1</td>\n",
              "      <td>ding congratulations on your successful bindin...</td>\n",
              "    </tr>\n",
              "    <tr>\n",
              "      <th>2</th>\n",
              "      <td>2</td>\n",
              "      <td>u3000u3000 huangzhou one of the three thousand...</td>\n",
              "    </tr>\n",
              "    <tr>\n",
              "      <th>3</th>\n",
              "      <td>3</td>\n",
              "      <td>zhonghai city longyang countynas the top three...</td>\n",
              "    </tr>\n",
              "    <tr>\n",
              "      <th>4</th>\n",
              "      <td>4</td>\n",
              "      <td>the warm spring sun fell sporadically on the w...</td>\n",
              "    </tr>\n",
              "    <tr>\n",
              "      <th>...</th>\n",
              "      <td>...</td>\n",
              "      <td>...</td>\n",
              "    </tr>\n",
              "    <tr>\n",
              "      <th>410</th>\n",
              "      <td>410</td>\n",
              "      <td>the breeze blows the branches and leaves and t...</td>\n",
              "    </tr>\n",
              "    <tr>\n",
              "      <th>411</th>\n",
              "      <td>411</td>\n",
              "      <td>u3000u3000 how long do you want to be advanced...</td>\n",
              "    </tr>\n",
              "    <tr>\n",
              "      <th>412</th>\n",
              "      <td>412</td>\n",
              "      <td>20201103n firmament star azure dragon domain p...</td>\n",
              "    </tr>\n",
              "    <tr>\n",
              "      <th>413</th>\n",
              "      <td>413</td>\n",
              "      <td>chapter 1 downhillnfinally out of the mountain...</td>\n",
              "    </tr>\n",
              "    <tr>\n",
              "      <th>414</th>\n",
              "      <td>414</td>\n",
              "      <td>chapter 1 young angelnyamei province gru townn...</td>\n",
              "    </tr>\n",
              "  </tbody>\n",
              "</table>\n",
              "<p>415 rows × 2 columns</p>\n",
              "</div>\n",
              "      <button class=\"colab-df-convert\" onclick=\"convertToInteractive('df-35a25c7e-3d9f-4346-bd5d-a7f05519f1d4')\"\n",
              "              title=\"Convert this dataframe to an interactive table.\"\n",
              "              style=\"display:none;\">\n",
              "        \n",
              "  <svg xmlns=\"http://www.w3.org/2000/svg\" height=\"24px\"viewBox=\"0 0 24 24\"\n",
              "       width=\"24px\">\n",
              "    <path d=\"M0 0h24v24H0V0z\" fill=\"none\"/>\n",
              "    <path d=\"M18.56 5.44l.94 2.06.94-2.06 2.06-.94-2.06-.94-.94-2.06-.94 2.06-2.06.94zm-11 1L8.5 8.5l.94-2.06 2.06-.94-2.06-.94L8.5 2.5l-.94 2.06-2.06.94zm10 10l.94 2.06.94-2.06 2.06-.94-2.06-.94-.94-2.06-.94 2.06-2.06.94z\"/><path d=\"M17.41 7.96l-1.37-1.37c-.4-.4-.92-.59-1.43-.59-.52 0-1.04.2-1.43.59L10.3 9.45l-7.72 7.72c-.78.78-.78 2.05 0 2.83L4 21.41c.39.39.9.59 1.41.59.51 0 1.02-.2 1.41-.59l7.78-7.78 2.81-2.81c.8-.78.8-2.07 0-2.86zM5.41 20L4 18.59l7.72-7.72 1.47 1.35L5.41 20z\"/>\n",
              "  </svg>\n",
              "      </button>\n",
              "      \n",
              "  <style>\n",
              "    .colab-df-container {\n",
              "      display:flex;\n",
              "      flex-wrap:wrap;\n",
              "      gap: 12px;\n",
              "    }\n",
              "\n",
              "    .colab-df-convert {\n",
              "      background-color: #E8F0FE;\n",
              "      border: none;\n",
              "      border-radius: 50%;\n",
              "      cursor: pointer;\n",
              "      display: none;\n",
              "      fill: #1967D2;\n",
              "      height: 32px;\n",
              "      padding: 0 0 0 0;\n",
              "      width: 32px;\n",
              "    }\n",
              "\n",
              "    .colab-df-convert:hover {\n",
              "      background-color: #E2EBFA;\n",
              "      box-shadow: 0px 1px 2px rgba(60, 64, 67, 0.3), 0px 1px 3px 1px rgba(60, 64, 67, 0.15);\n",
              "      fill: #174EA6;\n",
              "    }\n",
              "\n",
              "    [theme=dark] .colab-df-convert {\n",
              "      background-color: #3B4455;\n",
              "      fill: #D2E3FC;\n",
              "    }\n",
              "\n",
              "    [theme=dark] .colab-df-convert:hover {\n",
              "      background-color: #434B5C;\n",
              "      box-shadow: 0px 1px 3px 1px rgba(0, 0, 0, 0.15);\n",
              "      filter: drop-shadow(0px 1px 2px rgba(0, 0, 0, 0.3));\n",
              "      fill: #FFFFFF;\n",
              "    }\n",
              "  </style>\n",
              "\n",
              "      <script>\n",
              "        const buttonEl =\n",
              "          document.querySelector('#df-35a25c7e-3d9f-4346-bd5d-a7f05519f1d4 button.colab-df-convert');\n",
              "        buttonEl.style.display =\n",
              "          google.colab.kernel.accessAllowed ? 'block' : 'none';\n",
              "\n",
              "        async function convertToInteractive(key) {\n",
              "          const element = document.querySelector('#df-35a25c7e-3d9f-4346-bd5d-a7f05519f1d4');\n",
              "          const dataTable =\n",
              "            await google.colab.kernel.invokeFunction('convertToInteractive',\n",
              "                                                     [key], {});\n",
              "          if (!dataTable) return;\n",
              "\n",
              "          const docLinkHtml = 'Like what you see? Visit the ' +\n",
              "            '<a target=\"_blank\" href=https://colab.research.google.com/notebooks/data_table.ipynb>data table notebook</a>'\n",
              "            + ' to learn more about interactive tables.';\n",
              "          element.innerHTML = '';\n",
              "          dataTable['output_type'] = 'display_data';\n",
              "          await google.colab.output.renderOutput(dataTable, element);\n",
              "          const docLink = document.createElement('div');\n",
              "          docLink.innerHTML = docLinkHtml;\n",
              "          element.appendChild(docLink);\n",
              "        }\n",
              "      </script>\n",
              "    </div>\n",
              "  </div>\n",
              "  "
            ]
          },
          "metadata": {},
          "execution_count": 126
        }
      ]
    }
  ]
}